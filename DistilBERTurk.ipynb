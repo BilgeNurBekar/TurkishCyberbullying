{
  "nbformat": 4,
  "nbformat_minor": 0,
  "metadata": {
    "colab": {
      "provenance": [],
      "gpuType": "T4"
    },
    "kernelspec": {
      "name": "python3",
      "display_name": "Python 3"
    },
    "language_info": {
      "name": "python"
    },
    "accelerator": "GPU",
    "widgets": {
      "application/vnd.jupyter.widget-state+json": {
        "f21063498b9a49f794da6d3434776689": {
          "model_module": "@jupyter-widgets/controls",
          "model_name": "HBoxModel",
          "model_module_version": "1.5.0",
          "state": {
            "_dom_classes": [],
            "_model_module": "@jupyter-widgets/controls",
            "_model_module_version": "1.5.0",
            "_model_name": "HBoxModel",
            "_view_count": null,
            "_view_module": "@jupyter-widgets/controls",
            "_view_module_version": "1.5.0",
            "_view_name": "HBoxView",
            "box_style": "",
            "children": [
              "IPY_MODEL_d63b451ad4ab4c3a91f046b57b100455",
              "IPY_MODEL_5948b779f0aa40cb96d3093590fbbe04",
              "IPY_MODEL_da3c3b4433674634926a2f388d21e43a"
            ],
            "layout": "IPY_MODEL_6512648bfa4a4bda9700358257a852d0"
          }
        },
        "d63b451ad4ab4c3a91f046b57b100455": {
          "model_module": "@jupyter-widgets/controls",
          "model_name": "HTMLModel",
          "model_module_version": "1.5.0",
          "state": {
            "_dom_classes": [],
            "_model_module": "@jupyter-widgets/controls",
            "_model_module_version": "1.5.0",
            "_model_name": "HTMLModel",
            "_view_count": null,
            "_view_module": "@jupyter-widgets/controls",
            "_view_module_version": "1.5.0",
            "_view_name": "HTMLView",
            "description": "",
            "description_tooltip": null,
            "layout": "IPY_MODEL_e3d74c7c6e294a7d9ec807a351250068",
            "placeholder": "​",
            "style": "IPY_MODEL_66eb6e16d4724267998e886535296176",
            "value": "tokenizer_config.json: 100%"
          }
        },
        "5948b779f0aa40cb96d3093590fbbe04": {
          "model_module": "@jupyter-widgets/controls",
          "model_name": "FloatProgressModel",
          "model_module_version": "1.5.0",
          "state": {
            "_dom_classes": [],
            "_model_module": "@jupyter-widgets/controls",
            "_model_module_version": "1.5.0",
            "_model_name": "FloatProgressModel",
            "_view_count": null,
            "_view_module": "@jupyter-widgets/controls",
            "_view_module_version": "1.5.0",
            "_view_name": "ProgressView",
            "bar_style": "success",
            "description": "",
            "description_tooltip": null,
            "layout": "IPY_MODEL_323b4f06e7734c3daf4faca4bb63f9ab",
            "max": 60,
            "min": 0,
            "orientation": "horizontal",
            "style": "IPY_MODEL_15c1c08c2cdf4a1698cbbfd83ca5a756",
            "value": 60
          }
        },
        "da3c3b4433674634926a2f388d21e43a": {
          "model_module": "@jupyter-widgets/controls",
          "model_name": "HTMLModel",
          "model_module_version": "1.5.0",
          "state": {
            "_dom_classes": [],
            "_model_module": "@jupyter-widgets/controls",
            "_model_module_version": "1.5.0",
            "_model_name": "HTMLModel",
            "_view_count": null,
            "_view_module": "@jupyter-widgets/controls",
            "_view_module_version": "1.5.0",
            "_view_name": "HTMLView",
            "description": "",
            "description_tooltip": null,
            "layout": "IPY_MODEL_b7071ab26d71420698b912e3f0a191e5",
            "placeholder": "​",
            "style": "IPY_MODEL_db4e70a8794947ddb555488f08472ded",
            "value": " 60.0/60.0 [00:00&lt;00:00, 4.14kB/s]"
          }
        },
        "6512648bfa4a4bda9700358257a852d0": {
          "model_module": "@jupyter-widgets/base",
          "model_name": "LayoutModel",
          "model_module_version": "1.2.0",
          "state": {
            "_model_module": "@jupyter-widgets/base",
            "_model_module_version": "1.2.0",
            "_model_name": "LayoutModel",
            "_view_count": null,
            "_view_module": "@jupyter-widgets/base",
            "_view_module_version": "1.2.0",
            "_view_name": "LayoutView",
            "align_content": null,
            "align_items": null,
            "align_self": null,
            "border": null,
            "bottom": null,
            "display": null,
            "flex": null,
            "flex_flow": null,
            "grid_area": null,
            "grid_auto_columns": null,
            "grid_auto_flow": null,
            "grid_auto_rows": null,
            "grid_column": null,
            "grid_gap": null,
            "grid_row": null,
            "grid_template_areas": null,
            "grid_template_columns": null,
            "grid_template_rows": null,
            "height": null,
            "justify_content": null,
            "justify_items": null,
            "left": null,
            "margin": null,
            "max_height": null,
            "max_width": null,
            "min_height": null,
            "min_width": null,
            "object_fit": null,
            "object_position": null,
            "order": null,
            "overflow": null,
            "overflow_x": null,
            "overflow_y": null,
            "padding": null,
            "right": null,
            "top": null,
            "visibility": null,
            "width": null
          }
        },
        "e3d74c7c6e294a7d9ec807a351250068": {
          "model_module": "@jupyter-widgets/base",
          "model_name": "LayoutModel",
          "model_module_version": "1.2.0",
          "state": {
            "_model_module": "@jupyter-widgets/base",
            "_model_module_version": "1.2.0",
            "_model_name": "LayoutModel",
            "_view_count": null,
            "_view_module": "@jupyter-widgets/base",
            "_view_module_version": "1.2.0",
            "_view_name": "LayoutView",
            "align_content": null,
            "align_items": null,
            "align_self": null,
            "border": null,
            "bottom": null,
            "display": null,
            "flex": null,
            "flex_flow": null,
            "grid_area": null,
            "grid_auto_columns": null,
            "grid_auto_flow": null,
            "grid_auto_rows": null,
            "grid_column": null,
            "grid_gap": null,
            "grid_row": null,
            "grid_template_areas": null,
            "grid_template_columns": null,
            "grid_template_rows": null,
            "height": null,
            "justify_content": null,
            "justify_items": null,
            "left": null,
            "margin": null,
            "max_height": null,
            "max_width": null,
            "min_height": null,
            "min_width": null,
            "object_fit": null,
            "object_position": null,
            "order": null,
            "overflow": null,
            "overflow_x": null,
            "overflow_y": null,
            "padding": null,
            "right": null,
            "top": null,
            "visibility": null,
            "width": null
          }
        },
        "66eb6e16d4724267998e886535296176": {
          "model_module": "@jupyter-widgets/controls",
          "model_name": "DescriptionStyleModel",
          "model_module_version": "1.5.0",
          "state": {
            "_model_module": "@jupyter-widgets/controls",
            "_model_module_version": "1.5.0",
            "_model_name": "DescriptionStyleModel",
            "_view_count": null,
            "_view_module": "@jupyter-widgets/base",
            "_view_module_version": "1.2.0",
            "_view_name": "StyleView",
            "description_width": ""
          }
        },
        "323b4f06e7734c3daf4faca4bb63f9ab": {
          "model_module": "@jupyter-widgets/base",
          "model_name": "LayoutModel",
          "model_module_version": "1.2.0",
          "state": {
            "_model_module": "@jupyter-widgets/base",
            "_model_module_version": "1.2.0",
            "_model_name": "LayoutModel",
            "_view_count": null,
            "_view_module": "@jupyter-widgets/base",
            "_view_module_version": "1.2.0",
            "_view_name": "LayoutView",
            "align_content": null,
            "align_items": null,
            "align_self": null,
            "border": null,
            "bottom": null,
            "display": null,
            "flex": null,
            "flex_flow": null,
            "grid_area": null,
            "grid_auto_columns": null,
            "grid_auto_flow": null,
            "grid_auto_rows": null,
            "grid_column": null,
            "grid_gap": null,
            "grid_row": null,
            "grid_template_areas": null,
            "grid_template_columns": null,
            "grid_template_rows": null,
            "height": null,
            "justify_content": null,
            "justify_items": null,
            "left": null,
            "margin": null,
            "max_height": null,
            "max_width": null,
            "min_height": null,
            "min_width": null,
            "object_fit": null,
            "object_position": null,
            "order": null,
            "overflow": null,
            "overflow_x": null,
            "overflow_y": null,
            "padding": null,
            "right": null,
            "top": null,
            "visibility": null,
            "width": null
          }
        },
        "15c1c08c2cdf4a1698cbbfd83ca5a756": {
          "model_module": "@jupyter-widgets/controls",
          "model_name": "ProgressStyleModel",
          "model_module_version": "1.5.0",
          "state": {
            "_model_module": "@jupyter-widgets/controls",
            "_model_module_version": "1.5.0",
            "_model_name": "ProgressStyleModel",
            "_view_count": null,
            "_view_module": "@jupyter-widgets/base",
            "_view_module_version": "1.2.0",
            "_view_name": "StyleView",
            "bar_color": null,
            "description_width": ""
          }
        },
        "b7071ab26d71420698b912e3f0a191e5": {
          "model_module": "@jupyter-widgets/base",
          "model_name": "LayoutModel",
          "model_module_version": "1.2.0",
          "state": {
            "_model_module": "@jupyter-widgets/base",
            "_model_module_version": "1.2.0",
            "_model_name": "LayoutModel",
            "_view_count": null,
            "_view_module": "@jupyter-widgets/base",
            "_view_module_version": "1.2.0",
            "_view_name": "LayoutView",
            "align_content": null,
            "align_items": null,
            "align_self": null,
            "border": null,
            "bottom": null,
            "display": null,
            "flex": null,
            "flex_flow": null,
            "grid_area": null,
            "grid_auto_columns": null,
            "grid_auto_flow": null,
            "grid_auto_rows": null,
            "grid_column": null,
            "grid_gap": null,
            "grid_row": null,
            "grid_template_areas": null,
            "grid_template_columns": null,
            "grid_template_rows": null,
            "height": null,
            "justify_content": null,
            "justify_items": null,
            "left": null,
            "margin": null,
            "max_height": null,
            "max_width": null,
            "min_height": null,
            "min_width": null,
            "object_fit": null,
            "object_position": null,
            "order": null,
            "overflow": null,
            "overflow_x": null,
            "overflow_y": null,
            "padding": null,
            "right": null,
            "top": null,
            "visibility": null,
            "width": null
          }
        },
        "db4e70a8794947ddb555488f08472ded": {
          "model_module": "@jupyter-widgets/controls",
          "model_name": "DescriptionStyleModel",
          "model_module_version": "1.5.0",
          "state": {
            "_model_module": "@jupyter-widgets/controls",
            "_model_module_version": "1.5.0",
            "_model_name": "DescriptionStyleModel",
            "_view_count": null,
            "_view_module": "@jupyter-widgets/base",
            "_view_module_version": "1.2.0",
            "_view_name": "StyleView",
            "description_width": ""
          }
        },
        "de23f9c27c614422bfac9c584388cc8b": {
          "model_module": "@jupyter-widgets/controls",
          "model_name": "HBoxModel",
          "model_module_version": "1.5.0",
          "state": {
            "_dom_classes": [],
            "_model_module": "@jupyter-widgets/controls",
            "_model_module_version": "1.5.0",
            "_model_name": "HBoxModel",
            "_view_count": null,
            "_view_module": "@jupyter-widgets/controls",
            "_view_module_version": "1.5.0",
            "_view_name": "HBoxView",
            "box_style": "",
            "children": [
              "IPY_MODEL_0a52b66c42be4cbc8ed544a467cdda5f",
              "IPY_MODEL_03b1d4c463484343baf5e1b73eb78ce1",
              "IPY_MODEL_5dee55e109634d26b1a4ae5199b1b2ba"
            ],
            "layout": "IPY_MODEL_596b824880ac4bf48cb8442d7473ad17"
          }
        },
        "0a52b66c42be4cbc8ed544a467cdda5f": {
          "model_module": "@jupyter-widgets/controls",
          "model_name": "HTMLModel",
          "model_module_version": "1.5.0",
          "state": {
            "_dom_classes": [],
            "_model_module": "@jupyter-widgets/controls",
            "_model_module_version": "1.5.0",
            "_model_name": "HTMLModel",
            "_view_count": null,
            "_view_module": "@jupyter-widgets/controls",
            "_view_module_version": "1.5.0",
            "_view_name": "HTMLView",
            "description": "",
            "description_tooltip": null,
            "layout": "IPY_MODEL_596cd20e2262482295d35ed1824c90ff",
            "placeholder": "​",
            "style": "IPY_MODEL_74c17ed7492e4b20a66a99b784ee6ec8",
            "value": "vocab.txt: 100%"
          }
        },
        "03b1d4c463484343baf5e1b73eb78ce1": {
          "model_module": "@jupyter-widgets/controls",
          "model_name": "FloatProgressModel",
          "model_module_version": "1.5.0",
          "state": {
            "_dom_classes": [],
            "_model_module": "@jupyter-widgets/controls",
            "_model_module_version": "1.5.0",
            "_model_name": "FloatProgressModel",
            "_view_count": null,
            "_view_module": "@jupyter-widgets/controls",
            "_view_module_version": "1.5.0",
            "_view_name": "ProgressView",
            "bar_style": "success",
            "description": "",
            "description_tooltip": null,
            "layout": "IPY_MODEL_9cf4be466bb9436581b03b8e4fcb86bd",
            "max": 251003,
            "min": 0,
            "orientation": "horizontal",
            "style": "IPY_MODEL_f7d884b1a82240e09706eaaf2fa1fee9",
            "value": 251003
          }
        },
        "5dee55e109634d26b1a4ae5199b1b2ba": {
          "model_module": "@jupyter-widgets/controls",
          "model_name": "HTMLModel",
          "model_module_version": "1.5.0",
          "state": {
            "_dom_classes": [],
            "_model_module": "@jupyter-widgets/controls",
            "_model_module_version": "1.5.0",
            "_model_name": "HTMLModel",
            "_view_count": null,
            "_view_module": "@jupyter-widgets/controls",
            "_view_module_version": "1.5.0",
            "_view_name": "HTMLView",
            "description": "",
            "description_tooltip": null,
            "layout": "IPY_MODEL_c017a66e261d49b9bdd822c40622125e",
            "placeholder": "​",
            "style": "IPY_MODEL_9167f207dad4405abf150506e5682299",
            "value": " 251k/251k [00:00&lt;00:00, 3.98MB/s]"
          }
        },
        "596b824880ac4bf48cb8442d7473ad17": {
          "model_module": "@jupyter-widgets/base",
          "model_name": "LayoutModel",
          "model_module_version": "1.2.0",
          "state": {
            "_model_module": "@jupyter-widgets/base",
            "_model_module_version": "1.2.0",
            "_model_name": "LayoutModel",
            "_view_count": null,
            "_view_module": "@jupyter-widgets/base",
            "_view_module_version": "1.2.0",
            "_view_name": "LayoutView",
            "align_content": null,
            "align_items": null,
            "align_self": null,
            "border": null,
            "bottom": null,
            "display": null,
            "flex": null,
            "flex_flow": null,
            "grid_area": null,
            "grid_auto_columns": null,
            "grid_auto_flow": null,
            "grid_auto_rows": null,
            "grid_column": null,
            "grid_gap": null,
            "grid_row": null,
            "grid_template_areas": null,
            "grid_template_columns": null,
            "grid_template_rows": null,
            "height": null,
            "justify_content": null,
            "justify_items": null,
            "left": null,
            "margin": null,
            "max_height": null,
            "max_width": null,
            "min_height": null,
            "min_width": null,
            "object_fit": null,
            "object_position": null,
            "order": null,
            "overflow": null,
            "overflow_x": null,
            "overflow_y": null,
            "padding": null,
            "right": null,
            "top": null,
            "visibility": null,
            "width": null
          }
        },
        "596cd20e2262482295d35ed1824c90ff": {
          "model_module": "@jupyter-widgets/base",
          "model_name": "LayoutModel",
          "model_module_version": "1.2.0",
          "state": {
            "_model_module": "@jupyter-widgets/base",
            "_model_module_version": "1.2.0",
            "_model_name": "LayoutModel",
            "_view_count": null,
            "_view_module": "@jupyter-widgets/base",
            "_view_module_version": "1.2.0",
            "_view_name": "LayoutView",
            "align_content": null,
            "align_items": null,
            "align_self": null,
            "border": null,
            "bottom": null,
            "display": null,
            "flex": null,
            "flex_flow": null,
            "grid_area": null,
            "grid_auto_columns": null,
            "grid_auto_flow": null,
            "grid_auto_rows": null,
            "grid_column": null,
            "grid_gap": null,
            "grid_row": null,
            "grid_template_areas": null,
            "grid_template_columns": null,
            "grid_template_rows": null,
            "height": null,
            "justify_content": null,
            "justify_items": null,
            "left": null,
            "margin": null,
            "max_height": null,
            "max_width": null,
            "min_height": null,
            "min_width": null,
            "object_fit": null,
            "object_position": null,
            "order": null,
            "overflow": null,
            "overflow_x": null,
            "overflow_y": null,
            "padding": null,
            "right": null,
            "top": null,
            "visibility": null,
            "width": null
          }
        },
        "74c17ed7492e4b20a66a99b784ee6ec8": {
          "model_module": "@jupyter-widgets/controls",
          "model_name": "DescriptionStyleModel",
          "model_module_version": "1.5.0",
          "state": {
            "_model_module": "@jupyter-widgets/controls",
            "_model_module_version": "1.5.0",
            "_model_name": "DescriptionStyleModel",
            "_view_count": null,
            "_view_module": "@jupyter-widgets/base",
            "_view_module_version": "1.2.0",
            "_view_name": "StyleView",
            "description_width": ""
          }
        },
        "9cf4be466bb9436581b03b8e4fcb86bd": {
          "model_module": "@jupyter-widgets/base",
          "model_name": "LayoutModel",
          "model_module_version": "1.2.0",
          "state": {
            "_model_module": "@jupyter-widgets/base",
            "_model_module_version": "1.2.0",
            "_model_name": "LayoutModel",
            "_view_count": null,
            "_view_module": "@jupyter-widgets/base",
            "_view_module_version": "1.2.0",
            "_view_name": "LayoutView",
            "align_content": null,
            "align_items": null,
            "align_self": null,
            "border": null,
            "bottom": null,
            "display": null,
            "flex": null,
            "flex_flow": null,
            "grid_area": null,
            "grid_auto_columns": null,
            "grid_auto_flow": null,
            "grid_auto_rows": null,
            "grid_column": null,
            "grid_gap": null,
            "grid_row": null,
            "grid_template_areas": null,
            "grid_template_columns": null,
            "grid_template_rows": null,
            "height": null,
            "justify_content": null,
            "justify_items": null,
            "left": null,
            "margin": null,
            "max_height": null,
            "max_width": null,
            "min_height": null,
            "min_width": null,
            "object_fit": null,
            "object_position": null,
            "order": null,
            "overflow": null,
            "overflow_x": null,
            "overflow_y": null,
            "padding": null,
            "right": null,
            "top": null,
            "visibility": null,
            "width": null
          }
        },
        "f7d884b1a82240e09706eaaf2fa1fee9": {
          "model_module": "@jupyter-widgets/controls",
          "model_name": "ProgressStyleModel",
          "model_module_version": "1.5.0",
          "state": {
            "_model_module": "@jupyter-widgets/controls",
            "_model_module_version": "1.5.0",
            "_model_name": "ProgressStyleModel",
            "_view_count": null,
            "_view_module": "@jupyter-widgets/base",
            "_view_module_version": "1.2.0",
            "_view_name": "StyleView",
            "bar_color": null,
            "description_width": ""
          }
        },
        "c017a66e261d49b9bdd822c40622125e": {
          "model_module": "@jupyter-widgets/base",
          "model_name": "LayoutModel",
          "model_module_version": "1.2.0",
          "state": {
            "_model_module": "@jupyter-widgets/base",
            "_model_module_version": "1.2.0",
            "_model_name": "LayoutModel",
            "_view_count": null,
            "_view_module": "@jupyter-widgets/base",
            "_view_module_version": "1.2.0",
            "_view_name": "LayoutView",
            "align_content": null,
            "align_items": null,
            "align_self": null,
            "border": null,
            "bottom": null,
            "display": null,
            "flex": null,
            "flex_flow": null,
            "grid_area": null,
            "grid_auto_columns": null,
            "grid_auto_flow": null,
            "grid_auto_rows": null,
            "grid_column": null,
            "grid_gap": null,
            "grid_row": null,
            "grid_template_areas": null,
            "grid_template_columns": null,
            "grid_template_rows": null,
            "height": null,
            "justify_content": null,
            "justify_items": null,
            "left": null,
            "margin": null,
            "max_height": null,
            "max_width": null,
            "min_height": null,
            "min_width": null,
            "object_fit": null,
            "object_position": null,
            "order": null,
            "overflow": null,
            "overflow_x": null,
            "overflow_y": null,
            "padding": null,
            "right": null,
            "top": null,
            "visibility": null,
            "width": null
          }
        },
        "9167f207dad4405abf150506e5682299": {
          "model_module": "@jupyter-widgets/controls",
          "model_name": "DescriptionStyleModel",
          "model_module_version": "1.5.0",
          "state": {
            "_model_module": "@jupyter-widgets/controls",
            "_model_module_version": "1.5.0",
            "_model_name": "DescriptionStyleModel",
            "_view_count": null,
            "_view_module": "@jupyter-widgets/base",
            "_view_module_version": "1.2.0",
            "_view_name": "StyleView",
            "description_width": ""
          }
        },
        "92bbba9c58ec4f2a8470c795974104e2": {
          "model_module": "@jupyter-widgets/controls",
          "model_name": "HBoxModel",
          "model_module_version": "1.5.0",
          "state": {
            "_dom_classes": [],
            "_model_module": "@jupyter-widgets/controls",
            "_model_module_version": "1.5.0",
            "_model_name": "HBoxModel",
            "_view_count": null,
            "_view_module": "@jupyter-widgets/controls",
            "_view_module_version": "1.5.0",
            "_view_name": "HBoxView",
            "box_style": "",
            "children": [
              "IPY_MODEL_6e92a7fc12dd4e7b84fe577b7c96c424",
              "IPY_MODEL_39d9acbd941b4dbd9daf7d54acb1a4c7",
              "IPY_MODEL_dea1330ddd6f4ab5b112bb3c2aa8d8e0"
            ],
            "layout": "IPY_MODEL_c3adf9a2557a48d48d95fb2b121dfe54"
          }
        },
        "6e92a7fc12dd4e7b84fe577b7c96c424": {
          "model_module": "@jupyter-widgets/controls",
          "model_name": "HTMLModel",
          "model_module_version": "1.5.0",
          "state": {
            "_dom_classes": [],
            "_model_module": "@jupyter-widgets/controls",
            "_model_module_version": "1.5.0",
            "_model_name": "HTMLModel",
            "_view_count": null,
            "_view_module": "@jupyter-widgets/controls",
            "_view_module_version": "1.5.0",
            "_view_name": "HTMLView",
            "description": "",
            "description_tooltip": null,
            "layout": "IPY_MODEL_620d305b0aed4c99bc39e535d7167266",
            "placeholder": "​",
            "style": "IPY_MODEL_784067367bc14f44ac8e98fe07e2ef43",
            "value": "config.json: 100%"
          }
        },
        "39d9acbd941b4dbd9daf7d54acb1a4c7": {
          "model_module": "@jupyter-widgets/controls",
          "model_name": "FloatProgressModel",
          "model_module_version": "1.5.0",
          "state": {
            "_dom_classes": [],
            "_model_module": "@jupyter-widgets/controls",
            "_model_module_version": "1.5.0",
            "_model_name": "FloatProgressModel",
            "_view_count": null,
            "_view_module": "@jupyter-widgets/controls",
            "_view_module_version": "1.5.0",
            "_view_name": "ProgressView",
            "bar_style": "success",
            "description": "",
            "description_tooltip": null,
            "layout": "IPY_MODEL_7a3c5b79bcd949f8bd0ab1575c2421b5",
            "max": 410,
            "min": 0,
            "orientation": "horizontal",
            "style": "IPY_MODEL_084aae509dbd4d8ba2e090cd6ab0bb5a",
            "value": 410
          }
        },
        "dea1330ddd6f4ab5b112bb3c2aa8d8e0": {
          "model_module": "@jupyter-widgets/controls",
          "model_name": "HTMLModel",
          "model_module_version": "1.5.0",
          "state": {
            "_dom_classes": [],
            "_model_module": "@jupyter-widgets/controls",
            "_model_module_version": "1.5.0",
            "_model_name": "HTMLModel",
            "_view_count": null,
            "_view_module": "@jupyter-widgets/controls",
            "_view_module_version": "1.5.0",
            "_view_name": "HTMLView",
            "description": "",
            "description_tooltip": null,
            "layout": "IPY_MODEL_1b589c21b3374164a7677e290cb87c2a",
            "placeholder": "​",
            "style": "IPY_MODEL_4f2a519d493e4eae91c58db2bb74a827",
            "value": " 410/410 [00:00&lt;00:00, 26.7kB/s]"
          }
        },
        "c3adf9a2557a48d48d95fb2b121dfe54": {
          "model_module": "@jupyter-widgets/base",
          "model_name": "LayoutModel",
          "model_module_version": "1.2.0",
          "state": {
            "_model_module": "@jupyter-widgets/base",
            "_model_module_version": "1.2.0",
            "_model_name": "LayoutModel",
            "_view_count": null,
            "_view_module": "@jupyter-widgets/base",
            "_view_module_version": "1.2.0",
            "_view_name": "LayoutView",
            "align_content": null,
            "align_items": null,
            "align_self": null,
            "border": null,
            "bottom": null,
            "display": null,
            "flex": null,
            "flex_flow": null,
            "grid_area": null,
            "grid_auto_columns": null,
            "grid_auto_flow": null,
            "grid_auto_rows": null,
            "grid_column": null,
            "grid_gap": null,
            "grid_row": null,
            "grid_template_areas": null,
            "grid_template_columns": null,
            "grid_template_rows": null,
            "height": null,
            "justify_content": null,
            "justify_items": null,
            "left": null,
            "margin": null,
            "max_height": null,
            "max_width": null,
            "min_height": null,
            "min_width": null,
            "object_fit": null,
            "object_position": null,
            "order": null,
            "overflow": null,
            "overflow_x": null,
            "overflow_y": null,
            "padding": null,
            "right": null,
            "top": null,
            "visibility": null,
            "width": null
          }
        },
        "620d305b0aed4c99bc39e535d7167266": {
          "model_module": "@jupyter-widgets/base",
          "model_name": "LayoutModel",
          "model_module_version": "1.2.0",
          "state": {
            "_model_module": "@jupyter-widgets/base",
            "_model_module_version": "1.2.0",
            "_model_name": "LayoutModel",
            "_view_count": null,
            "_view_module": "@jupyter-widgets/base",
            "_view_module_version": "1.2.0",
            "_view_name": "LayoutView",
            "align_content": null,
            "align_items": null,
            "align_self": null,
            "border": null,
            "bottom": null,
            "display": null,
            "flex": null,
            "flex_flow": null,
            "grid_area": null,
            "grid_auto_columns": null,
            "grid_auto_flow": null,
            "grid_auto_rows": null,
            "grid_column": null,
            "grid_gap": null,
            "grid_row": null,
            "grid_template_areas": null,
            "grid_template_columns": null,
            "grid_template_rows": null,
            "height": null,
            "justify_content": null,
            "justify_items": null,
            "left": null,
            "margin": null,
            "max_height": null,
            "max_width": null,
            "min_height": null,
            "min_width": null,
            "object_fit": null,
            "object_position": null,
            "order": null,
            "overflow": null,
            "overflow_x": null,
            "overflow_y": null,
            "padding": null,
            "right": null,
            "top": null,
            "visibility": null,
            "width": null
          }
        },
        "784067367bc14f44ac8e98fe07e2ef43": {
          "model_module": "@jupyter-widgets/controls",
          "model_name": "DescriptionStyleModel",
          "model_module_version": "1.5.0",
          "state": {
            "_model_module": "@jupyter-widgets/controls",
            "_model_module_version": "1.5.0",
            "_model_name": "DescriptionStyleModel",
            "_view_count": null,
            "_view_module": "@jupyter-widgets/base",
            "_view_module_version": "1.2.0",
            "_view_name": "StyleView",
            "description_width": ""
          }
        },
        "7a3c5b79bcd949f8bd0ab1575c2421b5": {
          "model_module": "@jupyter-widgets/base",
          "model_name": "LayoutModel",
          "model_module_version": "1.2.0",
          "state": {
            "_model_module": "@jupyter-widgets/base",
            "_model_module_version": "1.2.0",
            "_model_name": "LayoutModel",
            "_view_count": null,
            "_view_module": "@jupyter-widgets/base",
            "_view_module_version": "1.2.0",
            "_view_name": "LayoutView",
            "align_content": null,
            "align_items": null,
            "align_self": null,
            "border": null,
            "bottom": null,
            "display": null,
            "flex": null,
            "flex_flow": null,
            "grid_area": null,
            "grid_auto_columns": null,
            "grid_auto_flow": null,
            "grid_auto_rows": null,
            "grid_column": null,
            "grid_gap": null,
            "grid_row": null,
            "grid_template_areas": null,
            "grid_template_columns": null,
            "grid_template_rows": null,
            "height": null,
            "justify_content": null,
            "justify_items": null,
            "left": null,
            "margin": null,
            "max_height": null,
            "max_width": null,
            "min_height": null,
            "min_width": null,
            "object_fit": null,
            "object_position": null,
            "order": null,
            "overflow": null,
            "overflow_x": null,
            "overflow_y": null,
            "padding": null,
            "right": null,
            "top": null,
            "visibility": null,
            "width": null
          }
        },
        "084aae509dbd4d8ba2e090cd6ab0bb5a": {
          "model_module": "@jupyter-widgets/controls",
          "model_name": "ProgressStyleModel",
          "model_module_version": "1.5.0",
          "state": {
            "_model_module": "@jupyter-widgets/controls",
            "_model_module_version": "1.5.0",
            "_model_name": "ProgressStyleModel",
            "_view_count": null,
            "_view_module": "@jupyter-widgets/base",
            "_view_module_version": "1.2.0",
            "_view_name": "StyleView",
            "bar_color": null,
            "description_width": ""
          }
        },
        "1b589c21b3374164a7677e290cb87c2a": {
          "model_module": "@jupyter-widgets/base",
          "model_name": "LayoutModel",
          "model_module_version": "1.2.0",
          "state": {
            "_model_module": "@jupyter-widgets/base",
            "_model_module_version": "1.2.0",
            "_model_name": "LayoutModel",
            "_view_count": null,
            "_view_module": "@jupyter-widgets/base",
            "_view_module_version": "1.2.0",
            "_view_name": "LayoutView",
            "align_content": null,
            "align_items": null,
            "align_self": null,
            "border": null,
            "bottom": null,
            "display": null,
            "flex": null,
            "flex_flow": null,
            "grid_area": null,
            "grid_auto_columns": null,
            "grid_auto_flow": null,
            "grid_auto_rows": null,
            "grid_column": null,
            "grid_gap": null,
            "grid_row": null,
            "grid_template_areas": null,
            "grid_template_columns": null,
            "grid_template_rows": null,
            "height": null,
            "justify_content": null,
            "justify_items": null,
            "left": null,
            "margin": null,
            "max_height": null,
            "max_width": null,
            "min_height": null,
            "min_width": null,
            "object_fit": null,
            "object_position": null,
            "order": null,
            "overflow": null,
            "overflow_x": null,
            "overflow_y": null,
            "padding": null,
            "right": null,
            "top": null,
            "visibility": null,
            "width": null
          }
        },
        "4f2a519d493e4eae91c58db2bb74a827": {
          "model_module": "@jupyter-widgets/controls",
          "model_name": "DescriptionStyleModel",
          "model_module_version": "1.5.0",
          "state": {
            "_model_module": "@jupyter-widgets/controls",
            "_model_module_version": "1.5.0",
            "_model_name": "DescriptionStyleModel",
            "_view_count": null,
            "_view_module": "@jupyter-widgets/base",
            "_view_module_version": "1.2.0",
            "_view_name": "StyleView",
            "description_width": ""
          }
        },
        "6b7bb9226c9040a190187a985d984f36": {
          "model_module": "@jupyter-widgets/controls",
          "model_name": "HBoxModel",
          "model_module_version": "1.5.0",
          "state": {
            "_dom_classes": [],
            "_model_module": "@jupyter-widgets/controls",
            "_model_module_version": "1.5.0",
            "_model_name": "HBoxModel",
            "_view_count": null,
            "_view_module": "@jupyter-widgets/controls",
            "_view_module_version": "1.5.0",
            "_view_name": "HBoxView",
            "box_style": "",
            "children": [
              "IPY_MODEL_3c2c64e1086f4f65aac72bc086052442",
              "IPY_MODEL_ad857e8a8db44ecf94c977e3aa8d6995",
              "IPY_MODEL_621d31a4a9f14dbdb4252f62ba39c18c"
            ],
            "layout": "IPY_MODEL_326be330b4d8454bb3c45598732d8c7c"
          }
        },
        "3c2c64e1086f4f65aac72bc086052442": {
          "model_module": "@jupyter-widgets/controls",
          "model_name": "HTMLModel",
          "model_module_version": "1.5.0",
          "state": {
            "_dom_classes": [],
            "_model_module": "@jupyter-widgets/controls",
            "_model_module_version": "1.5.0",
            "_model_name": "HTMLModel",
            "_view_count": null,
            "_view_module": "@jupyter-widgets/controls",
            "_view_module_version": "1.5.0",
            "_view_name": "HTMLView",
            "description": "",
            "description_tooltip": null,
            "layout": "IPY_MODEL_0528ee45994e4ea1b0760c0e61e09b93",
            "placeholder": "​",
            "style": "IPY_MODEL_d65e8602c9d24add92281e4a872261ea",
            "value": "pytorch_model.bin: 100%"
          }
        },
        "ad857e8a8db44ecf94c977e3aa8d6995": {
          "model_module": "@jupyter-widgets/controls",
          "model_name": "FloatProgressModel",
          "model_module_version": "1.5.0",
          "state": {
            "_dom_classes": [],
            "_model_module": "@jupyter-widgets/controls",
            "_model_module_version": "1.5.0",
            "_model_name": "FloatProgressModel",
            "_view_count": null,
            "_view_module": "@jupyter-widgets/controls",
            "_view_module_version": "1.5.0",
            "_view_name": "ProgressView",
            "bar_style": "success",
            "description": "",
            "description_tooltip": null,
            "layout": "IPY_MODEL_4314340d7b6740b4afc594a58651fc2e",
            "max": 272512865,
            "min": 0,
            "orientation": "horizontal",
            "style": "IPY_MODEL_0019e599bdff43aab3158137aab419ac",
            "value": 272512865
          }
        },
        "621d31a4a9f14dbdb4252f62ba39c18c": {
          "model_module": "@jupyter-widgets/controls",
          "model_name": "HTMLModel",
          "model_module_version": "1.5.0",
          "state": {
            "_dom_classes": [],
            "_model_module": "@jupyter-widgets/controls",
            "_model_module_version": "1.5.0",
            "_model_name": "HTMLModel",
            "_view_count": null,
            "_view_module": "@jupyter-widgets/controls",
            "_view_module_version": "1.5.0",
            "_view_name": "HTMLView",
            "description": "",
            "description_tooltip": null,
            "layout": "IPY_MODEL_4d51f201078e4cda89efc6b2ada98978",
            "placeholder": "​",
            "style": "IPY_MODEL_b8777217454546beb1af868b4f7defd4",
            "value": " 273M/273M [00:02&lt;00:00, 251MB/s]"
          }
        },
        "326be330b4d8454bb3c45598732d8c7c": {
          "model_module": "@jupyter-widgets/base",
          "model_name": "LayoutModel",
          "model_module_version": "1.2.0",
          "state": {
            "_model_module": "@jupyter-widgets/base",
            "_model_module_version": "1.2.0",
            "_model_name": "LayoutModel",
            "_view_count": null,
            "_view_module": "@jupyter-widgets/base",
            "_view_module_version": "1.2.0",
            "_view_name": "LayoutView",
            "align_content": null,
            "align_items": null,
            "align_self": null,
            "border": null,
            "bottom": null,
            "display": null,
            "flex": null,
            "flex_flow": null,
            "grid_area": null,
            "grid_auto_columns": null,
            "grid_auto_flow": null,
            "grid_auto_rows": null,
            "grid_column": null,
            "grid_gap": null,
            "grid_row": null,
            "grid_template_areas": null,
            "grid_template_columns": null,
            "grid_template_rows": null,
            "height": null,
            "justify_content": null,
            "justify_items": null,
            "left": null,
            "margin": null,
            "max_height": null,
            "max_width": null,
            "min_height": null,
            "min_width": null,
            "object_fit": null,
            "object_position": null,
            "order": null,
            "overflow": null,
            "overflow_x": null,
            "overflow_y": null,
            "padding": null,
            "right": null,
            "top": null,
            "visibility": null,
            "width": null
          }
        },
        "0528ee45994e4ea1b0760c0e61e09b93": {
          "model_module": "@jupyter-widgets/base",
          "model_name": "LayoutModel",
          "model_module_version": "1.2.0",
          "state": {
            "_model_module": "@jupyter-widgets/base",
            "_model_module_version": "1.2.0",
            "_model_name": "LayoutModel",
            "_view_count": null,
            "_view_module": "@jupyter-widgets/base",
            "_view_module_version": "1.2.0",
            "_view_name": "LayoutView",
            "align_content": null,
            "align_items": null,
            "align_self": null,
            "border": null,
            "bottom": null,
            "display": null,
            "flex": null,
            "flex_flow": null,
            "grid_area": null,
            "grid_auto_columns": null,
            "grid_auto_flow": null,
            "grid_auto_rows": null,
            "grid_column": null,
            "grid_gap": null,
            "grid_row": null,
            "grid_template_areas": null,
            "grid_template_columns": null,
            "grid_template_rows": null,
            "height": null,
            "justify_content": null,
            "justify_items": null,
            "left": null,
            "margin": null,
            "max_height": null,
            "max_width": null,
            "min_height": null,
            "min_width": null,
            "object_fit": null,
            "object_position": null,
            "order": null,
            "overflow": null,
            "overflow_x": null,
            "overflow_y": null,
            "padding": null,
            "right": null,
            "top": null,
            "visibility": null,
            "width": null
          }
        },
        "d65e8602c9d24add92281e4a872261ea": {
          "model_module": "@jupyter-widgets/controls",
          "model_name": "DescriptionStyleModel",
          "model_module_version": "1.5.0",
          "state": {
            "_model_module": "@jupyter-widgets/controls",
            "_model_module_version": "1.5.0",
            "_model_name": "DescriptionStyleModel",
            "_view_count": null,
            "_view_module": "@jupyter-widgets/base",
            "_view_module_version": "1.2.0",
            "_view_name": "StyleView",
            "description_width": ""
          }
        },
        "4314340d7b6740b4afc594a58651fc2e": {
          "model_module": "@jupyter-widgets/base",
          "model_name": "LayoutModel",
          "model_module_version": "1.2.0",
          "state": {
            "_model_module": "@jupyter-widgets/base",
            "_model_module_version": "1.2.0",
            "_model_name": "LayoutModel",
            "_view_count": null,
            "_view_module": "@jupyter-widgets/base",
            "_view_module_version": "1.2.0",
            "_view_name": "LayoutView",
            "align_content": null,
            "align_items": null,
            "align_self": null,
            "border": null,
            "bottom": null,
            "display": null,
            "flex": null,
            "flex_flow": null,
            "grid_area": null,
            "grid_auto_columns": null,
            "grid_auto_flow": null,
            "grid_auto_rows": null,
            "grid_column": null,
            "grid_gap": null,
            "grid_row": null,
            "grid_template_areas": null,
            "grid_template_columns": null,
            "grid_template_rows": null,
            "height": null,
            "justify_content": null,
            "justify_items": null,
            "left": null,
            "margin": null,
            "max_height": null,
            "max_width": null,
            "min_height": null,
            "min_width": null,
            "object_fit": null,
            "object_position": null,
            "order": null,
            "overflow": null,
            "overflow_x": null,
            "overflow_y": null,
            "padding": null,
            "right": null,
            "top": null,
            "visibility": null,
            "width": null
          }
        },
        "0019e599bdff43aab3158137aab419ac": {
          "model_module": "@jupyter-widgets/controls",
          "model_name": "ProgressStyleModel",
          "model_module_version": "1.5.0",
          "state": {
            "_model_module": "@jupyter-widgets/controls",
            "_model_module_version": "1.5.0",
            "_model_name": "ProgressStyleModel",
            "_view_count": null,
            "_view_module": "@jupyter-widgets/base",
            "_view_module_version": "1.2.0",
            "_view_name": "StyleView",
            "bar_color": null,
            "description_width": ""
          }
        },
        "4d51f201078e4cda89efc6b2ada98978": {
          "model_module": "@jupyter-widgets/base",
          "model_name": "LayoutModel",
          "model_module_version": "1.2.0",
          "state": {
            "_model_module": "@jupyter-widgets/base",
            "_model_module_version": "1.2.0",
            "_model_name": "LayoutModel",
            "_view_count": null,
            "_view_module": "@jupyter-widgets/base",
            "_view_module_version": "1.2.0",
            "_view_name": "LayoutView",
            "align_content": null,
            "align_items": null,
            "align_self": null,
            "border": null,
            "bottom": null,
            "display": null,
            "flex": null,
            "flex_flow": null,
            "grid_area": null,
            "grid_auto_columns": null,
            "grid_auto_flow": null,
            "grid_auto_rows": null,
            "grid_column": null,
            "grid_gap": null,
            "grid_row": null,
            "grid_template_areas": null,
            "grid_template_columns": null,
            "grid_template_rows": null,
            "height": null,
            "justify_content": null,
            "justify_items": null,
            "left": null,
            "margin": null,
            "max_height": null,
            "max_width": null,
            "min_height": null,
            "min_width": null,
            "object_fit": null,
            "object_position": null,
            "order": null,
            "overflow": null,
            "overflow_x": null,
            "overflow_y": null,
            "padding": null,
            "right": null,
            "top": null,
            "visibility": null,
            "width": null
          }
        },
        "b8777217454546beb1af868b4f7defd4": {
          "model_module": "@jupyter-widgets/controls",
          "model_name": "DescriptionStyleModel",
          "model_module_version": "1.5.0",
          "state": {
            "_model_module": "@jupyter-widgets/controls",
            "_model_module_version": "1.5.0",
            "_model_name": "DescriptionStyleModel",
            "_view_count": null,
            "_view_module": "@jupyter-widgets/base",
            "_view_module_version": "1.2.0",
            "_view_name": "StyleView",
            "description_width": ""
          }
        }
      }
    }
  },
  "cells": [
    {
      "cell_type": "code",
      "execution_count": null,
      "metadata": {
        "id": "qQWOh8uUbukY"
      },
      "outputs": [],
      "source": [
        "import pandas as pd\n",
        "import tensorflow as tf\n",
        "import torch\n",
        "import numpy as np\n",
        "import time\n",
        "import datetime\n",
        "import random\n",
        "import seaborn as sns\n",
        "import matplotlib.pyplot as plt\n",
        "from google.colab import drive"
      ]
    },
    {
      "cell_type": "code",
      "source": [
        "from transformers import DistilBertTokenizer, DistilBertForSequenceClassification, TextClassificationPipeline\n"
      ],
      "metadata": {
        "id": "q5lfhxQxb2NY"
      },
      "execution_count": null,
      "outputs": []
    },
    {
      "cell_type": "code",
      "source": [
        "import transformers\n",
        "from torch.utils.data import TensorDataset, random_split\n",
        "from torch.utils.data import DataLoader, RandomSampler, SequentialSampler\n",
        "from transformers import get_linear_schedule_with_warmup\n",
        "\n",
        "from sklearn.metrics import f1_score\n",
        "from sklearn.metrics import recall_score\n",
        "from sklearn.metrics import precision_score\n",
        "from sklearn.metrics import accuracy_score\n",
        "from sklearn.metrics import classification_report\n",
        "from sklearn.metrics import precision_recall_curve\n",
        "from sklearn.preprocessing import LabelEncoder\n",
        "from sklearn.metrics import confusion_matrix\n",
        "from sklearn.metrics import roc_auc_score, roc_curve\n"
      ],
      "metadata": {
        "id": "T2y4P10Gb4Z-"
      },
      "execution_count": null,
      "outputs": []
    },
    {
      "cell_type": "code",
      "source": [
        "import torch.optim\n",
        "from transformers import get_linear_schedule_with_warmup"
      ],
      "metadata": {
        "id": "8uDuzcjLb5we"
      },
      "execution_count": null,
      "outputs": []
    },
    {
      "cell_type": "code",
      "source": [
        "# check GPU\n",
        "device_name = tf.test.gpu_device_name()\n",
        "if device_name == '/device:GPU:0':\n",
        "    device = torch.device(\"cuda\")\n",
        "    print('GPU:', torch.cuda.get_device_name(0))\n",
        "else:\n",
        "    raise SystemError('GPU device not found')"
      ],
      "metadata": {
        "colab": {
          "base_uri": "https://localhost:8080/"
        },
        "id": "LIUw_M9rb6ym",
        "outputId": "b4f1b456-0405-4905-e2b8-9a65a0869449"
      },
      "execution_count": null,
      "outputs": [
        {
          "output_type": "stream",
          "name": "stdout",
          "text": [
            "GPU: Tesla T4\n"
          ]
        }
      ]
    },
    {
      "cell_type": "code",
      "source": [
        "drive.mount('/content/drive')"
      ],
      "metadata": {
        "colab": {
          "base_uri": "https://localhost:8080/"
        },
        "id": "dK7vX5MFb8Cd",
        "outputId": "7057b79f-1591-4561-f84c-5ea900bded51"
      },
      "execution_count": null,
      "outputs": [
        {
          "output_type": "stream",
          "name": "stdout",
          "text": [
            "Mounted at /content/drive\n"
          ]
        }
      ]
    },
    {
      "cell_type": "code",
      "source": [
        "data_path = '/content/drive/My Drive/Colab Notebooks/clean_data.csv' #veriseti çekildi\n",
        "data = pd.read_csv(data_path)"
      ],
      "metadata": {
        "id": "myBRiTsTb8_1"
      },
      "execution_count": null,
      "outputs": []
    },
    {
      "cell_type": "code",
      "source": [
        "cData = data.copy() #değişiklikler için kopya df oluşturuldu"
      ],
      "metadata": {
        "id": "1vzhFPRxb-IG"
      },
      "execution_count": null,
      "outputs": []
    },
    {
      "cell_type": "code",
      "source": [
        "tokenizer = DistilBertTokenizer.from_pretrained(\"dbmdz/distilbert-base-turkish-cased\", do_lower_case=True)\n",
        "sentences = cData.text.values\n",
        "max_len = 100"
      ],
      "metadata": {
        "colab": {
          "base_uri": "https://localhost:8080/",
          "height": 168,
          "referenced_widgets": [
            "f21063498b9a49f794da6d3434776689",
            "d63b451ad4ab4c3a91f046b57b100455",
            "5948b779f0aa40cb96d3093590fbbe04",
            "da3c3b4433674634926a2f388d21e43a",
            "6512648bfa4a4bda9700358257a852d0",
            "e3d74c7c6e294a7d9ec807a351250068",
            "66eb6e16d4724267998e886535296176",
            "323b4f06e7734c3daf4faca4bb63f9ab",
            "15c1c08c2cdf4a1698cbbfd83ca5a756",
            "b7071ab26d71420698b912e3f0a191e5",
            "db4e70a8794947ddb555488f08472ded",
            "de23f9c27c614422bfac9c584388cc8b",
            "0a52b66c42be4cbc8ed544a467cdda5f",
            "03b1d4c463484343baf5e1b73eb78ce1",
            "5dee55e109634d26b1a4ae5199b1b2ba",
            "596b824880ac4bf48cb8442d7473ad17",
            "596cd20e2262482295d35ed1824c90ff",
            "74c17ed7492e4b20a66a99b784ee6ec8",
            "9cf4be466bb9436581b03b8e4fcb86bd",
            "f7d884b1a82240e09706eaaf2fa1fee9",
            "c017a66e261d49b9bdd822c40622125e",
            "9167f207dad4405abf150506e5682299",
            "92bbba9c58ec4f2a8470c795974104e2",
            "6e92a7fc12dd4e7b84fe577b7c96c424",
            "39d9acbd941b4dbd9daf7d54acb1a4c7",
            "dea1330ddd6f4ab5b112bb3c2aa8d8e0",
            "c3adf9a2557a48d48d95fb2b121dfe54",
            "620d305b0aed4c99bc39e535d7167266",
            "784067367bc14f44ac8e98fe07e2ef43",
            "7a3c5b79bcd949f8bd0ab1575c2421b5",
            "084aae509dbd4d8ba2e090cd6ab0bb5a",
            "1b589c21b3374164a7677e290cb87c2a",
            "4f2a519d493e4eae91c58db2bb74a827"
          ]
        },
        "id": "IE9jy0Rlb_CG",
        "outputId": "c504448f-1c53-4bb8-f076-f07586ca2fd6"
      },
      "execution_count": null,
      "outputs": [
        {
          "output_type": "display_data",
          "data": {
            "text/plain": [
              "tokenizer_config.json:   0%|          | 0.00/60.0 [00:00<?, ?B/s]"
            ],
            "application/vnd.jupyter.widget-view+json": {
              "version_major": 2,
              "version_minor": 0,
              "model_id": "f21063498b9a49f794da6d3434776689"
            }
          },
          "metadata": {}
        },
        {
          "output_type": "display_data",
          "data": {
            "text/plain": [
              "vocab.txt:   0%|          | 0.00/251k [00:00<?, ?B/s]"
            ],
            "application/vnd.jupyter.widget-view+json": {
              "version_major": 2,
              "version_minor": 0,
              "model_id": "de23f9c27c614422bfac9c584388cc8b"
            }
          },
          "metadata": {}
        },
        {
          "output_type": "stream",
          "name": "stderr",
          "text": [
            "/usr/local/lib/python3.10/dist-packages/huggingface_hub/file_download.py:1132: FutureWarning: `resume_download` is deprecated and will be removed in version 1.0.0. Downloads always resume when possible. If you want to force a new download, use `force_download=True`.\n",
            "  warnings.warn(\n"
          ]
        },
        {
          "output_type": "display_data",
          "data": {
            "text/plain": [
              "config.json:   0%|          | 0.00/410 [00:00<?, ?B/s]"
            ],
            "application/vnd.jupyter.widget-view+json": {
              "version_major": 2,
              "version_minor": 0,
              "model_id": "92bbba9c58ec4f2a8470c795974104e2"
            }
          },
          "metadata": {}
        }
      ]
    },
    {
      "cell_type": "code",
      "source": [
        "cData.groupby('label').size()"
      ],
      "metadata": {
        "colab": {
          "base_uri": "https://localhost:8080/"
        },
        "id": "cTo9T1PUcAVp",
        "outputId": "b035d988-92c8-4e87-e3ae-d3c33a00fa1f"
      },
      "execution_count": null,
      "outputs": [
        {
          "output_type": "execute_result",
          "data": {
            "text/plain": [
              "label\n",
              "Cinsiyetçilik     601\n",
              "Irkçılık          490\n",
              "Kızdırma          910\n",
              "Nötr             1387\n",
              "dtype: int64"
            ]
          },
          "metadata": {},
          "execution_count": 10
        }
      ]
    },
    {
      "cell_type": "code",
      "source": [
        "# Nötr sınıfındaki örnek sayısını azaltma\n",
        "class_to_reduce = \"Nötr\"\n",
        "desired_size = 980\n",
        "\n",
        "class_data = cData[cData['label'] == class_to_reduce]\n",
        "\n",
        "if class_data.shape[0] > desired_size:\n",
        "    reduced_class_data = class_data.sample(desired_size, random_state=42)\n",
        "    cData = pd.concat([cData[cData['label'] != class_to_reduce], reduced_class_data], ignore_index=True)\n",
        "\n",
        "# Yeniden düzenlenmiş sınıf sayılarını kontrol etme\n",
        "class_counts = cData.groupby('label').size()\n",
        "print(\"\\nYeni sınıf sayıları:\\n\", class_counts)"
      ],
      "metadata": {
        "colab": {
          "base_uri": "https://localhost:8080/"
        },
        "id": "YmwkVUrjcB0o",
        "outputId": "5115366e-b317-4abb-97ba-8e156684df47"
      },
      "execution_count": null,
      "outputs": [
        {
          "output_type": "stream",
          "name": "stdout",
          "text": [
            "\n",
            "Yeni sınıf sayıları:\n",
            " label\n",
            "Cinsiyetçilik    601\n",
            "Irkçılık         490\n",
            "Kızdırma         910\n",
            "Nötr             980\n",
            "dtype: int64\n"
          ]
        }
      ]
    },
    {
      "cell_type": "code",
      "source": [
        "cData['label_name'] = cData['label']"
      ],
      "metadata": {
        "id": "QjnY7qiWcC-9"
      },
      "execution_count": null,
      "outputs": []
    },
    {
      "cell_type": "code",
      "source": [
        "cData['label'] = LabelEncoder().fit_transform(cData['label'])"
      ],
      "metadata": {
        "id": "1dmEDfiVcD7I"
      },
      "execution_count": null,
      "outputs": []
    },
    {
      "cell_type": "code",
      "source": [
        "training = cData.groupby('label').apply(lambda x: x.sample(frac=0.8, random_state=42))\n",
        "training.index = training.index.droplevel(0)  # Grup seviyesini indexlerden kaldırmak için\n",
        "test = cData.drop(training.index)\n",
        "\n",
        "print(\"Training: \", len(training))\n",
        "print(\"Test: \", len(test))\n"
      ],
      "metadata": {
        "colab": {
          "base_uri": "https://localhost:8080/"
        },
        "id": "SswpSJjlcI-h",
        "outputId": "b6d5dc6d-928c-4330-b0a2-1b65b963ecfd"
      },
      "execution_count": null,
      "outputs": [
        {
          "output_type": "stream",
          "name": "stdout",
          "text": [
            "Training:  2385\n",
            "Test:  596\n"
          ]
        }
      ]
    },
    {
      "cell_type": "code",
      "source": [
        "print(\"Training Set Sınıf Dağılımı:\")\n",
        "print(training.groupby('label').size())\n",
        "\n",
        "print(\"\\nTest Set Sınıf Dağılımı:\")\n",
        "print(test.groupby('label').size())"
      ],
      "metadata": {
        "colab": {
          "base_uri": "https://localhost:8080/"
        },
        "id": "sAy6sDApcJsW",
        "outputId": "63c25fc4-947c-4454-b21b-e64c4295b352"
      },
      "execution_count": null,
      "outputs": [
        {
          "output_type": "stream",
          "name": "stdout",
          "text": [
            "Training Set Sınıf Dağılımı:\n",
            "label\n",
            "0    481\n",
            "1    392\n",
            "2    728\n",
            "3    784\n",
            "dtype: int64\n",
            "\n",
            "Test Set Sınıf Dağılımı:\n",
            "label\n",
            "0    120\n",
            "1     98\n",
            "2    182\n",
            "3    196\n",
            "dtype: int64\n"
          ]
        }
      ]
    },
    {
      "cell_type": "code",
      "source": [
        "training_texts = training.clean_data.values\n",
        "training_labels = training.label.values"
      ],
      "metadata": {
        "id": "qaI4WdpMcPhP"
      },
      "execution_count": null,
      "outputs": []
    },
    {
      "cell_type": "code",
      "source": [
        "input_ids = []\n",
        "attention_masks = []\n",
        "max_len = 100\n",
        "\n",
        "\n",
        "for text in training_texts:\n",
        "    encoded_dict = tokenizer.encode_plus(\n",
        "                        str(text),\n",
        "                        add_special_tokens = True,\n",
        "                        max_length = max_len,\n",
        "                        pad_to_max_length = True,\n",
        "                        return_attention_mask = True,\n",
        "                        return_tensors = 'pt',\n",
        "                   )\n",
        "\n",
        "    input_ids.append(encoded_dict['input_ids'])\n",
        "    attention_masks.append(encoded_dict['attention_mask'])\n",
        "\n",
        "input_ids = torch.cat(input_ids, dim=0)\n",
        "attention_masks = torch.cat(attention_masks, dim=0)\n",
        "labels = torch.tensor(training_labels)\n",
        "\n",
        "print('Original: ', training_texts[0])\n",
        "print('Token IDs:', input_ids[0])\n",
        "print('Attention Masks:', attention_masks[0])\n",
        "print('Labels:', labels[0])"
      ],
      "metadata": {
        "colab": {
          "base_uri": "https://localhost:8080/"
        },
        "id": "pMNFRujccQku",
        "outputId": "906b66a4-45b2-4f3c-b579-dec52cd99abc"
      },
      "execution_count": null,
      "outputs": [
        {
          "output_type": "stream",
          "name": "stderr",
          "text": [
            "Truncation was not explicitly activated but `max_length` is provided a specific value, please use `truncation=True` to explicitly truncate examples to max length. Defaulting to 'longest_first' truncation strategy. If you encode pairs of sequences (GLUE-style) with the tokenizer you can select this strategy more precisely by providing a specific strategy to `truncation`.\n",
            "/usr/local/lib/python3.10/dist-packages/transformers/tokenization_utils_base.py:2699: FutureWarning: The `pad_to_max_length` argument is deprecated and will be removed in a future version, use `padding=True` or `padding='longest'` to pad to the longest sequence in the batch, or use `padding='max_length'` to pad to a max length. In this case, you can give a specific length with `max_length` (e.g. `max_length=45`) or leave max_length to None to pad to the maximal input size of the model (e.g. 512 for Bert).\n",
            "  warnings.warn(\n"
          ]
        },
        {
          "output_type": "stream",
          "name": "stdout",
          "text": [
            "Original:  boyle raki icmeyen kiz da kendine kizim demesin\n",
            "Token IDs: tensor([    2, 27356,  3877,  1024,  4614,  3794, 19375,  2054,  5203, 19375,\n",
            "         1995, 24296,  1009,     3,     0,     0,     0,     0,     0,     0,\n",
            "            0,     0,     0,     0,     0,     0,     0,     0,     0,     0,\n",
            "            0,     0,     0,     0,     0,     0,     0,     0,     0,     0,\n",
            "            0,     0,     0,     0,     0,     0,     0,     0,     0,     0,\n",
            "            0,     0,     0,     0,     0,     0,     0,     0,     0,     0,\n",
            "            0,     0,     0,     0,     0,     0,     0,     0,     0,     0,\n",
            "            0,     0,     0,     0,     0,     0,     0,     0,     0,     0,\n",
            "            0,     0,     0,     0,     0,     0,     0,     0,     0,     0,\n",
            "            0,     0,     0,     0,     0,     0,     0,     0,     0,     0])\n",
            "Attention Masks: tensor([1, 1, 1, 1, 1, 1, 1, 1, 1, 1, 1, 1, 1, 1, 0, 0, 0, 0, 0, 0, 0, 0, 0, 0,\n",
            "        0, 0, 0, 0, 0, 0, 0, 0, 0, 0, 0, 0, 0, 0, 0, 0, 0, 0, 0, 0, 0, 0, 0, 0,\n",
            "        0, 0, 0, 0, 0, 0, 0, 0, 0, 0, 0, 0, 0, 0, 0, 0, 0, 0, 0, 0, 0, 0, 0, 0,\n",
            "        0, 0, 0, 0, 0, 0, 0, 0, 0, 0, 0, 0, 0, 0, 0, 0, 0, 0, 0, 0, 0, 0, 0, 0,\n",
            "        0, 0, 0, 0])\n",
            "Labels: tensor(0)\n"
          ]
        }
      ]
    },
    {
      "cell_type": "code",
      "source": [
        "train_dataset = TensorDataset(input_ids, attention_masks, labels)"
      ],
      "metadata": {
        "id": "v219cIMccRJO"
      },
      "execution_count": null,
      "outputs": []
    },
    {
      "cell_type": "code",
      "source": [
        "batch_size = 16\n",
        "\n",
        "train_dataloader = DataLoader(\n",
        "            train_dataset,\n",
        "            sampler = RandomSampler(train_dataset),\n",
        "            batch_size = batch_size\n",
        "        )"
      ],
      "metadata": {
        "id": "ecQx8blScTtE"
      },
      "execution_count": null,
      "outputs": []
    },
    {
      "cell_type": "code",
      "source": [
        "number_of_categories = len(cData['label'].unique())"
      ],
      "metadata": {
        "id": "pFdC5pF7cVDA"
      },
      "execution_count": null,
      "outputs": []
    },
    {
      "cell_type": "code",
      "source": [
        "model = DistilBertForSequenceClassification.from_pretrained(\n",
        "    \"dbmdz/distilbert-base-turkish-cased\",\n",
        "    num_labels = number_of_categories,\n",
        "    output_attentions = False,\n",
        "    output_hidden_states = False,\n",
        ")\n",
        "\n",
        "model.cuda()"
      ],
      "metadata": {
        "colab": {
          "base_uri": "https://localhost:8080/",
          "height": 694,
          "referenced_widgets": [
            "6b7bb9226c9040a190187a985d984f36",
            "3c2c64e1086f4f65aac72bc086052442",
            "ad857e8a8db44ecf94c977e3aa8d6995",
            "621d31a4a9f14dbdb4252f62ba39c18c",
            "326be330b4d8454bb3c45598732d8c7c",
            "0528ee45994e4ea1b0760c0e61e09b93",
            "d65e8602c9d24add92281e4a872261ea",
            "4314340d7b6740b4afc594a58651fc2e",
            "0019e599bdff43aab3158137aab419ac",
            "4d51f201078e4cda89efc6b2ada98978",
            "b8777217454546beb1af868b4f7defd4"
          ]
        },
        "id": "7ts7cFO1cWX5",
        "outputId": "80a9b353-52bd-4ed0-e0d3-712998762852"
      },
      "execution_count": null,
      "outputs": [
        {
          "output_type": "display_data",
          "data": {
            "text/plain": [
              "pytorch_model.bin:   0%|          | 0.00/273M [00:00<?, ?B/s]"
            ],
            "application/vnd.jupyter.widget-view+json": {
              "version_major": 2,
              "version_minor": 0,
              "model_id": "6b7bb9226c9040a190187a985d984f36"
            }
          },
          "metadata": {}
        },
        {
          "output_type": "stream",
          "name": "stderr",
          "text": [
            "Some weights of DistilBertForSequenceClassification were not initialized from the model checkpoint at dbmdz/distilbert-base-turkish-cased and are newly initialized: ['classifier.bias', 'classifier.weight', 'pre_classifier.bias', 'pre_classifier.weight']\n",
            "You should probably TRAIN this model on a down-stream task to be able to use it for predictions and inference.\n"
          ]
        },
        {
          "output_type": "execute_result",
          "data": {
            "text/plain": [
              "DistilBertForSequenceClassification(\n",
              "  (distilbert): DistilBertModel(\n",
              "    (embeddings): Embeddings(\n",
              "      (word_embeddings): Embedding(32000, 768, padding_idx=0)\n",
              "      (position_embeddings): Embedding(512, 768)\n",
              "      (LayerNorm): LayerNorm((768,), eps=1e-12, elementwise_affine=True)\n",
              "      (dropout): Dropout(p=0.1, inplace=False)\n",
              "    )\n",
              "    (transformer): Transformer(\n",
              "      (layer): ModuleList(\n",
              "        (0-5): 6 x TransformerBlock(\n",
              "          (attention): MultiHeadSelfAttention(\n",
              "            (dropout): Dropout(p=0.1, inplace=False)\n",
              "            (q_lin): Linear(in_features=768, out_features=768, bias=True)\n",
              "            (k_lin): Linear(in_features=768, out_features=768, bias=True)\n",
              "            (v_lin): Linear(in_features=768, out_features=768, bias=True)\n",
              "            (out_lin): Linear(in_features=768, out_features=768, bias=True)\n",
              "          )\n",
              "          (sa_layer_norm): LayerNorm((768,), eps=1e-12, elementwise_affine=True)\n",
              "          (ffn): FFN(\n",
              "            (dropout): Dropout(p=0.1, inplace=False)\n",
              "            (lin1): Linear(in_features=768, out_features=3072, bias=True)\n",
              "            (lin2): Linear(in_features=3072, out_features=768, bias=True)\n",
              "            (activation): GELUActivation()\n",
              "          )\n",
              "          (output_layer_norm): LayerNorm((768,), eps=1e-12, elementwise_affine=True)\n",
              "        )\n",
              "      )\n",
              "    )\n",
              "  )\n",
              "  (pre_classifier): Linear(in_features=768, out_features=768, bias=True)\n",
              "  (classifier): Linear(in_features=768, out_features=4, bias=True)\n",
              "  (dropout): Dropout(p=0.2, inplace=False)\n",
              ")"
            ]
          },
          "metadata": {},
          "execution_count": 21
        }
      ]
    },
    {
      "cell_type": "code",
      "source": [
        "epochs = 10\n",
        "optimizer = torch.optim.AdamW(model.parameters(),\n",
        "                      lr = 5e-5,\n",
        "                      eps = 1e-8\n",
        "                    )\n",
        "\n",
        "total_steps = len(train_dataloader) * epochs\n",
        "scheduler = get_linear_schedule_with_warmup(optimizer,\n",
        "                                            num_warmup_steps = 0,\n",
        "                                            num_training_steps = total_steps)"
      ],
      "metadata": {
        "id": "-ohott0CcXeF"
      },
      "execution_count": null,
      "outputs": []
    },
    {
      "cell_type": "code",
      "source": [
        "def format_time(elapsed):\n",
        "    elapsed_rounded = int(round((elapsed)))\n",
        "    return str(datetime.timedelta(seconds=elapsed_rounded))"
      ],
      "metadata": {
        "id": "GHp4GKdTcYix"
      },
      "execution_count": null,
      "outputs": []
    },
    {
      "cell_type": "code",
      "source": [
        "seed_val = 2000\n",
        "\n",
        "random.seed(seed_val)\n",
        "np.random.seed(seed_val)\n",
        "torch.manual_seed(seed_val)\n",
        "torch.cuda.manual_seed_all(seed_val)\n",
        "\n",
        "training_stats = []\n",
        "total_t0 = time.time()\n",
        "\n",
        "for epoch_i in range(0, epochs):\n",
        "    print('======== Epoch {:} / {:} ========'.format(epoch_i + 1, epochs))\n",
        "    t0 = time.time()\n",
        "    total_train_loss = 0\n",
        "    model.train()\n",
        "\n",
        "    for step, batch in enumerate(train_dataloader):\n",
        "        if step % 10 == 0 and not step == 0:\n",
        "            elapsed = format_time(time.time() - t0)\n",
        "            print('Batch {:>5,}  of  {:>5,}.    Elapsed: {:}.'.format(step, len(train_dataloader), elapsed))\n",
        "\n",
        "        b_input_ids = batch[0].to(device)\n",
        "        b_input_mask = batch[1].to(device)\n",
        "        b_labels = batch[2].to(device)\n",
        "\n",
        "        model.zero_grad()\n",
        "        output = model(b_input_ids,\n",
        "                             attention_mask=b_input_mask,\n",
        "                             labels=b_labels)\n",
        "        loss = output['loss']\n",
        "        logits = output['logits']\n",
        "        total_train_loss += loss.item()\n",
        "        loss.backward()\n",
        "        torch.nn.utils.clip_grad_norm_(model.parameters(), 1.0)\n",
        "        optimizer.step()\n",
        "        scheduler.step()\n",
        "\n",
        "    avg_train_loss = total_train_loss / len(train_dataloader)\n",
        "    training_time = format_time(time.time() - t0)\n",
        "\n",
        "    print(\"Average training loss: {0:.2f}\".format(avg_train_loss))\n",
        "    print(\"Training epoch took: {:}\".format(training_time))\n",
        "\n",
        "    training_stats.append(\n",
        "        {\n",
        "            'epoch': epoch_i + 1,\n",
        "            'Training Loss': avg_train_loss,\n",
        "            'Training Time': training_time,\n",
        "        }\n",
        "    )\n",
        "\n",
        "print(\"Training completed in {:} (h:mm:ss)\".format(format_time(time.time()-total_t0)))"
      ],
      "metadata": {
        "colab": {
          "base_uri": "https://localhost:8080/"
        },
        "id": "AwxJ7LyOcZjg",
        "outputId": "54aade4b-ffd5-448b-fbf5-eaabe32bd5dc"
      },
      "execution_count": null,
      "outputs": [
        {
          "output_type": "stream",
          "name": "stdout",
          "text": [
            "======== Epoch 1 / 10 ========\n",
            "Batch    10  of    150.    Elapsed: 0:00:02.\n",
            "Batch    20  of    150.    Elapsed: 0:00:03.\n",
            "Batch    30  of    150.    Elapsed: 0:00:04.\n",
            "Batch    40  of    150.    Elapsed: 0:00:05.\n",
            "Batch    50  of    150.    Elapsed: 0:00:07.\n",
            "Batch    60  of    150.    Elapsed: 0:00:08.\n",
            "Batch    70  of    150.    Elapsed: 0:00:10.\n",
            "Batch    80  of    150.    Elapsed: 0:00:11.\n",
            "Batch    90  of    150.    Elapsed: 0:00:12.\n",
            "Batch   100  of    150.    Elapsed: 0:00:14.\n",
            "Batch   110  of    150.    Elapsed: 0:00:15.\n",
            "Batch   120  of    150.    Elapsed: 0:00:16.\n",
            "Batch   130  of    150.    Elapsed: 0:00:18.\n",
            "Batch   140  of    150.    Elapsed: 0:00:19.\n",
            "Average training loss: 0.93\n",
            "Training epoch took: 0:00:20\n",
            "======== Epoch 2 / 10 ========\n",
            "Batch    10  of    150.    Elapsed: 0:00:01.\n",
            "Batch    20  of    150.    Elapsed: 0:00:03.\n",
            "Batch    30  of    150.    Elapsed: 0:00:04.\n",
            "Batch    40  of    150.    Elapsed: 0:00:05.\n",
            "Batch    50  of    150.    Elapsed: 0:00:06.\n",
            "Batch    60  of    150.    Elapsed: 0:00:08.\n",
            "Batch    70  of    150.    Elapsed: 0:00:09.\n",
            "Batch    80  of    150.    Elapsed: 0:00:10.\n",
            "Batch    90  of    150.    Elapsed: 0:00:12.\n",
            "Batch   100  of    150.    Elapsed: 0:00:13.\n",
            "Batch   110  of    150.    Elapsed: 0:00:14.\n",
            "Batch   120  of    150.    Elapsed: 0:00:16.\n",
            "Batch   130  of    150.    Elapsed: 0:00:17.\n",
            "Batch   140  of    150.    Elapsed: 0:00:18.\n",
            "Average training loss: 0.46\n",
            "Training epoch took: 0:00:20\n",
            "======== Epoch 3 / 10 ========\n",
            "Batch    10  of    150.    Elapsed: 0:00:01.\n",
            "Batch    20  of    150.    Elapsed: 0:00:03.\n",
            "Batch    30  of    150.    Elapsed: 0:00:04.\n",
            "Batch    40  of    150.    Elapsed: 0:00:05.\n",
            "Batch    50  of    150.    Elapsed: 0:00:07.\n",
            "Batch    60  of    150.    Elapsed: 0:00:08.\n",
            "Batch    70  of    150.    Elapsed: 0:00:09.\n",
            "Batch    80  of    150.    Elapsed: 0:00:11.\n",
            "Batch    90  of    150.    Elapsed: 0:00:12.\n",
            "Batch   100  of    150.    Elapsed: 0:00:13.\n",
            "Batch   110  of    150.    Elapsed: 0:00:15.\n",
            "Batch   120  of    150.    Elapsed: 0:00:16.\n",
            "Batch   130  of    150.    Elapsed: 0:00:17.\n",
            "Batch   140  of    150.    Elapsed: 0:00:19.\n",
            "Average training loss: 0.26\n",
            "Training epoch took: 0:00:20\n",
            "======== Epoch 4 / 10 ========\n",
            "Batch    10  of    150.    Elapsed: 0:00:01.\n",
            "Batch    20  of    150.    Elapsed: 0:00:03.\n",
            "Batch    30  of    150.    Elapsed: 0:00:04.\n",
            "Batch    40  of    150.    Elapsed: 0:00:05.\n",
            "Batch    50  of    150.    Elapsed: 0:00:07.\n",
            "Batch    60  of    150.    Elapsed: 0:00:08.\n",
            "Batch    70  of    150.    Elapsed: 0:00:09.\n",
            "Batch    80  of    150.    Elapsed: 0:00:11.\n",
            "Batch    90  of    150.    Elapsed: 0:00:12.\n",
            "Batch   100  of    150.    Elapsed: 0:00:13.\n",
            "Batch   110  of    150.    Elapsed: 0:00:15.\n",
            "Batch   120  of    150.    Elapsed: 0:00:16.\n",
            "Batch   130  of    150.    Elapsed: 0:00:18.\n",
            "Batch   140  of    150.    Elapsed: 0:00:19.\n",
            "Average training loss: 0.13\n",
            "Training epoch took: 0:00:20\n",
            "======== Epoch 5 / 10 ========\n",
            "Batch    10  of    150.    Elapsed: 0:00:01.\n",
            "Batch    20  of    150.    Elapsed: 0:00:03.\n",
            "Batch    30  of    150.    Elapsed: 0:00:04.\n",
            "Batch    40  of    150.    Elapsed: 0:00:05.\n",
            "Batch    50  of    150.    Elapsed: 0:00:07.\n",
            "Batch    60  of    150.    Elapsed: 0:00:08.\n",
            "Batch    70  of    150.    Elapsed: 0:00:10.\n",
            "Batch    80  of    150.    Elapsed: 0:00:11.\n",
            "Batch    90  of    150.    Elapsed: 0:00:12.\n",
            "Batch   100  of    150.    Elapsed: 0:00:14.\n",
            "Batch   110  of    150.    Elapsed: 0:00:15.\n",
            "Batch   120  of    150.    Elapsed: 0:00:16.\n",
            "Batch   130  of    150.    Elapsed: 0:00:18.\n",
            "Batch   140  of    150.    Elapsed: 0:00:19.\n",
            "Average training loss: 0.07\n",
            "Training epoch took: 0:00:21\n",
            "======== Epoch 6 / 10 ========\n",
            "Batch    10  of    150.    Elapsed: 0:00:01.\n",
            "Batch    20  of    150.    Elapsed: 0:00:03.\n",
            "Batch    30  of    150.    Elapsed: 0:00:04.\n",
            "Batch    40  of    150.    Elapsed: 0:00:05.\n",
            "Batch    50  of    150.    Elapsed: 0:00:07.\n",
            "Batch    60  of    150.    Elapsed: 0:00:08.\n",
            "Batch    70  of    150.    Elapsed: 0:00:10.\n",
            "Batch    80  of    150.    Elapsed: 0:00:11.\n",
            "Batch    90  of    150.    Elapsed: 0:00:12.\n",
            "Batch   100  of    150.    Elapsed: 0:00:14.\n",
            "Batch   110  of    150.    Elapsed: 0:00:15.\n",
            "Batch   120  of    150.    Elapsed: 0:00:17.\n",
            "Batch   130  of    150.    Elapsed: 0:00:18.\n",
            "Batch   140  of    150.    Elapsed: 0:00:19.\n",
            "Average training loss: 0.05\n",
            "Training epoch took: 0:00:21\n",
            "======== Epoch 7 / 10 ========\n",
            "Batch    10  of    150.    Elapsed: 0:00:01.\n",
            "Batch    20  of    150.    Elapsed: 0:00:03.\n",
            "Batch    30  of    150.    Elapsed: 0:00:04.\n",
            "Batch    40  of    150.    Elapsed: 0:00:06.\n",
            "Batch    50  of    150.    Elapsed: 0:00:07.\n",
            "Batch    60  of    150.    Elapsed: 0:00:08.\n",
            "Batch    70  of    150.    Elapsed: 0:00:10.\n",
            "Batch    80  of    150.    Elapsed: 0:00:11.\n",
            "Batch    90  of    150.    Elapsed: 0:00:13.\n",
            "Batch   100  of    150.    Elapsed: 0:00:14.\n",
            "Batch   110  of    150.    Elapsed: 0:00:15.\n",
            "Batch   120  of    150.    Elapsed: 0:00:17.\n",
            "Batch   130  of    150.    Elapsed: 0:00:18.\n",
            "Batch   140  of    150.    Elapsed: 0:00:20.\n",
            "Average training loss: 0.02\n",
            "Training epoch took: 0:00:21\n",
            "======== Epoch 8 / 10 ========\n",
            "Batch    10  of    150.    Elapsed: 0:00:01.\n",
            "Batch    20  of    150.    Elapsed: 0:00:03.\n",
            "Batch    30  of    150.    Elapsed: 0:00:04.\n",
            "Batch    40  of    150.    Elapsed: 0:00:06.\n",
            "Batch    50  of    150.    Elapsed: 0:00:07.\n",
            "Batch    60  of    150.    Elapsed: 0:00:08.\n",
            "Batch    70  of    150.    Elapsed: 0:00:10.\n",
            "Batch    80  of    150.    Elapsed: 0:00:11.\n",
            "Batch    90  of    150.    Elapsed: 0:00:13.\n",
            "Batch   100  of    150.    Elapsed: 0:00:14.\n",
            "Batch   110  of    150.    Elapsed: 0:00:15.\n",
            "Batch   120  of    150.    Elapsed: 0:00:17.\n",
            "Batch   130  of    150.    Elapsed: 0:00:18.\n",
            "Batch   140  of    150.    Elapsed: 0:00:20.\n",
            "Average training loss: 0.02\n",
            "Training epoch took: 0:00:21\n",
            "======== Epoch 9 / 10 ========\n",
            "Batch    10  of    150.    Elapsed: 0:00:01.\n",
            "Batch    20  of    150.    Elapsed: 0:00:03.\n",
            "Batch    30  of    150.    Elapsed: 0:00:04.\n",
            "Batch    40  of    150.    Elapsed: 0:00:06.\n",
            "Batch    50  of    150.    Elapsed: 0:00:07.\n",
            "Batch    60  of    150.    Elapsed: 0:00:08.\n",
            "Batch    70  of    150.    Elapsed: 0:00:10.\n",
            "Batch    80  of    150.    Elapsed: 0:00:11.\n",
            "Batch    90  of    150.    Elapsed: 0:00:13.\n",
            "Batch   100  of    150.    Elapsed: 0:00:14.\n",
            "Batch   110  of    150.    Elapsed: 0:00:16.\n",
            "Batch   120  of    150.    Elapsed: 0:00:17.\n",
            "Batch   130  of    150.    Elapsed: 0:00:18.\n",
            "Batch   140  of    150.    Elapsed: 0:00:20.\n",
            "Average training loss: 0.01\n",
            "Training epoch took: 0:00:21\n",
            "======== Epoch 10 / 10 ========\n",
            "Batch    10  of    150.    Elapsed: 0:00:01.\n",
            "Batch    20  of    150.    Elapsed: 0:00:03.\n",
            "Batch    30  of    150.    Elapsed: 0:00:04.\n",
            "Batch    40  of    150.    Elapsed: 0:00:06.\n",
            "Batch    50  of    150.    Elapsed: 0:00:07.\n",
            "Batch    60  of    150.    Elapsed: 0:00:08.\n",
            "Batch    70  of    150.    Elapsed: 0:00:10.\n",
            "Batch    80  of    150.    Elapsed: 0:00:11.\n",
            "Batch    90  of    150.    Elapsed: 0:00:13.\n",
            "Batch   100  of    150.    Elapsed: 0:00:14.\n",
            "Batch   110  of    150.    Elapsed: 0:00:16.\n",
            "Batch   120  of    150.    Elapsed: 0:00:17.\n",
            "Batch   130  of    150.    Elapsed: 0:00:18.\n",
            "Batch   140  of    150.    Elapsed: 0:00:20.\n",
            "Average training loss: 0.01\n",
            "Training epoch took: 0:00:21\n",
            "Training completed in 0:03:26 (h:mm:ss)\n"
          ]
        }
      ]
    },
    {
      "cell_type": "code",
      "source": [
        "df_stats = pd.DataFrame(data=training_stats)\n",
        "plt.plot(df_stats['Training Loss'], label=\"Training\")\n",
        "plt.title(\"Training Loss\")\n",
        "plt.xlabel(\"Epoch\")\n",
        "plt.ylabel(\"Loss\")\n",
        "plt.xticks([1, 2, 3, 4])\n",
        "plt.show()"
      ],
      "metadata": {
        "colab": {
          "base_uri": "https://localhost:8080/",
          "height": 472
        },
        "id": "Vt5NHTbIcaZU",
        "outputId": "5a5154df-b26c-41aa-bc37-2307bd0fdcc4"
      },
      "execution_count": null,
      "outputs": [
        {
          "output_type": "display_data",
          "data": {
            "text/plain": [
              "<Figure size 640x480 with 1 Axes>"
            ],
            "image/png": "[encoded data removed]"
          },
          "metadata": {}
        }
      ]
    },
    {
      "cell_type": "code",
      "source": [
        "test_texts = test.text.values\n",
        "test_labels = test.label.values\n",
        "\n",
        "input_ids = []\n",
        "attention_masks = []\n",
        "\n",
        "for text in test_texts:\n",
        "    encoded_dict = tokenizer.encode_plus(\n",
        "                        text,\n",
        "                        add_special_tokens = True,\n",
        "                        max_length = max_len,\n",
        "                        pad_to_max_length = True,\n",
        "                        return_attention_mask = True,\n",
        "                        return_tensors = 'pt',\n",
        "                   )\n",
        "\n",
        "    input_ids.append(encoded_dict['input_ids'])\n",
        "    attention_masks.append(encoded_dict['attention_mask'])\n",
        "\n",
        "input_ids = torch.cat(input_ids, dim=0)\n",
        "attention_masks = torch.cat(attention_masks, dim=0)\n",
        "labels = torch.tensor(test_labels)\n",
        "\n",
        "batch_size = 32\n",
        "\n",
        "prediction_data = TensorDataset(input_ids, attention_masks, labels)\n",
        "prediction_sampler = SequentialSampler(prediction_data)\n",
        "prediction_dataloader = DataLoader(prediction_data, sampler=prediction_sampler, batch_size=batch_size)"
      ],
      "metadata": {
        "id": "t4Nqi3UDccTd"
      },
      "execution_count": null,
      "outputs": []
    },
    {
      "cell_type": "code",
      "source": [
        "print('Prediction started on test data')\n",
        "model.eval()\n",
        "predictions , true_labels, prdict_label = [], [], []\n",
        "\n",
        "for batch in prediction_dataloader:\n",
        "  batch = tuple(t.to(device) for t in batch)\n",
        "  b_input_ids, b_input_mask, b_labels = batch\n",
        "\n",
        "  with torch.no_grad():\n",
        "      outputs = model(b_input_ids,\n",
        "                      attention_mask=b_input_mask)\n",
        "\n",
        "  logits = outputs[0]\n",
        "  logits = logits.detach().cpu().numpy()\n",
        "  label_ids = b_labels.to('cpu').numpy()\n",
        "\n",
        "\n",
        "  predictions.append(logits)\n",
        "  true_labels.append(label_ids)\n",
        "  prdict_label.append(np.argmax(logits, axis=1).flatten())\n",
        "\n",
        "print('Prediction completed')"
      ],
      "metadata": {
        "colab": {
          "base_uri": "https://localhost:8080/"
        },
        "id": "nXp_OydJcdLe",
        "outputId": "dc40db40-9583-4951-b3cd-960d57537353"
      },
      "execution_count": null,
      "outputs": [
        {
          "output_type": "stream",
          "name": "stdout",
          "text": [
            "Prediction started on test data\n",
            "Prediction completed\n"
          ]
        }
      ]
    },
    {
      "cell_type": "code",
      "source": [
        "true_labels_flat = [item for sublist in true_labels for item in sublist]\n",
        "predicted_labels_flat = [item for sublist in prdict_label for item in sublist]\n",
        "\n",
        "cm = confusion_matrix(true_labels_flat, predicted_labels_flat)\n",
        "\n",
        "\n",
        "# Sınıf isimlerini belirle\n",
        "class_names = ['Cinsiyetçilik', 'Irkçılık', 'Kızdırma', 'Nötr']\n",
        "\n",
        "# Karışıklık matrisini görselleştir\n",
        "plt.figure(figsize=(8, 6))\n",
        "sns.heatmap(cm, annot=True, fmt='d', cmap='Blues', xticklabels=class_names, yticklabels=class_names)\n",
        "plt.xlabel('True')\n",
        "plt.ylabel('Predicted')\n",
        "plt.title('Confusion Matrix')\n",
        "plt.show()"
      ],
      "metadata": {
        "colab": {
          "base_uri": "https://localhost:8080/",
          "height": 564
        },
        "id": "YURqcDikchTp",
        "outputId": "e59bc963-f5e6-4a0f-bc65-d903238e53cf"
      },
      "execution_count": null,
      "outputs": [
        {
          "output_type": "display_data",
          "data": {
            "text/plain": [
              "<Figure size 800x600 with 2 Axes>"
            ],
            "image/png": "[encoded data removed]"
          },
          "metadata": {}
        }
      ]
    },
    {
      "cell_type": "code",
      "source": [
        "prediction_set = []\n",
        "\n",
        "for i in range(len(true_labels)):\n",
        "  pred_labels_i = np.argmax(predictions[i], axis=1).flatten()\n",
        "  prediction_set.append(pred_labels_i)\n",
        "\n",
        "prediction_scores = [item for sublist in prediction_set for item in sublist]"
      ],
      "metadata": {
        "id": "2wH3JlIWciv9"
      },
      "execution_count": null,
      "outputs": []
    },
    {
      "cell_type": "code",
      "source": [
        "f_score = f1_score(test_labels, prediction_scores, average='macro')\n",
        "precision = precision_score(test_labels, prediction_scores, average='macro')\n",
        "recall = recall_score(test_labels, prediction_scores, average='macro')\n",
        "accr = accuracy_score(test_labels, prediction_scores)"
      ],
      "metadata": {
        "id": "85qXNe_5cj4s"
      },
      "execution_count": null,
      "outputs": []
    },
    {
      "cell_type": "code",
      "source": [
        "print(\"F-Score: \", f_score)\n",
        "print(\"Recall: \", recall)\n",
        "print(\"Precision: \", precision)\n",
        "print(\"Accuracy: \", accr)"
      ],
      "metadata": {
        "colab": {
          "base_uri": "https://localhost:8080/"
        },
        "id": "ZwllC3Kcck8y",
        "outputId": "4d76c7e8-8bf0-4c9e-ca18-0f049b6209db"
      },
      "execution_count": null,
      "outputs": [
        {
          "output_type": "stream",
          "name": "stdout",
          "text": [
            "F-Score:  0.830328108060622\n",
            "Recall:  0.8275837257980114\n",
            "Precision:  0.8334217235744872\n",
            "Accuracy:  0.8221476510067114\n"
          ]
        }
      ]
    },
    {
      "cell_type": "code",
      "source": [
        "report = pd.DataFrame(classification_report(test_labels, prediction_scores, output_dict=True))\n"
      ],
      "metadata": {
        "id": "LrjbBfImcmF8"
      },
      "execution_count": null,
      "outputs": []
    },
    {
      "cell_type": "code",
      "source": [
        "report = report.rename(columns={\n",
        "                                '0':'Cinsiyetçilik',\n",
        "                                '1':'Irkçılık',\n",
        "                                '2':'Kızdırma',\n",
        "                                '3':'Nötr'})\n",
        "report"
      ],
      "metadata": {
        "colab": {
          "base_uri": "https://localhost:8080/",
          "height": 175
        },
        "id": "nTHWNzJzcnBU",
        "outputId": "a5804666-5081-4164-beb7-7985a3cbcb6a"
      },
      "execution_count": null,
      "outputs": [
        {
          "output_type": "execute_result",
          "data": {
            "text/plain": [
              "           Cinsiyetçilik   Irkçılık    Kızdırma        Nötr  accuracy  \\\n",
              "precision       0.913793   0.843750    0.772222    0.803922  0.822148   \n",
              "recall          0.883333   0.826531    0.763736    0.836735  0.822148   \n",
              "f1-score        0.898305   0.835052    0.767956    0.820000  0.822148   \n",
              "support       120.000000  98.000000  182.000000  196.000000  0.822148   \n",
              "\n",
              "            macro avg  weighted avg  \n",
              "precision    0.833422      0.822912  \n",
              "recall       0.827584      0.822148  \n",
              "f1-score     0.830328      0.822348  \n",
              "support    596.000000    596.000000  "
            ],
            "text/html": [
              "\n",
              "  <div id=\"df-7b5d80b1-d2f9-469a-837e-7faba0200e89\" class=\"colab-df-container\">\n",
              "    <div>\n",
              "<style scoped>\n",
              "    .dataframe tbody tr th:only-of-type {\n",
              "        vertical-align: middle;\n",
              "    }\n",
              "\n",
              "    .dataframe tbody tr th {\n",
              "        vertical-align: top;\n",
              "    }\n",
              "\n",
              "    .dataframe thead th {\n",
              "        text-align: right;\n",
              "    }\n",
              "</style>\n",
              "<table border=\"1\" class=\"dataframe\">\n",
              "  <thead>\n",
              "    <tr style=\"text-align: right;\">\n",
              "      <th></th>\n",
              "      <th>Cinsiyetçilik</th>\n",
              "      <th>Irkçılık</th>\n",
              "      <th>Kızdırma</th>\n",
              "      <th>Nötr</th>\n",
              "      <th>accuracy</th>\n",
              "      <th>macro avg</th>\n",
              "      <th>weighted avg</th>\n",
              "    </tr>\n",
              "  </thead>\n",
              "  <tbody>\n",
              "    <tr>\n",
              "      <th>precision</th>\n",
              "      <td>0.913793</td>\n",
              "      <td>0.843750</td>\n",
              "      <td>0.772222</td>\n",
              "      <td>0.803922</td>\n",
              "      <td>0.822148</td>\n",
              "      <td>0.833422</td>\n",
              "      <td>0.822912</td>\n",
              "    </tr>\n",
              "    <tr>\n",
              "      <th>recall</th>\n",
              "      <td>0.883333</td>\n",
              "      <td>0.826531</td>\n",
              "      <td>0.763736</td>\n",
              "      <td>0.836735</td>\n",
              "      <td>0.822148</td>\n",
              "      <td>0.827584</td>\n",
              "      <td>0.822148</td>\n",
              "    </tr>\n",
              "    <tr>\n",
              "      <th>f1-score</th>\n",
              "      <td>0.898305</td>\n",
              "      <td>0.835052</td>\n",
              "      <td>0.767956</td>\n",
              "      <td>0.820000</td>\n",
              "      <td>0.822148</td>\n",
              "      <td>0.830328</td>\n",
              "      <td>0.822348</td>\n",
              "    </tr>\n",
              "    <tr>\n",
              "      <th>support</th>\n",
              "      <td>120.000000</td>\n",
              "      <td>98.000000</td>\n",
              "      <td>182.000000</td>\n",
              "      <td>196.000000</td>\n",
              "      <td>0.822148</td>\n",
              "      <td>596.000000</td>\n",
              "      <td>596.000000</td>\n",
              "    </tr>\n",
              "  </tbody>\n",
              "</table>\n",
              "</div>\n",
              "    <div class=\"colab-df-buttons\">\n",
              "\n",
              "  <div class=\"colab-df-container\">\n",
              "    <button class=\"colab-df-convert\" onclick=\"convertToInteractive('df-7b5d80b1-d2f9-469a-837e-7faba0200e89')\"\n",
              "            title=\"Convert this dataframe to an interactive table.\"\n",
              "            style=\"display:none;\">\n",
              "\n",
              "  <svg xmlns=\"http://www.w3.org/2000/svg\" height=\"24px\" viewBox=\"0 -960 960 960\">\n",
              "    <path d=\"M120-120v-720h720v720H120Zm60-500h600v-160H180v160Zm220 220h160v-160H400v160Zm0 220h160v-160H400v160ZM180-400h160v-160H180v160Zm440 0h160v-160H620v160ZM180-180h160v-160H180v160Zm440 0h160v-160H620v160Z\"/>\n",
              "  </svg>\n",
              "    </button>\n",
              "\n",
              "  <style>\n",
              "    .colab-df-container {\n",
              "      display:flex;\n",
              "      gap: 12px;\n",
              "    }\n",
              "\n",
              "    .colab-df-convert {\n",
              "      background-color: #E8F0FE;\n",
              "      border: none;\n",
              "      border-radius: 50%;\n",
              "      cursor: pointer;\n",
              "      display: none;\n",
              "      fill: #1967D2;\n",
              "      height: 32px;\n",
              "      padding: 0 0 0 0;\n",
              "      width: 32px;\n",
              "    }\n",
              "\n",
              "    .colab-df-convert:hover {\n",
              "      background-color: #E2EBFA;\n",
              "      box-shadow: 0px 1px 2px rgba(60, 64, 67, 0.3), 0px 1px 3px 1px rgba(60, 64, 67, 0.15);\n",
              "      fill: #174EA6;\n",
              "    }\n",
              "\n",
              "    .colab-df-buttons div {\n",
              "      margin-bottom: 4px;\n",
              "    }\n",
              "\n",
              "    [theme=dark] .colab-df-convert {\n",
              "      background-color: #3B4455;\n",
              "      fill: #D2E3FC;\n",
              "    }\n",
              "\n",
              "    [theme=dark] .colab-df-convert:hover {\n",
              "      background-color: #434B5C;\n",
              "      box-shadow: 0px 1px 3px 1px rgba(0, 0, 0, 0.15);\n",
              "      filter: drop-shadow(0px 1px 2px rgba(0, 0, 0, 0.3));\n",
              "      fill: #FFFFFF;\n",
              "    }\n",
              "  </style>\n",
              "\n",
              "    <script>\n",
              "      const buttonEl =\n",
              "        document.querySelector('#df-7b5d80b1-d2f9-469a-837e-7faba0200e89 button.colab-df-convert');\n",
              "      buttonEl.style.display =\n",
              "        google.colab.kernel.accessAllowed ? 'block' : 'none';\n",
              "\n",
              "      async function convertToInteractive(key) {\n",
              "        const element = document.querySelector('#df-7b5d80b1-d2f9-469a-837e-7faba0200e89');\n",
              "        const dataTable =\n",
              "          await google.colab.kernel.invokeFunction('convertToInteractive',\n",
              "                                                    [key], {});\n",
              "        if (!dataTable) return;\n",
              "\n",
              "        const docLinkHtml = 'Like what you see? Visit the ' +\n",
              "          '<a target=\"_blank\" href=https://colab.research.google.com/notebooks/data_table.ipynb>data table notebook</a>'\n",
              "          + ' to learn more about interactive tables.';\n",
              "        element.innerHTML = '';\n",
              "        dataTable['output_type'] = 'display_data';\n",
              "        await google.colab.output.renderOutput(dataTable, element);\n",
              "        const docLink = document.createElement('div');\n",
              "        docLink.innerHTML = docLinkHtml;\n",
              "        element.appendChild(docLink);\n",
              "      }\n",
              "    </script>\n",
              "  </div>\n",
              "\n",
              "\n",
              "<div id=\"df-4da023b6-0dac-4328-aa29-83c427145de4\">\n",
              "  <button class=\"colab-df-quickchart\" onclick=\"quickchart('df-4da023b6-0dac-4328-aa29-83c427145de4')\"\n",
              "            title=\"Suggest charts\"\n",
              "            style=\"display:none;\">\n",
              "\n",
              "<svg xmlns=\"http://www.w3.org/2000/svg\" height=\"24px\"viewBox=\"0 0 24 24\"\n",
              "     width=\"24px\">\n",
              "    <g>\n",
              "        <path d=\"M19 3H5c-1.1 0-2 .9-2 2v14c0 1.1.9 2 2 2h14c1.1 0 2-.9 2-2V5c0-1.1-.9-2-2-2zM9 17H7v-7h2v7zm4 0h-2V7h2v10zm4 0h-2v-4h2v4z\"/>\n",
              "    </g>\n",
              "</svg>\n",
              "  </button>\n",
              "\n",
              "<style>\n",
              "  .colab-df-quickchart {\n",
              "      --bg-color: #E8F0FE;\n",
              "      --fill-color: #1967D2;\n",
              "      --hover-bg-color: #E2EBFA;\n",
              "      --hover-fill-color: #174EA6;\n",
              "      --disabled-fill-color: #AAA;\n",
              "      --disabled-bg-color: #DDD;\n",
              "  }\n",
              "\n",
              "  [theme=dark] .colab-df-quickchart {\n",
              "      --bg-color: #3B4455;\n",
              "      --fill-color: #D2E3FC;\n",
              "      --hover-bg-color: #434B5C;\n",
              "      --hover-fill-color: #FFFFFF;\n",
              "      --disabled-bg-color: #3B4455;\n",
              "      --disabled-fill-color: #666;\n",
              "  }\n",
              "\n",
              "  .colab-df-quickchart {\n",
              "    background-color: var(--bg-color);\n",
              "    border: none;\n",
              "    border-radius: 50%;\n",
              "    cursor: pointer;\n",
              "    display: none;\n",
              "    fill: var(--fill-color);\n",
              "    height: 32px;\n",
              "    padding: 0;\n",
              "    width: 32px;\n",
              "  }\n",
              "\n",
              "  .colab-df-quickchart:hover {\n",
              "    background-color: var(--hover-bg-color);\n",
              "    box-shadow: 0 1px 2px rgba(60, 64, 67, 0.3), 0 1px 3px 1px rgba(60, 64, 67, 0.15);\n",
              "    fill: var(--button-hover-fill-color);\n",
              "  }\n",
              "\n",
              "  .colab-df-quickchart-complete:disabled,\n",
              "  .colab-df-quickchart-complete:disabled:hover {\n",
              "    background-color: var(--disabled-bg-color);\n",
              "    fill: var(--disabled-fill-color);\n",
              "    box-shadow: none;\n",
              "  }\n",
              "\n",
              "  .colab-df-spinner {\n",
              "    border: 2px solid var(--fill-color);\n",
              "    border-color: transparent;\n",
              "    border-bottom-color: var(--fill-color);\n",
              "    animation:\n",
              "      spin 1s steps(1) infinite;\n",
              "  }\n",
              "\n",
              "  @keyframes spin {\n",
              "    0% {\n",
              "      border-color: transparent;\n",
              "      border-bottom-color: var(--fill-color);\n",
              "      border-left-color: var(--fill-color);\n",
              "    }\n",
              "    20% {\n",
              "      border-color: transparent;\n",
              "      border-left-color: var(--fill-color);\n",
              "      border-top-color: var(--fill-color);\n",
              "    }\n",
              "    30% {\n",
              "      border-color: transparent;\n",
              "      border-left-color: var(--fill-color);\n",
              "      border-top-color: var(--fill-color);\n",
              "      border-right-color: var(--fill-color);\n",
              "    }\n",
              "    40% {\n",
              "      border-color: transparent;\n",
              "      border-right-color: var(--fill-color);\n",
              "      border-top-color: var(--fill-color);\n",
              "    }\n",
              "    60% {\n",
              "      border-color: transparent;\n",
              "      border-right-color: var(--fill-color);\n",
              "    }\n",
              "    80% {\n",
              "      border-color: transparent;\n",
              "      border-right-color: var(--fill-color);\n",
              "      border-bottom-color: var(--fill-color);\n",
              "    }\n",
              "    90% {\n",
              "      border-color: transparent;\n",
              "      border-bottom-color: var(--fill-color);\n",
              "    }\n",
              "  }\n",
              "</style>\n",
              "\n",
              "  <script>\n",
              "    async function quickchart(key) {\n",
              "      const quickchartButtonEl =\n",
              "        document.querySelector('#' + key + ' button');\n",
              "      quickchartButtonEl.disabled = true;  // To prevent multiple clicks.\n",
              "      quickchartButtonEl.classList.add('colab-df-spinner');\n",
              "      try {\n",
              "        const charts = await google.colab.kernel.invokeFunction(\n",
              "            'suggestCharts', [key], {});\n",
              "      } catch (error) {\n",
              "        console.error('Error during call to suggestCharts:', error);\n",
              "      }\n",
              "      quickchartButtonEl.classList.remove('colab-df-spinner');\n",
              "      quickchartButtonEl.classList.add('colab-df-quickchart-complete');\n",
              "    }\n",
              "    (() => {\n",
              "      let quickchartButtonEl =\n",
              "        document.querySelector('#df-4da023b6-0dac-4328-aa29-83c427145de4 button');\n",
              "      quickchartButtonEl.style.display =\n",
              "        google.colab.kernel.accessAllowed ? 'block' : 'none';\n",
              "    })();\n",
              "  </script>\n",
              "</div>\n",
              "\n",
              "  <div id=\"id_902ec3b0-f7fe-41aa-b7d2-02beee413ec5\">\n",
              "    <style>\n",
              "      .colab-df-generate {\n",
              "        background-color: #E8F0FE;\n",
              "        border: none;\n",
              "        border-radius: 50%;\n",
              "        cursor: pointer;\n",
              "        display: none;\n",
              "        fill: #1967D2;\n",
              "        height: 32px;\n",
              "        padding: 0 0 0 0;\n",
              "        width: 32px;\n",
              "      }\n",
              "\n",
              "      .colab-df-generate:hover {\n",
              "        background-color: #E2EBFA;\n",
              "        box-shadow: 0px 1px 2px rgba(60, 64, 67, 0.3), 0px 1px 3px 1px rgba(60, 64, 67, 0.15);\n",
              "        fill: #174EA6;\n",
              "      }\n",
              "\n",
              "      [theme=dark] .colab-df-generate {\n",
              "        background-color: #3B4455;\n",
              "        fill: #D2E3FC;\n",
              "      }\n",
              "\n",
              "      [theme=dark] .colab-df-generate:hover {\n",
              "        background-color: #434B5C;\n",
              "        box-shadow: 0px 1px 3px 1px rgba(0, 0, 0, 0.15);\n",
              "        filter: drop-shadow(0px 1px 2px rgba(0, 0, 0, 0.3));\n",
              "        fill: #FFFFFF;\n",
              "      }\n",
              "    </style>\n",
              "    <button class=\"colab-df-generate\" onclick=\"generateWithVariable('report')\"\n",
              "            title=\"Generate code using this dataframe.\"\n",
              "            style=\"display:none;\">\n",
              "\n",
              "  <svg xmlns=\"http://www.w3.org/2000/svg\" height=\"24px\"viewBox=\"0 0 24 24\"\n",
              "       width=\"24px\">\n",
              "    <path d=\"M7,19H8.4L18.45,9,17,7.55,7,17.6ZM5,21V16.75L18.45,3.32a2,2,0,0,1,2.83,0l1.4,1.43a1.91,1.91,0,0,1,.58,1.4,1.91,1.91,0,0,1-.58,1.4L9.25,21ZM18.45,9,17,7.55Zm-12,3A5.31,5.31,0,0,0,4.9,8.1,5.31,5.31,0,0,0,1,6.5,5.31,5.31,0,0,0,4.9,4.9,5.31,5.31,0,0,0,6.5,1,5.31,5.31,0,0,0,8.1,4.9,5.31,5.31,0,0,0,12,6.5,5.46,5.46,0,0,0,6.5,12Z\"/>\n",
              "  </svg>\n",
              "    </button>\n",
              "    <script>\n",
              "      (() => {\n",
              "      const buttonEl =\n",
              "        document.querySelector('#id_902ec3b0-f7fe-41aa-b7d2-02beee413ec5 button.colab-df-generate');\n",
              "      buttonEl.style.display =\n",
              "        google.colab.kernel.accessAllowed ? 'block' : 'none';\n",
              "\n",
              "      buttonEl.onclick = () => {\n",
              "        google.colab.notebook.generateWithVariable('report');\n",
              "      }\n",
              "      })();\n",
              "    </script>\n",
              "  </div>\n",
              "\n",
              "    </div>\n",
              "  </div>\n"
            ],
            "application/vnd.google.colaboratory.intrinsic+json": {
              "type": "dataframe",
              "variable_name": "report",
              "summary": "{\n  \"name\": \"report\",\n  \"rows\": 4,\n  \"fields\": [\n    {\n      \"column\": \"Cinsiyet\\u00e7ilik\",\n      \"properties\": {\n        \"dtype\": \"number\",\n        \"std\": 59.55076271153184,\n        \"min\": 0.8833333333333333,\n        \"max\": 120.0,\n        \"num_unique_values\": 4,\n        \"samples\": [\n          0.8833333333333333,\n          120.0,\n          0.9137931034482759\n        ],\n        \"semantic_type\": \"\",\n        \"description\": \"\"\n      }\n    },\n    {\n      \"column\": \"Irk\\u00e7\\u0131l\\u0131k\",\n      \"properties\": {\n        \"dtype\": \"number\",\n        \"std\": 48.58244514884342,\n        \"min\": 0.826530612244898,\n        \"max\": 98.0,\n        \"num_unique_values\": 4,\n        \"samples\": [\n          0.826530612244898,\n          98.0,\n          0.84375\n        ],\n        \"semantic_type\": \"\",\n        \"description\": \"\"\n      }\n    },\n    {\n      \"column\": \"K\\u0131zd\\u0131rma\",\n      \"properties\": {\n        \"dtype\": \"number\",\n        \"std\": 90.61601435171413,\n        \"min\": 0.7637362637362637,\n        \"max\": 182.0,\n        \"num_unique_values\": 4,\n        \"samples\": [\n          0.7637362637362637,\n          182.0,\n          0.7722222222222223\n        ],\n        \"semantic_type\": \"\",\n        \"description\": \"\"\n      }\n    },\n    {\n      \"column\": \"N\\u00f6tr\",\n      \"properties\": {\n        \"dtype\": \"number\",\n        \"std\": 97.58989154244819,\n        \"min\": 0.803921568627451,\n        \"max\": 196.0,\n        \"num_unique_values\": 4,\n        \"samples\": [\n          0.8367346938775511,\n          196.0,\n          0.803921568627451\n        ],\n        \"semantic_type\": \"\",\n        \"description\": \"\"\n      }\n    },\n    {\n      \"column\": \"accuracy\",\n      \"properties\": {\n        \"dtype\": \"number\",\n        \"std\": 0.0,\n        \"min\": 0.8221476510067114,\n        \"max\": 0.8221476510067114,\n        \"num_unique_values\": 1,\n        \"samples\": [\n          0.8221476510067114\n        ],\n        \"semantic_type\": \"\",\n        \"description\": \"\"\n      }\n    },\n    {\n      \"column\": \"macro avg\",\n      \"properties\": {\n        \"dtype\": \"number\",\n        \"std\": 297.58477774998335,\n        \"min\": 0.8275837257980114,\n        \"max\": 596.0,\n        \"num_unique_values\": 4,\n        \"samples\": [\n          0.8275837257980114\n        ],\n        \"semantic_type\": \"\",\n        \"description\": \"\"\n      }\n    },\n    {\n      \"column\": \"weighted avg\",\n      \"properties\": {\n        \"dtype\": \"number\",\n        \"std\": 297.58876527930744,\n        \"min\": 0.8221476510067114,\n        \"max\": 596.0,\n        \"num_unique_values\": 4,\n        \"samples\": [\n          0.8221476510067114\n        ],\n        \"semantic_type\": \"\",\n        \"description\": \"\"\n      }\n    }\n  ]\n}"
            }
          },
          "metadata": {},
          "execution_count": 34
        }
      ]
    },
    {
      "cell_type": "code",
      "source": [
        "predictions = np.concatenate(predictions, axis=0)\n",
        "true_labels = np.concatenate(true_labels, axis=0)\n",
        "\n",
        "# Sınıf bazında precision, recall, f1-score ve support değerlerini hesaplama\n",
        "class_names = ['Cinsiyetçilik', 'Irkçılık', 'Kızdırma', 'Nötr']\n",
        "print(classification_report(true_labels, np.argmax(predictions, axis=1), target_names=class_names))\n",
        "\n",
        "# Precision-Recall eğrisi hesaplama\n",
        "n_classes = predictions.shape[1]\n",
        "precision = dict()\n",
        "recall = dict()\n",
        "\n",
        "for i in range(n_classes):\n",
        "    precision[i], recall[i], _ = precision_recall_curve(true_labels == i, predictions[:, i])\n",
        "\n",
        "# Metrikleri bir tablo halinde gösterme\n",
        "precision_scores = precision_score(true_labels, np.argmax(predictions, axis=1), average=None)\n",
        "recall_scores = recall_score(true_labels, np.argmax(predictions, axis=1), average=None)\n",
        "f1_scores = f1_score(true_labels, np.argmax(predictions, axis=1), average=None)\n",
        "accuracy = accuracy_score(true_labels, np.argmax(predictions, axis=1))\n",
        "\n",
        "metrics_table = pd.DataFrame({\n",
        "    'Class': class_names,\n",
        "    'Precision': precision_scores,\n",
        "    'Recall': recall_scores,\n",
        "    'F1 Score': f1_scores\n",
        "})\n",
        "metrics_table.loc['Average'] = ['Ortalama', precision_score(true_labels, np.argmax(predictions, axis=1), average='macro'),\n",
        "                                recall_score(true_labels, np.argmax(predictions, axis=1), average='macro'),\n",
        "                                f1_score(true_labels, np.argmax(predictions, axis=1), average='macro')]\n",
        "metrics_table.loc['Total Accuracy'] = ['', '', '', accuracy]\n",
        "\n",
        "print(metrics_table)\n",
        "\n",
        "# PR eğrisini çizme\n",
        "plt.figure(figsize=(10, 7))\n",
        "\n",
        "for i in range(n_classes):\n",
        "    plt.plot(recall[i], precision[i], lw=2, label=class_names[i])\n",
        "\n",
        "\n",
        "plt.xlabel('Recall')\n",
        "plt.ylabel('Precision')\n",
        "plt.title('Precision-Recall Eğrisi')\n",
        "plt.legend(loc='best')\n",
        "plt.show()\n"
      ],
      "metadata": {
        "colab": {
          "base_uri": "https://localhost:8080/",
          "height": 900
        },
        "id": "FTvIvYCJcoVq",
        "outputId": "5a69c91c-a2dc-468f-9cae-443dce9a7643"
      },
      "execution_count": null,
      "outputs": [
        {
          "output_type": "stream",
          "name": "stdout",
          "text": [
            "               precision    recall  f1-score   support\n",
            "\n",
            "Cinsiyetçilik       0.91      0.88      0.90       120\n",
            "     Irkçılık       0.84      0.83      0.84        98\n",
            "     Kızdırma       0.77      0.76      0.77       182\n",
            "         Nötr       0.80      0.84      0.82       196\n",
            "\n",
            "     accuracy                           0.82       596\n",
            "    macro avg       0.83      0.83      0.83       596\n",
            " weighted avg       0.82      0.82      0.82       596\n",
            "\n",
            "                        Class Precision    Recall  F1 Score\n",
            "0               Cinsiyetçilik  0.913793  0.883333  0.898305\n",
            "1                    Irkçılık   0.84375  0.826531  0.835052\n",
            "2                    Kızdırma  0.772222  0.763736  0.767956\n",
            "3                        Nötr  0.803922  0.836735  0.820000\n",
            "Average              Ortalama  0.833422  0.827584  0.830328\n",
            "Total Accuracy                                     0.822148\n"
          ]
        },
        {
          "output_type": "display_data",
          "data": {
            "text/plain": [
              "<Figure size 1000x700 with 1 Axes>"
            ],
            "image/png": "[encoded data removed]"
          },
          "metadata": {}
        }
      ]
    },
    {
      "cell_type": "code",
      "source": [
        "\n",
        "\n",
        "# Metinler\n",
        "texts = [\n",
        "    \"yalnız tam pikniklik hava \",\n",
        "    \"Aptal zihniyetinizde bir Yunan yatıyor\",\n",
        "    \"maça giderken karısına soran adam maça gelmesin\",\n",
        "    \"kör olası çöpçüler aşkımı süpürmüşler\",\n",
        "    \"hala dünya klasiklerini okumamış cahillerle yaşıyorum\",\n",
        "    \"ermenilerden her haltı beklerim\",\n",
        "    \"seninle iyi anlaştık\",\n",
        "    \"büte kalmamış erkek örgü örsün\",\n",
        "    \"mühendisler bir halt bildiğini sananlar sürüsü\",\n",
        "    \"sende bende ne dediğimizi bilmiyoruz\",\n",
        "    \"çok cahil birisin\",\n",
        "    \"bu hallerine acıyorum\",\n",
        "    \"kızlar harici giremez\",\n",
        "    \"kes sesini\",\n",
        "    \"bu aralar iyiisn\",\n",
        "    \"akiili erdogan!\",\n",
        "    \"erdoğan abiye selam söyle\",\n",
        "    \"Türkler çayı sever\",\n",
        "    \"çok cahilsin\",\n",
        "    \"çok cahil biri\",\n",
        "    \"çok cahil birisin\",\n",
        "    \"ikimizde ne dediğimizi bilmiyoruz\",\n",
        "    \"seni gören de bir şey sanır\"\n",
        "]\n",
        "\n",
        "# Model tahminleri\n",
        "pipe = TextClassificationPipeline(model=model, tokenizer=tokenizer, task=\"text-classification\")\n",
        "predictions = pipe(texts)\n",
        "\n",
        "# Sınıf adları\n",
        "class_names = {\n",
        "    \"LABEL_0\": 'Cinsiyetçilik',\n",
        "    \"LABEL_1\": 'Irkçılık',\n",
        "    \"LABEL_2\": 'Kızdırma',\n",
        "    \"LABEL_3\": 'Nötr'\n",
        "}\n",
        "\n",
        "# Tahmin sonuçlarını rapora dönüştürme\n",
        "report = pd.DataFrame(predictions)\n",
        "report['text'] = texts\n",
        "report['label'] = report['label'].map(class_names)\n",
        "report = report[['text', 'label', 'score']]\n",
        "\n",
        "# Raporu yazdırma\n",
        "print(report)"
      ],
      "metadata": {
        "colab": {
          "base_uri": "https://localhost:8080/"
        },
        "id": "i-_pKvsYcp_L",
        "outputId": "c5f7e920-f2d6-4afc-fae7-0f824a414f0c"
      },
      "execution_count": null,
      "outputs": [
        {
          "output_type": "stream",
          "name": "stdout",
          "text": [
            "                                                 text          label     score\n",
            "0                          yalnız tam pikniklik hava            Nötr  0.999756\n",
            "1              Aptal zihniyetinizde bir Yunan yatıyor       Irkçılık  0.999470\n",
            "2     maça giderken karısına soran adam maça gelmesin  Cinsiyetçilik  0.791150\n",
            "3               kör olası çöpçüler aşkımı süpürmüşler       Kızdırma  0.998910\n",
            "4   hala dünya klasiklerini okumamış cahillerle ya...       Kızdırma  0.944341\n",
            "5                     ermenilerden her haltı beklerim       Irkçılık  0.999023\n",
            "6                                seninle iyi anlaştık           Nötr  0.999766\n",
            "7                      büte kalmamış erkek örgü örsün  Cinsiyetçilik  0.998323\n",
            "8      mühendisler bir halt bildiğini sananlar sürüsü       Kızdırma  0.992588\n",
            "9                sende bende ne dediğimizi bilmiyoruz           Nötr  0.999333\n",
            "10                                  çok cahil birisin       Kızdırma  0.997530\n",
            "11                              bu hallerine acıyorum       Kızdırma  0.979844\n",
            "12                              kızlar harici giremez  Cinsiyetçilik  0.999326\n",
            "13                                         kes sesini       Kızdırma  0.999839\n",
            "14                                   bu aralar iyiisn           Nötr  0.999736\n",
            "15                                    akiili erdogan!       Kızdırma  0.998187\n",
            "16                          erdoğan abiye selam söyle           Nötr  0.998390\n",
            "17                                 Türkler çayı sever       Irkçılık  0.993732\n",
            "18                                       çok cahilsin       Kızdırma  0.999873\n",
            "19                                     çok cahil biri       Kızdırma  0.999640\n",
            "20                                  çok cahil birisin       Kızdırma  0.997530\n",
            "21                  ikimizde ne dediğimizi bilmiyoruz           Nötr  0.999696\n",
            "22                        seni gören de bir şey sanır       Kızdırma  0.641143\n"
          ]
        }
      ]
    },
    {
      "cell_type": "code",
      "source": [
        "tokenizer.save_pretrained(\"./distilbert-turkish-based-cyberbullyinG-tokenizer\")\n",
        "model.save_pretrained(\"./distilbert-turkish-based-cyberbullyinG-model\")"
      ],
      "metadata": {
        "id": "1xtnYj1OcxS-"
      },
      "execution_count": null,
      "outputs": []
    },
    {
      "cell_type": "code",
      "source": [
        "import shutil\n",
        "# Model ve tokenizer dosyalarını Google Drive'a taşıma\n",
        "shutil.move(\"./distilbert-turkish-based-cyberbullyinG-tokenizer\", \"/content/drive/My Drive/\")\n",
        "shutil.move(\"./distilbert-turkish-based-cyberbullyinG-model\", \"/content/drive/My Drive/\")"
      ],
      "metadata": {
        "id": "5pmlwfMyc2MN",
        "colab": {
          "base_uri": "https://localhost:8080/",
          "height": 35
        },
        "outputId": "8c8c4135-31d7-471d-b489-06588aa0c08f"
      },
      "execution_count": null,
      "outputs": [
        {
          "output_type": "execute_result",
          "data": {
            "text/plain": [
              "'/content/drive/My Drive/distilbert-turkish-based-cyberbullyinG-model'"
            ],
            "application/vnd.google.colaboratory.intrinsic+json": {
              "type": "string"
            }
          },
          "metadata": {},
          "execution_count": 40
        }
      ]
    }
  ]
}