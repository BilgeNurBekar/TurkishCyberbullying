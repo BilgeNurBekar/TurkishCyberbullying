{
  "nbformat": 4,
  "nbformat_minor": 0,
  "metadata": {
    "colab": {
      "provenance": [],
      "machine_shape": "hm",
      "gpuType": "T4"
    },
    "kernelspec": {
      "name": "python3",
      "display_name": "Python 3"
    },
    "language_info": {
      "name": "python"
    },
    "accelerator": "GPU",
    "widgets": {
      "application/vnd.jupyter.widget-state+json": {
        "0922ddc4eb3243fa8a9b509c6573e1b6": {
          "model_module": "@jupyter-widgets/controls",
          "model_name": "HBoxModel",
          "model_module_version": "1.5.0",
          "state": {
            "_dom_classes": [],
            "_model_module": "@jupyter-widgets/controls",
            "_model_module_version": "1.5.0",
            "_model_name": "HBoxModel",
            "_view_count": null,
            "_view_module": "@jupyter-widgets/controls",
            "_view_module_version": "1.5.0",
            "_view_name": "HBoxView",
            "box_style": "",
            "children": [
              "IPY_MODEL_3a04f865530441189ad78f4af45cde04",
              "IPY_MODEL_31af10ee7ccf4129b1e1d262e221fe2c",
              "IPY_MODEL_cc772dba00ea4b5887bdc9ac56eca5b2"
            ],
            "layout": "IPY_MODEL_e89366d53ad34fe8ad9e8ed731381aa4"
          }
        },
        "3a04f865530441189ad78f4af45cde04": {
          "model_module": "@jupyter-widgets/controls",
          "model_name": "HTMLModel",
          "model_module_version": "1.5.0",
          "state": {
            "_dom_classes": [],
            "_model_module": "@jupyter-widgets/controls",
            "_model_module_version": "1.5.0",
            "_model_name": "HTMLModel",
            "_view_count": null,
            "_view_module": "@jupyter-widgets/controls",
            "_view_module_version": "1.5.0",
            "_view_name": "HTMLView",
            "description": "",
            "description_tooltip": null,
            "layout": "IPY_MODEL_954a734c6b0a42499b7eda6a7e14ac5d",
            "placeholder": "​",
            "style": "IPY_MODEL_08c13dc358d647a18b1ba5f8feb19696",
            "value": "tokenizer_config.json: 100%"
          }
        },
        "31af10ee7ccf4129b1e1d262e221fe2c": {
          "model_module": "@jupyter-widgets/controls",
          "model_name": "FloatProgressModel",
          "model_module_version": "1.5.0",
          "state": {
            "_dom_classes": [],
            "_model_module": "@jupyter-widgets/controls",
            "_model_module_version": "1.5.0",
            "_model_name": "FloatProgressModel",
            "_view_count": null,
            "_view_module": "@jupyter-widgets/controls",
            "_view_module_version": "1.5.0",
            "_view_name": "ProgressView",
            "bar_style": "success",
            "description": "",
            "description_tooltip": null,
            "layout": "IPY_MODEL_b0362a7400e742f29c387b527d4da547",
            "max": 83,
            "min": 0,
            "orientation": "horizontal",
            "style": "IPY_MODEL_6f3f8f7c510f427f9e0c1624739b3471",
            "value": 83
          }
        },
        "cc772dba00ea4b5887bdc9ac56eca5b2": {
          "model_module": "@jupyter-widgets/controls",
          "model_name": "HTMLModel",
          "model_module_version": "1.5.0",
          "state": {
            "_dom_classes": [],
            "_model_module": "@jupyter-widgets/controls",
            "_model_module_version": "1.5.0",
            "_model_name": "HTMLModel",
            "_view_count": null,
            "_view_module": "@jupyter-widgets/controls",
            "_view_module_version": "1.5.0",
            "_view_name": "HTMLView",
            "description": "",
            "description_tooltip": null,
            "layout": "IPY_MODEL_dd28d34063964885949c88bda225fd2f",
            "placeholder": "​",
            "style": "IPY_MODEL_3e92a75d59b845d2baf35e18c48b389c",
            "value": " 83.0/83.0 [00:00&lt;00:00, 6.03kB/s]"
          }
        },
        "e89366d53ad34fe8ad9e8ed731381aa4": {
          "model_module": "@jupyter-widgets/base",
          "model_name": "LayoutModel",
          "model_module_version": "1.2.0",
          "state": {
            "_model_module": "@jupyter-widgets/base",
            "_model_module_version": "1.2.0",
            "_model_name": "LayoutModel",
            "_view_count": null,
            "_view_module": "@jupyter-widgets/base",
            "_view_module_version": "1.2.0",
            "_view_name": "LayoutView",
            "align_content": null,
            "align_items": null,
            "align_self": null,
            "border": null,
            "bottom": null,
            "display": null,
            "flex": null,
            "flex_flow": null,
            "grid_area": null,
            "grid_auto_columns": null,
            "grid_auto_flow": null,
            "grid_auto_rows": null,
            "grid_column": null,
            "grid_gap": null,
            "grid_row": null,
            "grid_template_areas": null,
            "grid_template_columns": null,
            "grid_template_rows": null,
            "height": null,
            "justify_content": null,
            "justify_items": null,
            "left": null,
            "margin": null,
            "max_height": null,
            "max_width": null,
            "min_height": null,
            "min_width": null,
            "object_fit": null,
            "object_position": null,
            "order": null,
            "overflow": null,
            "overflow_x": null,
            "overflow_y": null,
            "padding": null,
            "right": null,
            "top": null,
            "visibility": null,
            "width": null
          }
        },
        "954a734c6b0a42499b7eda6a7e14ac5d": {
          "model_module": "@jupyter-widgets/base",
          "model_name": "LayoutModel",
          "model_module_version": "1.2.0",
          "state": {
            "_model_module": "@jupyter-widgets/base",
            "_model_module_version": "1.2.0",
            "_model_name": "LayoutModel",
            "_view_count": null,
            "_view_module": "@jupyter-widgets/base",
            "_view_module_version": "1.2.0",
            "_view_name": "LayoutView",
            "align_content": null,
            "align_items": null,
            "align_self": null,
            "border": null,
            "bottom": null,
            "display": null,
            "flex": null,
            "flex_flow": null,
            "grid_area": null,
            "grid_auto_columns": null,
            "grid_auto_flow": null,
            "grid_auto_rows": null,
            "grid_column": null,
            "grid_gap": null,
            "grid_row": null,
            "grid_template_areas": null,
            "grid_template_columns": null,
            "grid_template_rows": null,
            "height": null,
            "justify_content": null,
            "justify_items": null,
            "left": null,
            "margin": null,
            "max_height": null,
            "max_width": null,
            "min_height": null,
            "min_width": null,
            "object_fit": null,
            "object_position": null,
            "order": null,
            "overflow": null,
            "overflow_x": null,
            "overflow_y": null,
            "padding": null,
            "right": null,
            "top": null,
            "visibility": null,
            "width": null
          }
        },
        "08c13dc358d647a18b1ba5f8feb19696": {
          "model_module": "@jupyter-widgets/controls",
          "model_name": "DescriptionStyleModel",
          "model_module_version": "1.5.0",
          "state": {
            "_model_module": "@jupyter-widgets/controls",
            "_model_module_version": "1.5.0",
            "_model_name": "DescriptionStyleModel",
            "_view_count": null,
            "_view_module": "@jupyter-widgets/base",
            "_view_module_version": "1.2.0",
            "_view_name": "StyleView",
            "description_width": ""
          }
        },
        "b0362a7400e742f29c387b527d4da547": {
          "model_module": "@jupyter-widgets/base",
          "model_name": "LayoutModel",
          "model_module_version": "1.2.0",
          "state": {
            "_model_module": "@jupyter-widgets/base",
            "_model_module_version": "1.2.0",
            "_model_name": "LayoutModel",
            "_view_count": null,
            "_view_module": "@jupyter-widgets/base",
            "_view_module_version": "1.2.0",
            "_view_name": "LayoutView",
            "align_content": null,
            "align_items": null,
            "align_self": null,
            "border": null,
            "bottom": null,
            "display": null,
            "flex": null,
            "flex_flow": null,
            "grid_area": null,
            "grid_auto_columns": null,
            "grid_auto_flow": null,
            "grid_auto_rows": null,
            "grid_column": null,
            "grid_gap": null,
            "grid_row": null,
            "grid_template_areas": null,
            "grid_template_columns": null,
            "grid_template_rows": null,
            "height": null,
            "justify_content": null,
            "justify_items": null,
            "left": null,
            "margin": null,
            "max_height": null,
            "max_width": null,
            "min_height": null,
            "min_width": null,
            "object_fit": null,
            "object_position": null,
            "order": null,
            "overflow": null,
            "overflow_x": null,
            "overflow_y": null,
            "padding": null,
            "right": null,
            "top": null,
            "visibility": null,
            "width": null
          }
        },
        "6f3f8f7c510f427f9e0c1624739b3471": {
          "model_module": "@jupyter-widgets/controls",
          "model_name": "ProgressStyleModel",
          "model_module_version": "1.5.0",
          "state": {
            "_model_module": "@jupyter-widgets/controls",
            "_model_module_version": "1.5.0",
            "_model_name": "ProgressStyleModel",
            "_view_count": null,
            "_view_module": "@jupyter-widgets/base",
            "_view_module_version": "1.2.0",
            "_view_name": "StyleView",
            "bar_color": null,
            "description_width": ""
          }
        },
        "dd28d34063964885949c88bda225fd2f": {
          "model_module": "@jupyter-widgets/base",
          "model_name": "LayoutModel",
          "model_module_version": "1.2.0",
          "state": {
            "_model_module": "@jupyter-widgets/base",
            "_model_module_version": "1.2.0",
            "_model_name": "LayoutModel",
            "_view_count": null,
            "_view_module": "@jupyter-widgets/base",
            "_view_module_version": "1.2.0",
            "_view_name": "LayoutView",
            "align_content": null,
            "align_items": null,
            "align_self": null,
            "border": null,
            "bottom": null,
            "display": null,
            "flex": null,
            "flex_flow": null,
            "grid_area": null,
            "grid_auto_columns": null,
            "grid_auto_flow": null,
            "grid_auto_rows": null,
            "grid_column": null,
            "grid_gap": null,
            "grid_row": null,
            "grid_template_areas": null,
            "grid_template_columns": null,
            "grid_template_rows": null,
            "height": null,
            "justify_content": null,
            "justify_items": null,
            "left": null,
            "margin": null,
            "max_height": null,
            "max_width": null,
            "min_height": null,
            "min_width": null,
            "object_fit": null,
            "object_position": null,
            "order": null,
            "overflow": null,
            "overflow_x": null,
            "overflow_y": null,
            "padding": null,
            "right": null,
            "top": null,
            "visibility": null,
            "width": null
          }
        },
        "3e92a75d59b845d2baf35e18c48b389c": {
          "model_module": "@jupyter-widgets/controls",
          "model_name": "DescriptionStyleModel",
          "model_module_version": "1.5.0",
          "state": {
            "_model_module": "@jupyter-widgets/controls",
            "_model_module_version": "1.5.0",
            "_model_name": "DescriptionStyleModel",
            "_view_count": null,
            "_view_module": "@jupyter-widgets/base",
            "_view_module_version": "1.2.0",
            "_view_name": "StyleView",
            "description_width": ""
          }
        },
        "1fa94b98d44f416a86b965981c531720": {
          "model_module": "@jupyter-widgets/controls",
          "model_name": "HBoxModel",
          "model_module_version": "1.5.0",
          "state": {
            "_dom_classes": [],
            "_model_module": "@jupyter-widgets/controls",
            "_model_module_version": "1.5.0",
            "_model_name": "HBoxModel",
            "_view_count": null,
            "_view_module": "@jupyter-widgets/controls",
            "_view_module_version": "1.5.0",
            "_view_name": "HBoxView",
            "box_style": "",
            "children": [
              "IPY_MODEL_31c765af2cf04222a14bd368354a531e",
              "IPY_MODEL_c1e7b08eedf9467fbc7739b8aff20b43",
              "IPY_MODEL_72ad313475674784b1a9685acb302cf0"
            ],
            "layout": "IPY_MODEL_1dfe8e89a9e3449da7a1d9b02066da60"
          }
        },
        "31c765af2cf04222a14bd368354a531e": {
          "model_module": "@jupyter-widgets/controls",
          "model_name": "HTMLModel",
          "model_module_version": "1.5.0",
          "state": {
            "_dom_classes": [],
            "_model_module": "@jupyter-widgets/controls",
            "_model_module_version": "1.5.0",
            "_model_name": "HTMLModel",
            "_view_count": null,
            "_view_module": "@jupyter-widgets/controls",
            "_view_module_version": "1.5.0",
            "_view_name": "HTMLView",
            "description": "",
            "description_tooltip": null,
            "layout": "IPY_MODEL_bcf6cb92d4124fda95db264d80f051e2",
            "placeholder": "​",
            "style": "IPY_MODEL_a0fd623b024041c3b1c91cab7bbfc601",
            "value": "vocab.txt: 100%"
          }
        },
        "c1e7b08eedf9467fbc7739b8aff20b43": {
          "model_module": "@jupyter-widgets/controls",
          "model_name": "FloatProgressModel",
          "model_module_version": "1.5.0",
          "state": {
            "_dom_classes": [],
            "_model_module": "@jupyter-widgets/controls",
            "_model_module_version": "1.5.0",
            "_model_name": "FloatProgressModel",
            "_view_count": null,
            "_view_module": "@jupyter-widgets/controls",
            "_view_module_version": "1.5.0",
            "_view_name": "ProgressView",
            "bar_style": "success",
            "description": "",
            "description_tooltip": null,
            "layout": "IPY_MODEL_45f7fc0caf4f43c59ea4470f818f1230",
            "max": 251003,
            "min": 0,
            "orientation": "horizontal",
            "style": "IPY_MODEL_18f79ae369cf479a8ed2cdc943d540bf",
            "value": 251003
          }
        },
        "72ad313475674784b1a9685acb302cf0": {
          "model_module": "@jupyter-widgets/controls",
          "model_name": "HTMLModel",
          "model_module_version": "1.5.0",
          "state": {
            "_dom_classes": [],
            "_model_module": "@jupyter-widgets/controls",
            "_model_module_version": "1.5.0",
            "_model_name": "HTMLModel",
            "_view_count": null,
            "_view_module": "@jupyter-widgets/controls",
            "_view_module_version": "1.5.0",
            "_view_name": "HTMLView",
            "description": "",
            "description_tooltip": null,
            "layout": "IPY_MODEL_70c0956d9b7b4b3185a4151ace83e5b4",
            "placeholder": "​",
            "style": "IPY_MODEL_61fe29cae95c482a8acb155b2ff53c82",
            "value": " 251k/251k [00:00&lt;00:00, 385kB/s]"
          }
        },
        "1dfe8e89a9e3449da7a1d9b02066da60": {
          "model_module": "@jupyter-widgets/base",
          "model_name": "LayoutModel",
          "model_module_version": "1.2.0",
          "state": {
            "_model_module": "@jupyter-widgets/base",
            "_model_module_version": "1.2.0",
            "_model_name": "LayoutModel",
            "_view_count": null,
            "_view_module": "@jupyter-widgets/base",
            "_view_module_version": "1.2.0",
            "_view_name": "LayoutView",
            "align_content": null,
            "align_items": null,
            "align_self": null,
            "border": null,
            "bottom": null,
            "display": null,
            "flex": null,
            "flex_flow": null,
            "grid_area": null,
            "grid_auto_columns": null,
            "grid_auto_flow": null,
            "grid_auto_rows": null,
            "grid_column": null,
            "grid_gap": null,
            "grid_row": null,
            "grid_template_areas": null,
            "grid_template_columns": null,
            "grid_template_rows": null,
            "height": null,
            "justify_content": null,
            "justify_items": null,
            "left": null,
            "margin": null,
            "max_height": null,
            "max_width": null,
            "min_height": null,
            "min_width": null,
            "object_fit": null,
            "object_position": null,
            "order": null,
            "overflow": null,
            "overflow_x": null,
            "overflow_y": null,
            "padding": null,
            "right": null,
            "top": null,
            "visibility": null,
            "width": null
          }
        },
        "bcf6cb92d4124fda95db264d80f051e2": {
          "model_module": "@jupyter-widgets/base",
          "model_name": "LayoutModel",
          "model_module_version": "1.2.0",
          "state": {
            "_model_module": "@jupyter-widgets/base",
            "_model_module_version": "1.2.0",
            "_model_name": "LayoutModel",
            "_view_count": null,
            "_view_module": "@jupyter-widgets/base",
            "_view_module_version": "1.2.0",
            "_view_name": "LayoutView",
            "align_content": null,
            "align_items": null,
            "align_self": null,
            "border": null,
            "bottom": null,
            "display": null,
            "flex": null,
            "flex_flow": null,
            "grid_area": null,
            "grid_auto_columns": null,
            "grid_auto_flow": null,
            "grid_auto_rows": null,
            "grid_column": null,
            "grid_gap": null,
            "grid_row": null,
            "grid_template_areas": null,
            "grid_template_columns": null,
            "grid_template_rows": null,
            "height": null,
            "justify_content": null,
            "justify_items": null,
            "left": null,
            "margin": null,
            "max_height": null,
            "max_width": null,
            "min_height": null,
            "min_width": null,
            "object_fit": null,
            "object_position": null,
            "order": null,
            "overflow": null,
            "overflow_x": null,
            "overflow_y": null,
            "padding": null,
            "right": null,
            "top": null,
            "visibility": null,
            "width": null
          }
        },
        "a0fd623b024041c3b1c91cab7bbfc601": {
          "model_module": "@jupyter-widgets/controls",
          "model_name": "DescriptionStyleModel",
          "model_module_version": "1.5.0",
          "state": {
            "_model_module": "@jupyter-widgets/controls",
            "_model_module_version": "1.5.0",
            "_model_name": "DescriptionStyleModel",
            "_view_count": null,
            "_view_module": "@jupyter-widgets/base",
            "_view_module_version": "1.2.0",
            "_view_name": "StyleView",
            "description_width": ""
          }
        },
        "45f7fc0caf4f43c59ea4470f818f1230": {
          "model_module": "@jupyter-widgets/base",
          "model_name": "LayoutModel",
          "model_module_version": "1.2.0",
          "state": {
            "_model_module": "@jupyter-widgets/base",
            "_model_module_version": "1.2.0",
            "_model_name": "LayoutModel",
            "_view_count": null,
            "_view_module": "@jupyter-widgets/base",
            "_view_module_version": "1.2.0",
            "_view_name": "LayoutView",
            "align_content": null,
            "align_items": null,
            "align_self": null,
            "border": null,
            "bottom": null,
            "display": null,
            "flex": null,
            "flex_flow": null,
            "grid_area": null,
            "grid_auto_columns": null,
            "grid_auto_flow": null,
            "grid_auto_rows": null,
            "grid_column": null,
            "grid_gap": null,
            "grid_row": null,
            "grid_template_areas": null,
            "grid_template_columns": null,
            "grid_template_rows": null,
            "height": null,
            "justify_content": null,
            "justify_items": null,
            "left": null,
            "margin": null,
            "max_height": null,
            "max_width": null,
            "min_height": null,
            "min_width": null,
            "object_fit": null,
            "object_position": null,
            "order": null,
            "overflow": null,
            "overflow_x": null,
            "overflow_y": null,
            "padding": null,
            "right": null,
            "top": null,
            "visibility": null,
            "width": null
          }
        },
        "18f79ae369cf479a8ed2cdc943d540bf": {
          "model_module": "@jupyter-widgets/controls",
          "model_name": "ProgressStyleModel",
          "model_module_version": "1.5.0",
          "state": {
            "_model_module": "@jupyter-widgets/controls",
            "_model_module_version": "1.5.0",
            "_model_name": "ProgressStyleModel",
            "_view_count": null,
            "_view_module": "@jupyter-widgets/base",
            "_view_module_version": "1.2.0",
            "_view_name": "StyleView",
            "bar_color": null,
            "description_width": ""
          }
        },
        "70c0956d9b7b4b3185a4151ace83e5b4": {
          "model_module": "@jupyter-widgets/base",
          "model_name": "LayoutModel",
          "model_module_version": "1.2.0",
          "state": {
            "_model_module": "@jupyter-widgets/base",
            "_model_module_version": "1.2.0",
            "_model_name": "LayoutModel",
            "_view_count": null,
            "_view_module": "@jupyter-widgets/base",
            "_view_module_version": "1.2.0",
            "_view_name": "LayoutView",
            "align_content": null,
            "align_items": null,
            "align_self": null,
            "border": null,
            "bottom": null,
            "display": null,
            "flex": null,
            "flex_flow": null,
            "grid_area": null,
            "grid_auto_columns": null,
            "grid_auto_flow": null,
            "grid_auto_rows": null,
            "grid_column": null,
            "grid_gap": null,
            "grid_row": null,
            "grid_template_areas": null,
            "grid_template_columns": null,
            "grid_template_rows": null,
            "height": null,
            "justify_content": null,
            "justify_items": null,
            "left": null,
            "margin": null,
            "max_height": null,
            "max_width": null,
            "min_height": null,
            "min_width": null,
            "object_fit": null,
            "object_position": null,
            "order": null,
            "overflow": null,
            "overflow_x": null,
            "overflow_y": null,
            "padding": null,
            "right": null,
            "top": null,
            "visibility": null,
            "width": null
          }
        },
        "61fe29cae95c482a8acb155b2ff53c82": {
          "model_module": "@jupyter-widgets/controls",
          "model_name": "DescriptionStyleModel",
          "model_module_version": "1.5.0",
          "state": {
            "_model_module": "@jupyter-widgets/controls",
            "_model_module_version": "1.5.0",
            "_model_name": "DescriptionStyleModel",
            "_view_count": null,
            "_view_module": "@jupyter-widgets/base",
            "_view_module_version": "1.2.0",
            "_view_name": "StyleView",
            "description_width": ""
          }
        },
        "4938901a9b7d4af09d3c4e9ebde7ff74": {
          "model_module": "@jupyter-widgets/controls",
          "model_name": "HBoxModel",
          "model_module_version": "1.5.0",
          "state": {
            "_dom_classes": [],
            "_model_module": "@jupyter-widgets/controls",
            "_model_module_version": "1.5.0",
            "_model_name": "HBoxModel",
            "_view_count": null,
            "_view_module": "@jupyter-widgets/controls",
            "_view_module_version": "1.5.0",
            "_view_name": "HBoxView",
            "box_style": "",
            "children": [
              "IPY_MODEL_23da22695b134ed28b5caaffed998062",
              "IPY_MODEL_e243341402354533811c0e99da99f630",
              "IPY_MODEL_a809e5ac38e74c2798701cb3e40cb374"
            ],
            "layout": "IPY_MODEL_32c084e206f148f7b83cf44ebab0be18"
          }
        },
        "23da22695b134ed28b5caaffed998062": {
          "model_module": "@jupyter-widgets/controls",
          "model_name": "HTMLModel",
          "model_module_version": "1.5.0",
          "state": {
            "_dom_classes": [],
            "_model_module": "@jupyter-widgets/controls",
            "_model_module_version": "1.5.0",
            "_model_name": "HTMLModel",
            "_view_count": null,
            "_view_module": "@jupyter-widgets/controls",
            "_view_module_version": "1.5.0",
            "_view_name": "HTMLView",
            "description": "",
            "description_tooltip": null,
            "layout": "IPY_MODEL_42acd773a22e4a3992784d2c0bfdbc71",
            "placeholder": "​",
            "style": "IPY_MODEL_bc6856c4c66f446c86d67edff01ea4b9",
            "value": "config.json: 100%"
          }
        },
        "e243341402354533811c0e99da99f630": {
          "model_module": "@jupyter-widgets/controls",
          "model_name": "FloatProgressModel",
          "model_module_version": "1.5.0",
          "state": {
            "_dom_classes": [],
            "_model_module": "@jupyter-widgets/controls",
            "_model_module_version": "1.5.0",
            "_model_name": "FloatProgressModel",
            "_view_count": null,
            "_view_module": "@jupyter-widgets/controls",
            "_view_module_version": "1.5.0",
            "_view_name": "ProgressView",
            "bar_style": "success",
            "description": "",
            "description_tooltip": null,
            "layout": "IPY_MODEL_3c455d1e191c474299f4d5cb99757c39",
            "max": 695,
            "min": 0,
            "orientation": "horizontal",
            "style": "IPY_MODEL_9cd2f448442440cd803d9e148b0ebb22",
            "value": 695
          }
        },
        "a809e5ac38e74c2798701cb3e40cb374": {
          "model_module": "@jupyter-widgets/controls",
          "model_name": "HTMLModel",
          "model_module_version": "1.5.0",
          "state": {
            "_dom_classes": [],
            "_model_module": "@jupyter-widgets/controls",
            "_model_module_version": "1.5.0",
            "_model_name": "HTMLModel",
            "_view_count": null,
            "_view_module": "@jupyter-widgets/controls",
            "_view_module_version": "1.5.0",
            "_view_name": "HTMLView",
            "description": "",
            "description_tooltip": null,
            "layout": "IPY_MODEL_9931af0dbb79476aa599ce63aa09dd49",
            "placeholder": "​",
            "style": "IPY_MODEL_5dd813d3018f419a9fd6320d79df733c",
            "value": " 695/695 [00:00&lt;00:00, 58.3kB/s]"
          }
        },
        "32c084e206f148f7b83cf44ebab0be18": {
          "model_module": "@jupyter-widgets/base",
          "model_name": "LayoutModel",
          "model_module_version": "1.2.0",
          "state": {
            "_model_module": "@jupyter-widgets/base",
            "_model_module_version": "1.2.0",
            "_model_name": "LayoutModel",
            "_view_count": null,
            "_view_module": "@jupyter-widgets/base",
            "_view_module_version": "1.2.0",
            "_view_name": "LayoutView",
            "align_content": null,
            "align_items": null,
            "align_self": null,
            "border": null,
            "bottom": null,
            "display": null,
            "flex": null,
            "flex_flow": null,
            "grid_area": null,
            "grid_auto_columns": null,
            "grid_auto_flow": null,
            "grid_auto_rows": null,
            "grid_column": null,
            "grid_gap": null,
            "grid_row": null,
            "grid_template_areas": null,
            "grid_template_columns": null,
            "grid_template_rows": null,
            "height": null,
            "justify_content": null,
            "justify_items": null,
            "left": null,
            "margin": null,
            "max_height": null,
            "max_width": null,
            "min_height": null,
            "min_width": null,
            "object_fit": null,
            "object_position": null,
            "order": null,
            "overflow": null,
            "overflow_x": null,
            "overflow_y": null,
            "padding": null,
            "right": null,
            "top": null,
            "visibility": null,
            "width": null
          }
        },
        "42acd773a22e4a3992784d2c0bfdbc71": {
          "model_module": "@jupyter-widgets/base",
          "model_name": "LayoutModel",
          "model_module_version": "1.2.0",
          "state": {
            "_model_module": "@jupyter-widgets/base",
            "_model_module_version": "1.2.0",
            "_model_name": "LayoutModel",
            "_view_count": null,
            "_view_module": "@jupyter-widgets/base",
            "_view_module_version": "1.2.0",
            "_view_name": "LayoutView",
            "align_content": null,
            "align_items": null,
            "align_self": null,
            "border": null,
            "bottom": null,
            "display": null,
            "flex": null,
            "flex_flow": null,
            "grid_area": null,
            "grid_auto_columns": null,
            "grid_auto_flow": null,
            "grid_auto_rows": null,
            "grid_column": null,
            "grid_gap": null,
            "grid_row": null,
            "grid_template_areas": null,
            "grid_template_columns": null,
            "grid_template_rows": null,
            "height": null,
            "justify_content": null,
            "justify_items": null,
            "left": null,
            "margin": null,
            "max_height": null,
            "max_width": null,
            "min_height": null,
            "min_width": null,
            "object_fit": null,
            "object_position": null,
            "order": null,
            "overflow": null,
            "overflow_x": null,
            "overflow_y": null,
            "padding": null,
            "right": null,
            "top": null,
            "visibility": null,
            "width": null
          }
        },
        "bc6856c4c66f446c86d67edff01ea4b9": {
          "model_module": "@jupyter-widgets/controls",
          "model_name": "DescriptionStyleModel",
          "model_module_version": "1.5.0",
          "state": {
            "_model_module": "@jupyter-widgets/controls",
            "_model_module_version": "1.5.0",
            "_model_name": "DescriptionStyleModel",
            "_view_count": null,
            "_view_module": "@jupyter-widgets/base",
            "_view_module_version": "1.2.0",
            "_view_name": "StyleView",
            "description_width": ""
          }
        },
        "3c455d1e191c474299f4d5cb99757c39": {
          "model_module": "@jupyter-widgets/base",
          "model_name": "LayoutModel",
          "model_module_version": "1.2.0",
          "state": {
            "_model_module": "@jupyter-widgets/base",
            "_model_module_version": "1.2.0",
            "_model_name": "LayoutModel",
            "_view_count": null,
            "_view_module": "@jupyter-widgets/base",
            "_view_module_version": "1.2.0",
            "_view_name": "LayoutView",
            "align_content": null,
            "align_items": null,
            "align_self": null,
            "border": null,
            "bottom": null,
            "display": null,
            "flex": null,
            "flex_flow": null,
            "grid_area": null,
            "grid_auto_columns": null,
            "grid_auto_flow": null,
            "grid_auto_rows": null,
            "grid_column": null,
            "grid_gap": null,
            "grid_row": null,
            "grid_template_areas": null,
            "grid_template_columns": null,
            "grid_template_rows": null,
            "height": null,
            "justify_content": null,
            "justify_items": null,
            "left": null,
            "margin": null,
            "max_height": null,
            "max_width": null,
            "min_height": null,
            "min_width": null,
            "object_fit": null,
            "object_position": null,
            "order": null,
            "overflow": null,
            "overflow_x": null,
            "overflow_y": null,
            "padding": null,
            "right": null,
            "top": null,
            "visibility": null,
            "width": null
          }
        },
        "9cd2f448442440cd803d9e148b0ebb22": {
          "model_module": "@jupyter-widgets/controls",
          "model_name": "ProgressStyleModel",
          "model_module_version": "1.5.0",
          "state": {
            "_model_module": "@jupyter-widgets/controls",
            "_model_module_version": "1.5.0",
            "_model_name": "ProgressStyleModel",
            "_view_count": null,
            "_view_module": "@jupyter-widgets/base",
            "_view_module_version": "1.2.0",
            "_view_name": "StyleView",
            "bar_color": null,
            "description_width": ""
          }
        },
        "9931af0dbb79476aa599ce63aa09dd49": {
          "model_module": "@jupyter-widgets/base",
          "model_name": "LayoutModel",
          "model_module_version": "1.2.0",
          "state": {
            "_model_module": "@jupyter-widgets/base",
            "_model_module_version": "1.2.0",
            "_model_name": "LayoutModel",
            "_view_count": null,
            "_view_module": "@jupyter-widgets/base",
            "_view_module_version": "1.2.0",
            "_view_name": "LayoutView",
            "align_content": null,
            "align_items": null,
            "align_self": null,
            "border": null,
            "bottom": null,
            "display": null,
            "flex": null,
            "flex_flow": null,
            "grid_area": null,
            "grid_auto_columns": null,
            "grid_auto_flow": null,
            "grid_auto_rows": null,
            "grid_column": null,
            "grid_gap": null,
            "grid_row": null,
            "grid_template_areas": null,
            "grid_template_columns": null,
            "grid_template_rows": null,
            "height": null,
            "justify_content": null,
            "justify_items": null,
            "left": null,
            "margin": null,
            "max_height": null,
            "max_width": null,
            "min_height": null,
            "min_width": null,
            "object_fit": null,
            "object_position": null,
            "order": null,
            "overflow": null,
            "overflow_x": null,
            "overflow_y": null,
            "padding": null,
            "right": null,
            "top": null,
            "visibility": null,
            "width": null
          }
        },
        "5dd813d3018f419a9fd6320d79df733c": {
          "model_module": "@jupyter-widgets/controls",
          "model_name": "DescriptionStyleModel",
          "model_module_version": "1.5.0",
          "state": {
            "_model_module": "@jupyter-widgets/controls",
            "_model_module_version": "1.5.0",
            "_model_name": "DescriptionStyleModel",
            "_view_count": null,
            "_view_module": "@jupyter-widgets/base",
            "_view_module_version": "1.2.0",
            "_view_name": "StyleView",
            "description_width": ""
          }
        },
        "2e0d335bacf4487fbc6fc77cf0e508e4": {
          "model_module": "@jupyter-widgets/controls",
          "model_name": "HBoxModel",
          "model_module_version": "1.5.0",
          "state": {
            "_dom_classes": [],
            "_model_module": "@jupyter-widgets/controls",
            "_model_module_version": "1.5.0",
            "_model_name": "HBoxModel",
            "_view_count": null,
            "_view_module": "@jupyter-widgets/controls",
            "_view_module_version": "1.5.0",
            "_view_name": "HBoxView",
            "box_style": "",
            "children": [
              "IPY_MODEL_f91c288b36d943df9b5925daf7b40ef6",
              "IPY_MODEL_3334e30a6de64a59ad36af01ab22a3e8",
              "IPY_MODEL_9922b5f52ad84508aa2b9e3a98ace3ad"
            ],
            "layout": "IPY_MODEL_01213d86d9894325b3d4b9ceaa55bfc2"
          }
        },
        "f91c288b36d943df9b5925daf7b40ef6": {
          "model_module": "@jupyter-widgets/controls",
          "model_name": "HTMLModel",
          "model_module_version": "1.5.0",
          "state": {
            "_dom_classes": [],
            "_model_module": "@jupyter-widgets/controls",
            "_model_module_version": "1.5.0",
            "_model_name": "HTMLModel",
            "_view_count": null,
            "_view_module": "@jupyter-widgets/controls",
            "_view_module_version": "1.5.0",
            "_view_name": "HTMLView",
            "description": "",
            "description_tooltip": null,
            "layout": "IPY_MODEL_a94fb9da63f64b8aa95e5f70bb798b74",
            "placeholder": "​",
            "style": "IPY_MODEL_e45066715ce340a485a56e86842769ed",
            "value": "model.safetensors: 100%"
          }
        },
        "3334e30a6de64a59ad36af01ab22a3e8": {
          "model_module": "@jupyter-widgets/controls",
          "model_name": "FloatProgressModel",
          "model_module_version": "1.5.0",
          "state": {
            "_dom_classes": [],
            "_model_module": "@jupyter-widgets/controls",
            "_model_module_version": "1.5.0",
            "_model_name": "FloatProgressModel",
            "_view_count": null,
            "_view_module": "@jupyter-widgets/controls",
            "_view_module_version": "1.5.0",
            "_view_name": "ProgressView",
            "bar_style": "success",
            "description": "",
            "description_tooltip": null,
            "layout": "IPY_MODEL_cd5c3a8bfd5343be8d4fab2ddb5b62b3",
            "max": 427299768,
            "min": 0,
            "orientation": "horizontal",
            "style": "IPY_MODEL_8d54cb80e51b4510bb031b3f20a32ef8",
            "value": 427299768
          }
        },
        "9922b5f52ad84508aa2b9e3a98ace3ad": {
          "model_module": "@jupyter-widgets/controls",
          "model_name": "HTMLModel",
          "model_module_version": "1.5.0",
          "state": {
            "_dom_classes": [],
            "_model_module": "@jupyter-widgets/controls",
            "_model_module_version": "1.5.0",
            "_model_name": "HTMLModel",
            "_view_count": null,
            "_view_module": "@jupyter-widgets/controls",
            "_view_module_version": "1.5.0",
            "_view_name": "HTMLView",
            "description": "",
            "description_tooltip": null,
            "layout": "IPY_MODEL_f8ebd81c66534b838cace55d7ebe3675",
            "placeholder": "​",
            "style": "IPY_MODEL_4325fa8500524d76ab47208cfb80b7ba",
            "value": " 427M/427M [00:07&lt;00:00, 58.1MB/s]"
          }
        },
        "01213d86d9894325b3d4b9ceaa55bfc2": {
          "model_module": "@jupyter-widgets/base",
          "model_name": "LayoutModel",
          "model_module_version": "1.2.0",
          "state": {
            "_model_module": "@jupyter-widgets/base",
            "_model_module_version": "1.2.0",
            "_model_name": "LayoutModel",
            "_view_count": null,
            "_view_module": "@jupyter-widgets/base",
            "_view_module_version": "1.2.0",
            "_view_name": "LayoutView",
            "align_content": null,
            "align_items": null,
            "align_self": null,
            "border": null,
            "bottom": null,
            "display": null,
            "flex": null,
            "flex_flow": null,
            "grid_area": null,
            "grid_auto_columns": null,
            "grid_auto_flow": null,
            "grid_auto_rows": null,
            "grid_column": null,
            "grid_gap": null,
            "grid_row": null,
            "grid_template_areas": null,
            "grid_template_columns": null,
            "grid_template_rows": null,
            "height": null,
            "justify_content": null,
            "justify_items": null,
            "left": null,
            "margin": null,
            "max_height": null,
            "max_width": null,
            "min_height": null,
            "min_width": null,
            "object_fit": null,
            "object_position": null,
            "order": null,
            "overflow": null,
            "overflow_x": null,
            "overflow_y": null,
            "padding": null,
            "right": null,
            "top": null,
            "visibility": null,
            "width": null
          }
        },
        "a94fb9da63f64b8aa95e5f70bb798b74": {
          "model_module": "@jupyter-widgets/base",
          "model_name": "LayoutModel",
          "model_module_version": "1.2.0",
          "state": {
            "_model_module": "@jupyter-widgets/base",
            "_model_module_version": "1.2.0",
            "_model_name": "LayoutModel",
            "_view_count": null,
            "_view_module": "@jupyter-widgets/base",
            "_view_module_version": "1.2.0",
            "_view_name": "LayoutView",
            "align_content": null,
            "align_items": null,
            "align_self": null,
            "border": null,
            "bottom": null,
            "display": null,
            "flex": null,
            "flex_flow": null,
            "grid_area": null,
            "grid_auto_columns": null,
            "grid_auto_flow": null,
            "grid_auto_rows": null,
            "grid_column": null,
            "grid_gap": null,
            "grid_row": null,
            "grid_template_areas": null,
            "grid_template_columns": null,
            "grid_template_rows": null,
            "height": null,
            "justify_content": null,
            "justify_items": null,
            "left": null,
            "margin": null,
            "max_height": null,
            "max_width": null,
            "min_height": null,
            "min_width": null,
            "object_fit": null,
            "object_position": null,
            "order": null,
            "overflow": null,
            "overflow_x": null,
            "overflow_y": null,
            "padding": null,
            "right": null,
            "top": null,
            "visibility": null,
            "width": null
          }
        },
        "e45066715ce340a485a56e86842769ed": {
          "model_module": "@jupyter-widgets/controls",
          "model_name": "DescriptionStyleModel",
          "model_module_version": "1.5.0",
          "state": {
            "_model_module": "@jupyter-widgets/controls",
            "_model_module_version": "1.5.0",
            "_model_name": "DescriptionStyleModel",
            "_view_count": null,
            "_view_module": "@jupyter-widgets/base",
            "_view_module_version": "1.2.0",
            "_view_name": "StyleView",
            "description_width": ""
          }
        },
        "cd5c3a8bfd5343be8d4fab2ddb5b62b3": {
          "model_module": "@jupyter-widgets/base",
          "model_name": "LayoutModel",
          "model_module_version": "1.2.0",
          "state": {
            "_model_module": "@jupyter-widgets/base",
            "_model_module_version": "1.2.0",
            "_model_name": "LayoutModel",
            "_view_count": null,
            "_view_module": "@jupyter-widgets/base",
            "_view_module_version": "1.2.0",
            "_view_name": "LayoutView",
            "align_content": null,
            "align_items": null,
            "align_self": null,
            "border": null,
            "bottom": null,
            "display": null,
            "flex": null,
            "flex_flow": null,
            "grid_area": null,
            "grid_auto_columns": null,
            "grid_auto_flow": null,
            "grid_auto_rows": null,
            "grid_column": null,
            "grid_gap": null,
            "grid_row": null,
            "grid_template_areas": null,
            "grid_template_columns": null,
            "grid_template_rows": null,
            "height": null,
            "justify_content": null,
            "justify_items": null,
            "left": null,
            "margin": null,
            "max_height": null,
            "max_width": null,
            "min_height": null,
            "min_width": null,
            "object_fit": null,
            "object_position": null,
            "order": null,
            "overflow": null,
            "overflow_x": null,
            "overflow_y": null,
            "padding": null,
            "right": null,
            "top": null,
            "visibility": null,
            "width": null
          }
        },
        "8d54cb80e51b4510bb031b3f20a32ef8": {
          "model_module": "@jupyter-widgets/controls",
          "model_name": "ProgressStyleModel",
          "model_module_version": "1.5.0",
          "state": {
            "_model_module": "@jupyter-widgets/controls",
            "_model_module_version": "1.5.0",
            "_model_name": "ProgressStyleModel",
            "_view_count": null,
            "_view_module": "@jupyter-widgets/base",
            "_view_module_version": "1.2.0",
            "_view_name": "StyleView",
            "bar_color": null,
            "description_width": ""
          }
        },
        "f8ebd81c66534b838cace55d7ebe3675": {
          "model_module": "@jupyter-widgets/base",
          "model_name": "LayoutModel",
          "model_module_version": "1.2.0",
          "state": {
            "_model_module": "@jupyter-widgets/base",
            "_model_module_version": "1.2.0",
            "_model_name": "LayoutModel",
            "_view_count": null,
            "_view_module": "@jupyter-widgets/base",
            "_view_module_version": "1.2.0",
            "_view_name": "LayoutView",
            "align_content": null,
            "align_items": null,
            "align_self": null,
            "border": null,
            "bottom": null,
            "display": null,
            "flex": null,
            "flex_flow": null,
            "grid_area": null,
            "grid_auto_columns": null,
            "grid_auto_flow": null,
            "grid_auto_rows": null,
            "grid_column": null,
            "grid_gap": null,
            "grid_row": null,
            "grid_template_areas": null,
            "grid_template_columns": null,
            "grid_template_rows": null,
            "height": null,
            "justify_content": null,
            "justify_items": null,
            "left": null,
            "margin": null,
            "max_height": null,
            "max_width": null,
            "min_height": null,
            "min_width": null,
            "object_fit": null,
            "object_position": null,
            "order": null,
            "overflow": null,
            "overflow_x": null,
            "overflow_y": null,
            "padding": null,
            "right": null,
            "top": null,
            "visibility": null,
            "width": null
          }
        },
        "4325fa8500524d76ab47208cfb80b7ba": {
          "model_module": "@jupyter-widgets/controls",
          "model_name": "DescriptionStyleModel",
          "model_module_version": "1.5.0",
          "state": {
            "_model_module": "@jupyter-widgets/controls",
            "_model_module_version": "1.5.0",
            "_model_name": "DescriptionStyleModel",
            "_view_count": null,
            "_view_module": "@jupyter-widgets/base",
            "_view_module_version": "1.2.0",
            "_view_name": "StyleView",
            "description_width": ""
          }
        }
      }
    }
  },
  "cells": [
    {
      "cell_type": "code",
      "execution_count": null,
      "metadata": {
        "id": "JD9lzzCHC66g"
      },
      "outputs": [],
      "source": [
        "import pandas as pd\n",
        "import tensorflow as tf\n",
        "import torch\n",
        "import numpy as np\n",
        "import time\n",
        "import datetime\n",
        "import random\n",
        "import seaborn as sns\n",
        "import matplotlib.pyplot as plt\n",
        "from google.colab import drive"
      ]
    },
    {
      "cell_type": "code",
      "source": [
        "!pip install transformers"
      ],
      "metadata": {
        "colab": {
          "base_uri": "https://localhost:8080/"
        },
        "id": "_K_mt0vZC8th",
        "outputId": "f781d624-b2d5-4762-dcd4-6cf943d08d50"
      },
      "execution_count": null,
      "outputs": [
        {
          "output_type": "stream",
          "name": "stdout",
          "text": [
            "Requirement already satisfied: transformers in /usr/local/lib/python3.10/dist-packages (4.41.1)\n",
            "Requirement already satisfied: filelock in /usr/local/lib/python3.10/dist-packages (from transformers) (3.14.0)\n",
            "Requirement already satisfied: huggingface-hub<1.0,>=0.23.0 in /usr/local/lib/python3.10/dist-packages (from transformers) (0.23.1)\n",
            "Requirement already satisfied: numpy>=1.17 in /usr/local/lib/python3.10/dist-packages (from transformers) (1.25.2)\n",
            "Requirement already satisfied: packaging>=20.0 in /usr/local/lib/python3.10/dist-packages (from transformers) (24.0)\n",
            "Requirement already satisfied: pyyaml>=5.1 in /usr/local/lib/python3.10/dist-packages (from transformers) (6.0.1)\n",
            "Requirement already satisfied: regex!=2019.12.17 in /usr/local/lib/python3.10/dist-packages (from transformers) (2024.5.15)\n",
            "Requirement already satisfied: requests in /usr/local/lib/python3.10/dist-packages (from transformers) (2.31.0)\n",
            "Requirement already satisfied: tokenizers<0.20,>=0.19 in /usr/local/lib/python3.10/dist-packages (from transformers) (0.19.1)\n",
            "Requirement already satisfied: safetensors>=0.4.1 in /usr/local/lib/python3.10/dist-packages (from transformers) (0.4.3)\n",
            "Requirement already satisfied: tqdm>=4.27 in /usr/local/lib/python3.10/dist-packages (from transformers) (4.66.4)\n",
            "Requirement already satisfied: fsspec>=2023.5.0 in /usr/local/lib/python3.10/dist-packages (from huggingface-hub<1.0,>=0.23.0->transformers) (2023.6.0)\n",
            "Requirement already satisfied: typing-extensions>=3.7.4.3 in /usr/local/lib/python3.10/dist-packages (from huggingface-hub<1.0,>=0.23.0->transformers) (4.11.0)\n",
            "Requirement already satisfied: charset-normalizer<4,>=2 in /usr/local/lib/python3.10/dist-packages (from requests->transformers) (3.3.2)\n",
            "Requirement already satisfied: idna<4,>=2.5 in /usr/local/lib/python3.10/dist-packages (from requests->transformers) (3.7)\n",
            "Requirement already satisfied: urllib3<3,>=1.21.1 in /usr/local/lib/python3.10/dist-packages (from requests->transformers) (2.0.7)\n",
            "Requirement already satisfied: certifi>=2017.4.17 in /usr/local/lib/python3.10/dist-packages (from requests->transformers) (2024.2.2)\n"
          ]
        }
      ]
    },
    {
      "cell_type": "code",
      "source": [
        "from transformers import ConvBertTokenizer, ConvBertForSequenceClassification, Trainer, TrainingArguments"
      ],
      "metadata": {
        "id": "wtZYXODFC97g"
      },
      "execution_count": null,
      "outputs": []
    },
    {
      "cell_type": "code",
      "source": [
        "import transformers\n",
        "from torch.utils.data import TensorDataset, random_split\n",
        "from torch.utils.data import DataLoader, RandomSampler, SequentialSampler\n",
        "from transformers import get_linear_schedule_with_warmup\n",
        "\n",
        "from sklearn.metrics import f1_score\n",
        "from sklearn.metrics import recall_score\n",
        "from sklearn.metrics import precision_score\n",
        "from sklearn.metrics import accuracy_score\n",
        "from sklearn.metrics import classification_report\n",
        "from sklearn.preprocessing import LabelEncoder"
      ],
      "metadata": {
        "id": "-4ZeoO6fC-1s"
      },
      "execution_count": null,
      "outputs": []
    },
    {
      "cell_type": "code",
      "source": [
        "# check GPU\n",
        "device_name = tf.test.gpu_device_name()\n",
        "if device_name == '/device:GPU:0':\n",
        "    device = torch.device(\"cuda\")\n",
        "    print('GPU:', torch.cuda.get_device_name(0))\n",
        "else:\n",
        "    raise SystemError('GPU device not found')"
      ],
      "metadata": {
        "colab": {
          "base_uri": "https://localhost:8080/"
        },
        "id": "aUTIcIIWC_g3",
        "outputId": "723151a9-c8c6-4488-fdd9-6780fc88098a"
      },
      "execution_count": null,
      "outputs": [
        {
          "output_type": "stream",
          "name": "stdout",
          "text": [
            "GPU: Tesla T4\n"
          ]
        }
      ]
    },
    {
      "cell_type": "code",
      "source": [
        "drive.mount('/content/drive')"
      ],
      "metadata": {
        "colab": {
          "base_uri": "https://localhost:8080/"
        },
        "id": "oOJkeaC8DB3l",
        "outputId": "7fa99114-6432-44cc-d2cc-bd5bb9f7a73c"
      },
      "execution_count": null,
      "outputs": [
        {
          "output_type": "stream",
          "name": "stdout",
          "text": [
            "Mounted at /content/drive\n"
          ]
        }
      ]
    },
    {
      "cell_type": "code",
      "source": [
        "data_path = '/content/drive/My Drive/Colab Notebooks/clean_data.csv' #veriseti çekildi\n",
        "import pandas as pd\n",
        "data = pd.read_csv(data_path)"
      ],
      "metadata": {
        "id": "0gc-aKK2DC-u"
      },
      "execution_count": null,
      "outputs": []
    },
    {
      "cell_type": "code",
      "source": [
        "cData = data.copy() #değişiklikler için kopya df oluşturuldu"
      ],
      "metadata": {
        "id": "xtfJFzFFDEMX"
      },
      "execution_count": null,
      "outputs": []
    },
    {
      "cell_type": "code",
      "source": [
        "tokenizer = ConvBertTokenizer.from_pretrained(\"dbmdz/convbert-base-turkish-mc4-cased\", do_lower_case=True)\n",
        "sentences = cData.text.values\n",
        "max_len = 100"
      ],
      "metadata": {
        "colab": {
          "base_uri": "https://localhost:8080/",
          "height": 168,
          "referenced_widgets": [
            "0922ddc4eb3243fa8a9b509c6573e1b6",
            "3a04f865530441189ad78f4af45cde04",
            "31af10ee7ccf4129b1e1d262e221fe2c",
            "cc772dba00ea4b5887bdc9ac56eca5b2",
            "e89366d53ad34fe8ad9e8ed731381aa4",
            "954a734c6b0a42499b7eda6a7e14ac5d",
            "08c13dc358d647a18b1ba5f8feb19696",
            "b0362a7400e742f29c387b527d4da547",
            "6f3f8f7c510f427f9e0c1624739b3471",
            "dd28d34063964885949c88bda225fd2f",
            "3e92a75d59b845d2baf35e18c48b389c",
            "1fa94b98d44f416a86b965981c531720",
            "31c765af2cf04222a14bd368354a531e",
            "c1e7b08eedf9467fbc7739b8aff20b43",
            "72ad313475674784b1a9685acb302cf0",
            "1dfe8e89a9e3449da7a1d9b02066da60",
            "bcf6cb92d4124fda95db264d80f051e2",
            "a0fd623b024041c3b1c91cab7bbfc601",
            "45f7fc0caf4f43c59ea4470f818f1230",
            "18f79ae369cf479a8ed2cdc943d540bf",
            "70c0956d9b7b4b3185a4151ace83e5b4",
            "61fe29cae95c482a8acb155b2ff53c82",
            "4938901a9b7d4af09d3c4e9ebde7ff74",
            "23da22695b134ed28b5caaffed998062",
            "e243341402354533811c0e99da99f630",
            "a809e5ac38e74c2798701cb3e40cb374",
            "32c084e206f148f7b83cf44ebab0be18",
            "42acd773a22e4a3992784d2c0bfdbc71",
            "bc6856c4c66f446c86d67edff01ea4b9",
            "3c455d1e191c474299f4d5cb99757c39",
            "9cd2f448442440cd803d9e148b0ebb22",
            "9931af0dbb79476aa599ce63aa09dd49",
            "5dd813d3018f419a9fd6320d79df733c"
          ]
        },
        "id": "kt_y2dqzDFNi",
        "outputId": "a986c394-761d-4c4f-f9fc-bfffe01465d3"
      },
      "execution_count": null,
      "outputs": [
        {
          "output_type": "display_data",
          "data": {
            "text/plain": [
              "tokenizer_config.json:   0%|          | 0.00/83.0 [00:00<?, ?B/s]"
            ],
            "application/vnd.jupyter.widget-view+json": {
              "version_major": 2,
              "version_minor": 0,
              "model_id": "0922ddc4eb3243fa8a9b509c6573e1b6"
            }
          },
          "metadata": {}
        },
        {
          "output_type": "display_data",
          "data": {
            "text/plain": [
              "vocab.txt:   0%|          | 0.00/251k [00:00<?, ?B/s]"
            ],
            "application/vnd.jupyter.widget-view+json": {
              "version_major": 2,
              "version_minor": 0,
              "model_id": "1fa94b98d44f416a86b965981c531720"
            }
          },
          "metadata": {}
        },
        {
          "output_type": "stream",
          "name": "stderr",
          "text": [
            "/usr/local/lib/python3.10/dist-packages/huggingface_hub/file_download.py:1132: FutureWarning: `resume_download` is deprecated and will be removed in version 1.0.0. Downloads always resume when possible. If you want to force a new download, use `force_download=True`.\n",
            "  warnings.warn(\n"
          ]
        },
        {
          "output_type": "display_data",
          "data": {
            "text/plain": [
              "config.json:   0%|          | 0.00/695 [00:00<?, ?B/s]"
            ],
            "application/vnd.jupyter.widget-view+json": {
              "version_major": 2,
              "version_minor": 0,
              "model_id": "4938901a9b7d4af09d3c4e9ebde7ff74"
            }
          },
          "metadata": {}
        }
      ]
    },
    {
      "cell_type": "code",
      "source": [
        "cData.groupby('label').size()"
      ],
      "metadata": {
        "colab": {
          "base_uri": "https://localhost:8080/"
        },
        "id": "qdmo1zMeDGZT",
        "outputId": "5bdf2bbb-02d1-44b1-91a6-5bac2e548c65"
      },
      "execution_count": null,
      "outputs": [
        {
          "output_type": "execute_result",
          "data": {
            "text/plain": [
              "label\n",
              "Cinsiyetçilik     601\n",
              "Irkçılık          490\n",
              "Kızdırma          910\n",
              "Nötr             1387\n",
              "dtype: int64"
            ]
          },
          "metadata": {},
          "execution_count": 9
        }
      ]
    },
    {
      "cell_type": "code",
      "source": [
        "# Nötr sınıfındaki örnek sayısını azaltma\n",
        "class_to_reduce = \"Nötr\"\n",
        "desired_size = 980\n",
        "\n",
        "class_data = cData[cData['label'] == class_to_reduce]\n",
        "\n",
        "if class_data.shape[0] > desired_size:\n",
        "    reduced_class_data = class_data.sample(desired_size, random_state=42)\n",
        "    cData = pd.concat([cData[cData['label'] != class_to_reduce], reduced_class_data], ignore_index=True)\n",
        "\n",
        "# Yeniden düzenlenmiş sınıf sayılarını kontrol etme\n",
        "class_counts = cData.groupby('label').size()\n",
        "print(\"\\nYeni sınıf sayıları:\\n\", class_counts)"
      ],
      "metadata": {
        "colab": {
          "base_uri": "https://localhost:8080/"
        },
        "id": "htmL2GgiDHTv",
        "outputId": "15dd473a-d159-4d65-862a-aeea1e986e18"
      },
      "execution_count": null,
      "outputs": [
        {
          "output_type": "stream",
          "name": "stdout",
          "text": [
            "\n",
            "Yeni sınıf sayıları:\n",
            " label\n",
            "Cinsiyetçilik    601\n",
            "Irkçılık         490\n",
            "Kızdırma         910\n",
            "Nötr             980\n",
            "dtype: int64\n"
          ]
        }
      ]
    },
    {
      "cell_type": "code",
      "source": [
        "cData['label_name'] = cData['label']"
      ],
      "metadata": {
        "id": "FriKvEShDImA"
      },
      "execution_count": null,
      "outputs": []
    },
    {
      "cell_type": "code",
      "source": [
        "cData['label'] = LabelEncoder().fit_transform(cData['label'])"
      ],
      "metadata": {
        "id": "KYFZeLgsDSfn"
      },
      "execution_count": null,
      "outputs": []
    },
    {
      "cell_type": "code",
      "source": [
        "training = cData.groupby('label').apply(lambda x: x.sample(frac=0.8, random_state=42))\n",
        "training.index = training.index.droplevel(0)  # Grup seviyesini indexlerden kaldırmak için\n",
        "test = cData.drop(training.index)\n",
        "\n",
        "print(\"Training: \", len(training))\n",
        "print(\"Test: \", len(test))"
      ],
      "metadata": {
        "colab": {
          "base_uri": "https://localhost:8080/"
        },
        "id": "oHalgrYaDKJa",
        "outputId": "7f31db67-58d6-44d3-c90f-1c211419ef81"
      },
      "execution_count": null,
      "outputs": [
        {
          "output_type": "stream",
          "name": "stdout",
          "text": [
            "Training:  2385\n",
            "Test:  596\n"
          ]
        }
      ]
    },
    {
      "cell_type": "code",
      "source": [
        "print(\"Training Set Sınıf Dağılımı:\")\n",
        "print(training.groupby('label').size())\n",
        "\n",
        "print(\"\\nTest Set Sınıf Dağılımı:\")\n",
        "print(test.groupby('label').size())"
      ],
      "metadata": {
        "colab": {
          "base_uri": "https://localhost:8080/"
        },
        "id": "_fGT4lbXDMJw",
        "outputId": "bd466160-e7ba-441b-faab-3ba1f58545f6"
      },
      "execution_count": null,
      "outputs": [
        {
          "output_type": "stream",
          "name": "stdout",
          "text": [
            "Training Set Sınıf Dağılımı:\n",
            "label\n",
            "0    481\n",
            "1    392\n",
            "2    728\n",
            "3    784\n",
            "dtype: int64\n",
            "\n",
            "Test Set Sınıf Dağılımı:\n",
            "label\n",
            "0    120\n",
            "1     98\n",
            "2    182\n",
            "3    196\n",
            "dtype: int64\n"
          ]
        }
      ]
    },
    {
      "cell_type": "code",
      "source": [
        "training_texts = training.clean_data.values\n",
        "training_labels = training.label.values"
      ],
      "metadata": {
        "id": "ZU91Fu_jDYrC"
      },
      "execution_count": null,
      "outputs": []
    },
    {
      "cell_type": "code",
      "source": [
        "input_ids = []\n",
        "attention_masks = []\n",
        "max_len = 100\n",
        "\n",
        "\n",
        "for text in training_texts:\n",
        "    encoded_dict = tokenizer.encode_plus(\n",
        "                        str(text),\n",
        "                        add_special_tokens = True,\n",
        "                        max_length = max_len,\n",
        "                        pad_to_max_length = True,\n",
        "                        return_attention_mask = True,\n",
        "                        return_tensors = 'pt',\n",
        "                   )\n",
        "\n",
        "    input_ids.append(encoded_dict['input_ids'])\n",
        "    attention_masks.append(encoded_dict['attention_mask'])\n",
        "\n",
        "input_ids = torch.cat(input_ids, dim=0)\n",
        "attention_masks = torch.cat(attention_masks, dim=0)\n",
        "labels = torch.tensor(training_labels)\n",
        "\n",
        "print('Original: ', training_texts[0])\n",
        "print('Token IDs:', input_ids[0])\n",
        "print('Attention Masks:', attention_masks[0])\n",
        "print('Labels:', labels[0])"
      ],
      "metadata": {
        "colab": {
          "base_uri": "https://localhost:8080/"
        },
        "id": "QJlBgMLXDaqK",
        "outputId": "d2031010-392a-46b2-f9d0-93e3fc5a794f"
      },
      "execution_count": null,
      "outputs": [
        {
          "output_type": "stream",
          "name": "stderr",
          "text": [
            "Truncation was not explicitly activated but `max_length` is provided a specific value, please use `truncation=True` to explicitly truncate examples to max length. Defaulting to 'longest_first' truncation strategy. If you encode pairs of sequences (GLUE-style) with the tokenizer you can select this strategy more precisely by providing a specific strategy to `truncation`.\n",
            "/usr/local/lib/python3.10/dist-packages/transformers/tokenization_utils_base.py:2699: FutureWarning: The `pad_to_max_length` argument is deprecated and will be removed in a future version, use `padding=True` or `padding='longest'` to pad to the longest sequence in the batch, or use `padding='max_length'` to pad to a max length. In this case, you can give a specific length with `max_length` (e.g. `max_length=45`) or leave max_length to None to pad to the maximal input size of the model (e.g. 512 for Bert).\n",
            "  warnings.warn(\n"
          ]
        },
        {
          "output_type": "stream",
          "name": "stdout",
          "text": [
            "Original:  boyle raki icmeyen kiz da kendine kizim demesin\n",
            "Token IDs: tensor([    2, 27356,  3877,  1024,  4614,  3794, 19375,  2054,  5203, 19375,\n",
            "         1995, 24296,  1009,     3,     0,     0,     0,     0,     0,     0,\n",
            "            0,     0,     0,     0,     0,     0,     0,     0,     0,     0,\n",
            "            0,     0,     0,     0,     0,     0,     0,     0,     0,     0,\n",
            "            0,     0,     0,     0,     0,     0,     0,     0,     0,     0,\n",
            "            0,     0,     0,     0,     0,     0,     0,     0,     0,     0,\n",
            "            0,     0,     0,     0,     0,     0,     0,     0,     0,     0,\n",
            "            0,     0,     0,     0,     0,     0,     0,     0,     0,     0,\n",
            "            0,     0,     0,     0,     0,     0,     0,     0,     0,     0,\n",
            "            0,     0,     0,     0,     0,     0,     0,     0,     0,     0])\n",
            "Attention Masks: tensor([1, 1, 1, 1, 1, 1, 1, 1, 1, 1, 1, 1, 1, 1, 0, 0, 0, 0, 0, 0, 0, 0, 0, 0,\n",
            "        0, 0, 0, 0, 0, 0, 0, 0, 0, 0, 0, 0, 0, 0, 0, 0, 0, 0, 0, 0, 0, 0, 0, 0,\n",
            "        0, 0, 0, 0, 0, 0, 0, 0, 0, 0, 0, 0, 0, 0, 0, 0, 0, 0, 0, 0, 0, 0, 0, 0,\n",
            "        0, 0, 0, 0, 0, 0, 0, 0, 0, 0, 0, 0, 0, 0, 0, 0, 0, 0, 0, 0, 0, 0, 0, 0,\n",
            "        0, 0, 0, 0])\n",
            "Labels: tensor(0)\n"
          ]
        }
      ]
    },
    {
      "cell_type": "code",
      "source": [
        "enoced_text = tokenizer(training_texts[0])\n",
        "print(enoced_text)"
      ],
      "metadata": {
        "colab": {
          "base_uri": "https://localhost:8080/"
        },
        "id": "AXox4VGwDcBn",
        "outputId": "8f40a644-6739-4c6e-f49f-6ae6294f3a53"
      },
      "execution_count": null,
      "outputs": [
        {
          "output_type": "stream",
          "name": "stdout",
          "text": [
            "{'input_ids': [2, 27356, 3877, 1024, 4614, 3794, 19375, 2054, 5203, 19375, 1995, 24296, 1009, 3], 'token_type_ids': [0, 0, 0, 0, 0, 0, 0, 0, 0, 0, 0, 0, 0, 0], 'attention_mask': [1, 1, 1, 1, 1, 1, 1, 1, 1, 1, 1, 1, 1, 1]}\n"
          ]
        }
      ]
    },
    {
      "cell_type": "code",
      "source": [
        "train_dataset = TensorDataset(input_ids, attention_masks, labels)"
      ],
      "metadata": {
        "id": "Jfu5oIbfDc7Y"
      },
      "execution_count": null,
      "outputs": []
    },
    {
      "cell_type": "code",
      "source": [
        "batch_size = 16\n",
        "\n",
        "train_dataloader = DataLoader(\n",
        "            train_dataset,\n",
        "            sampler = RandomSampler(train_dataset),\n",
        "            batch_size = batch_size\n",
        "        )"
      ],
      "metadata": {
        "id": "qYIPDF9IDeDP"
      },
      "execution_count": null,
      "outputs": []
    },
    {
      "cell_type": "code",
      "source": [
        "number_of_categories = len(cData['label'].unique())"
      ],
      "metadata": {
        "id": "I-i7AaBPDfK1"
      },
      "execution_count": null,
      "outputs": []
    },
    {
      "cell_type": "code",
      "source": [
        "model = ConvBertForSequenceClassification.from_pretrained(\n",
        "    \"dbmdz/convbert-base-turkish-mc4-cased\",\n",
        "    num_labels = number_of_categories,\n",
        "    output_attentions = False,\n",
        "    output_hidden_states = False,\n",
        ")\n",
        "\n",
        "model.cuda()"
      ],
      "metadata": {
        "colab": {
          "base_uri": "https://localhost:8080/",
          "height": 1000,
          "referenced_widgets": [
            "2e0d335bacf4487fbc6fc77cf0e508e4",
            "f91c288b36d943df9b5925daf7b40ef6",
            "3334e30a6de64a59ad36af01ab22a3e8",
            "9922b5f52ad84508aa2b9e3a98ace3ad",
            "01213d86d9894325b3d4b9ceaa55bfc2",
            "a94fb9da63f64b8aa95e5f70bb798b74",
            "e45066715ce340a485a56e86842769ed",
            "cd5c3a8bfd5343be8d4fab2ddb5b62b3",
            "8d54cb80e51b4510bb031b3f20a32ef8",
            "f8ebd81c66534b838cace55d7ebe3675",
            "4325fa8500524d76ab47208cfb80b7ba"
          ]
        },
        "id": "m-bXD-bvDgUL",
        "outputId": "adf40082-e129-4736-eac3-417b0831bf7f"
      },
      "execution_count": null,
      "outputs": [
        {
          "output_type": "display_data",
          "data": {
            "text/plain": [
              "model.safetensors:   0%|          | 0.00/427M [00:00<?, ?B/s]"
            ],
            "application/vnd.jupyter.widget-view+json": {
              "version_major": 2,
              "version_minor": 0,
              "model_id": "2e0d335bacf4487fbc6fc77cf0e508e4"
            }
          },
          "metadata": {}
        },
        {
          "output_type": "stream",
          "name": "stderr",
          "text": [
            "Some weights of ConvBertForSequenceClassification were not initialized from the model checkpoint at dbmdz/convbert-base-turkish-mc4-cased and are newly initialized: ['classifier.dense.bias', 'classifier.dense.weight', 'classifier.out_proj.bias', 'classifier.out_proj.weight']\n",
            "You should probably TRAIN this model on a down-stream task to be able to use it for predictions and inference.\n"
          ]
        },
        {
          "output_type": "execute_result",
          "data": {
            "text/plain": [
              "ConvBertForSequenceClassification(\n",
              "  (convbert): ConvBertModel(\n",
              "    (embeddings): ConvBertEmbeddings(\n",
              "      (word_embeddings): Embedding(32000, 768, padding_idx=0)\n",
              "      (position_embeddings): Embedding(512, 768)\n",
              "      (token_type_embeddings): Embedding(2, 768)\n",
              "      (LayerNorm): LayerNorm((768,), eps=1e-12, elementwise_affine=True)\n",
              "      (dropout): Dropout(p=0.1, inplace=False)\n",
              "    )\n",
              "    (encoder): ConvBertEncoder(\n",
              "      (layer): ModuleList(\n",
              "        (0-11): 12 x ConvBertLayer(\n",
              "          (attention): ConvBertAttention(\n",
              "            (self): ConvBertSelfAttention(\n",
              "              (query): Linear(in_features=768, out_features=384, bias=True)\n",
              "              (key): Linear(in_features=768, out_features=384, bias=True)\n",
              "              (value): Linear(in_features=768, out_features=384, bias=True)\n",
              "              (key_conv_attn_layer): SeparableConv1D(\n",
              "                (depthwise): Conv1d(768, 768, kernel_size=(9,), stride=(1,), padding=(4,), groups=768, bias=False)\n",
              "                (pointwise): Conv1d(768, 384, kernel_size=(1,), stride=(1,), bias=False)\n",
              "              )\n",
              "              (conv_kernel_layer): Linear(in_features=384, out_features=54, bias=True)\n",
              "              (conv_out_layer): Linear(in_features=768, out_features=384, bias=True)\n",
              "              (unfold): Unfold(kernel_size=[9, 1], dilation=1, padding=[4, 0], stride=1)\n",
              "              (dropout): Dropout(p=0.1, inplace=False)\n",
              "            )\n",
              "            (output): ConvBertSelfOutput(\n",
              "              (dense): Linear(in_features=768, out_features=768, bias=True)\n",
              "              (LayerNorm): LayerNorm((768,), eps=1e-12, elementwise_affine=True)\n",
              "              (dropout): Dropout(p=0.1, inplace=False)\n",
              "            )\n",
              "          )\n",
              "          (intermediate): ConvBertIntermediate(\n",
              "            (dense): Linear(in_features=768, out_features=3072, bias=True)\n",
              "            (intermediate_act_fn): GELUActivation()\n",
              "          )\n",
              "          (output): ConvBertOutput(\n",
              "            (dense): Linear(in_features=3072, out_features=768, bias=True)\n",
              "            (LayerNorm): LayerNorm((768,), eps=1e-12, elementwise_affine=True)\n",
              "            (dropout): Dropout(p=0.1, inplace=False)\n",
              "          )\n",
              "        )\n",
              "      )\n",
              "    )\n",
              "  )\n",
              "  (classifier): ConvBertClassificationHead(\n",
              "    (dense): Linear(in_features=768, out_features=768, bias=True)\n",
              "    (dropout): Dropout(p=0.1, inplace=False)\n",
              "    (out_proj): Linear(in_features=768, out_features=4, bias=True)\n",
              "  )\n",
              ")"
            ]
          },
          "metadata": {},
          "execution_count": 21
        }
      ]
    },
    {
      "cell_type": "code",
      "source": [
        "import torch.optim\n",
        "from transformers import get_linear_schedule_with_warmup\n",
        "\n",
        "epochs = 9\n",
        "optimizer = torch.optim.AdamW(model.parameters(),\n",
        "                      lr = 5e-5,\n",
        "                      eps = 1e-8\n",
        "                    )\n",
        "\n",
        "total_steps = len(train_dataloader) * epochs\n",
        "scheduler = get_linear_schedule_with_warmup(optimizer,\n",
        "                                            num_warmup_steps = 0,\n",
        "                                            num_training_steps = total_steps)"
      ],
      "metadata": {
        "id": "oA5c7SAODhoS"
      },
      "execution_count": null,
      "outputs": []
    },
    {
      "cell_type": "code",
      "source": [
        "def format_time(elapsed):\n",
        "    elapsed_rounded = int(round((elapsed)))\n",
        "    return str(datetime.timedelta(seconds=elapsed_rounded))"
      ],
      "metadata": {
        "id": "yAQzdLa6DivK"
      },
      "execution_count": null,
      "outputs": []
    },
    {
      "cell_type": "code",
      "source": [
        "seed_val = 2000\n",
        "\n",
        "random.seed(seed_val)\n",
        "np.random.seed(seed_val)\n",
        "torch.manual_seed(seed_val)\n",
        "torch.cuda.manual_seed_all(seed_val)\n",
        "\n",
        "training_stats = []\n",
        "total_t0 = time.time()\n",
        "\n",
        "for epoch_i in range(0, epochs):\n",
        "    print('======== Epoch {:} / {:} ========'.format(epoch_i + 1, epochs))\n",
        "    t0 = time.time()\n",
        "    total_train_loss = 0\n",
        "    model.train()\n",
        "\n",
        "    for step, batch in enumerate(train_dataloader):\n",
        "        if step % 10 == 0 and not step == 0:\n",
        "            elapsed = format_time(time.time() - t0)\n",
        "            print('Batch {:>5,}  of  {:>5,}.    Elapsed: {:}.'.format(step, len(train_dataloader), elapsed))\n",
        "\n",
        "        b_input_ids = batch[0].to(device)\n",
        "        b_input_mask = batch[1].to(device)\n",
        "        b_labels = batch[2].to(device)\n",
        "\n",
        "        model.zero_grad()\n",
        "        output = model(b_input_ids,\n",
        "                             token_type_ids=None,\n",
        "                             attention_mask=b_input_mask,\n",
        "                             labels=b_labels)\n",
        "        loss = output['loss']\n",
        "        logits = output['logits']\n",
        "        total_train_loss += loss.item()\n",
        "        loss.backward()\n",
        "        torch.nn.utils.clip_grad_norm_(model.parameters(), 1.0)\n",
        "        optimizer.step()\n",
        "        scheduler.step()\n",
        "\n",
        "    avg_train_loss = total_train_loss / len(train_dataloader)\n",
        "    training_time = format_time(time.time() - t0)\n",
        "\n",
        "    print(\"Average training loss: {0:.2f}\".format(avg_train_loss))\n",
        "    print(\"Training epoch took: {:}\".format(training_time))\n",
        "\n",
        "    training_stats.append(\n",
        "        {\n",
        "            'epoch': epoch_i + 1,\n",
        "            'Training Loss': avg_train_loss,\n",
        "            'Training Time': training_time,\n",
        "        }\n",
        "    )\n",
        "\n",
        "print(\"Training completed in {:} (h:mm:ss)\".format(format_time(time.time()-total_t0)))"
      ],
      "metadata": {
        "colab": {
          "base_uri": "https://localhost:8080/"
        },
        "id": "Pa3MwwgYDjp2",
        "outputId": "b4d04c09-5ad9-4e69-b62c-d5e81d8650d6"
      },
      "execution_count": null,
      "outputs": [
        {
          "output_type": "stream",
          "name": "stdout",
          "text": [
            "======== Epoch 1 / 9 ========\n",
            "Batch    10  of    150.    Elapsed: 0:00:05.\n",
            "Batch    20  of    150.    Elapsed: 0:00:08.\n",
            "Batch    30  of    150.    Elapsed: 0:00:11.\n",
            "Batch    40  of    150.    Elapsed: 0:00:14.\n",
            "Batch    50  of    150.    Elapsed: 0:00:17.\n",
            "Batch    60  of    150.    Elapsed: 0:00:20.\n",
            "Batch    70  of    150.    Elapsed: 0:00:23.\n",
            "Batch    80  of    150.    Elapsed: 0:00:26.\n",
            "Batch    90  of    150.    Elapsed: 0:00:29.\n",
            "Batch   100  of    150.    Elapsed: 0:00:32.\n",
            "Batch   110  of    150.    Elapsed: 0:00:35.\n",
            "Batch   120  of    150.    Elapsed: 0:00:38.\n",
            "Batch   130  of    150.    Elapsed: 0:00:41.\n",
            "Batch   140  of    150.    Elapsed: 0:00:44.\n",
            "Average training loss: 0.78\n",
            "Training epoch took: 0:00:47\n",
            "======== Epoch 2 / 9 ========\n",
            "Batch    10  of    150.    Elapsed: 0:00:03.\n",
            "Batch    20  of    150.    Elapsed: 0:00:06.\n",
            "Batch    30  of    150.    Elapsed: 0:00:09.\n",
            "Batch    40  of    150.    Elapsed: 0:00:12.\n",
            "Batch    50  of    150.    Elapsed: 0:00:15.\n",
            "Batch    60  of    150.    Elapsed: 0:00:18.\n",
            "Batch    70  of    150.    Elapsed: 0:00:21.\n",
            "Batch    80  of    150.    Elapsed: 0:00:24.\n",
            "Batch    90  of    150.    Elapsed: 0:00:27.\n",
            "Batch   100  of    150.    Elapsed: 0:00:29.\n",
            "Batch   110  of    150.    Elapsed: 0:00:32.\n",
            "Batch   120  of    150.    Elapsed: 0:00:35.\n",
            "Batch   130  of    150.    Elapsed: 0:00:38.\n",
            "Batch   140  of    150.    Elapsed: 0:00:41.\n",
            "Average training loss: 0.39\n",
            "Training epoch took: 0:00:44\n",
            "======== Epoch 3 / 9 ========\n",
            "Batch    10  of    150.    Elapsed: 0:00:03.\n",
            "Batch    20  of    150.    Elapsed: 0:00:06.\n",
            "Batch    30  of    150.    Elapsed: 0:00:09.\n",
            "Batch    40  of    150.    Elapsed: 0:00:12.\n",
            "Batch    50  of    150.    Elapsed: 0:00:15.\n",
            "Batch    60  of    150.    Elapsed: 0:00:18.\n",
            "Batch    70  of    150.    Elapsed: 0:00:21.\n",
            "Batch    80  of    150.    Elapsed: 0:00:24.\n",
            "Batch    90  of    150.    Elapsed: 0:00:27.\n",
            "Batch   100  of    150.    Elapsed: 0:00:30.\n",
            "Batch   110  of    150.    Elapsed: 0:00:33.\n",
            "Batch   120  of    150.    Elapsed: 0:00:36.\n",
            "Batch   130  of    150.    Elapsed: 0:00:39.\n",
            "Batch   140  of    150.    Elapsed: 0:00:42.\n",
            "Average training loss: 0.26\n",
            "Training epoch took: 0:00:45\n",
            "======== Epoch 4 / 9 ========\n",
            "Batch    10  of    150.    Elapsed: 0:00:03.\n",
            "Batch    20  of    150.    Elapsed: 0:00:06.\n",
            "Batch    30  of    150.    Elapsed: 0:00:09.\n",
            "Batch    40  of    150.    Elapsed: 0:00:12.\n",
            "Batch    50  of    150.    Elapsed: 0:00:15.\n",
            "Batch    60  of    150.    Elapsed: 0:00:18.\n",
            "Batch    70  of    150.    Elapsed: 0:00:21.\n",
            "Batch    80  of    150.    Elapsed: 0:00:24.\n",
            "Batch    90  of    150.    Elapsed: 0:00:27.\n",
            "Batch   100  of    150.    Elapsed: 0:00:30.\n",
            "Batch   110  of    150.    Elapsed: 0:00:33.\n",
            "Batch   120  of    150.    Elapsed: 0:00:36.\n",
            "Batch   130  of    150.    Elapsed: 0:00:39.\n",
            "Batch   140  of    150.    Elapsed: 0:00:41.\n",
            "Average training loss: 0.12\n",
            "Training epoch took: 0:00:44\n",
            "======== Epoch 5 / 9 ========\n",
            "Batch    10  of    150.    Elapsed: 0:00:03.\n",
            "Batch    20  of    150.    Elapsed: 0:00:06.\n",
            "Batch    30  of    150.    Elapsed: 0:00:09.\n",
            "Batch    40  of    150.    Elapsed: 0:00:12.\n",
            "Batch    50  of    150.    Elapsed: 0:00:15.\n",
            "Batch    60  of    150.    Elapsed: 0:00:18.\n",
            "Batch    70  of    150.    Elapsed: 0:00:21.\n",
            "Batch    80  of    150.    Elapsed: 0:00:24.\n",
            "Batch    90  of    150.    Elapsed: 0:00:27.\n",
            "Batch   100  of    150.    Elapsed: 0:00:30.\n",
            "Batch   110  of    150.    Elapsed: 0:00:33.\n",
            "Batch   120  of    150.    Elapsed: 0:00:36.\n",
            "Batch   130  of    150.    Elapsed: 0:00:39.\n",
            "Batch   140  of    150.    Elapsed: 0:00:42.\n",
            "Average training loss: 0.08\n",
            "Training epoch took: 0:00:45\n",
            "======== Epoch 6 / 9 ========\n",
            "Batch    10  of    150.    Elapsed: 0:00:03.\n",
            "Batch    20  of    150.    Elapsed: 0:00:06.\n",
            "Batch    30  of    150.    Elapsed: 0:00:09.\n",
            "Batch    40  of    150.    Elapsed: 0:00:12.\n",
            "Batch    50  of    150.    Elapsed: 0:00:15.\n",
            "Batch    60  of    150.    Elapsed: 0:00:18.\n",
            "Batch    70  of    150.    Elapsed: 0:00:21.\n",
            "Batch    80  of    150.    Elapsed: 0:00:24.\n",
            "Batch    90  of    150.    Elapsed: 0:00:27.\n",
            "Batch   100  of    150.    Elapsed: 0:00:30.\n",
            "Batch   110  of    150.    Elapsed: 0:00:33.\n",
            "Batch   120  of    150.    Elapsed: 0:00:36.\n",
            "Batch   130  of    150.    Elapsed: 0:00:39.\n",
            "Batch   140  of    150.    Elapsed: 0:00:42.\n",
            "Average training loss: 0.05\n",
            "Training epoch took: 0:00:45\n",
            "======== Epoch 7 / 9 ========\n",
            "Batch    10  of    150.    Elapsed: 0:00:03.\n",
            "Batch    20  of    150.    Elapsed: 0:00:06.\n",
            "Batch    30  of    150.    Elapsed: 0:00:09.\n",
            "Batch    40  of    150.    Elapsed: 0:00:12.\n",
            "Batch    50  of    150.    Elapsed: 0:00:15.\n",
            "Batch    60  of    150.    Elapsed: 0:00:18.\n",
            "Batch    70  of    150.    Elapsed: 0:00:21.\n",
            "Batch    80  of    150.    Elapsed: 0:00:24.\n",
            "Batch    90  of    150.    Elapsed: 0:00:27.\n",
            "Batch   100  of    150.    Elapsed: 0:00:30.\n",
            "Batch   110  of    150.    Elapsed: 0:00:33.\n",
            "Batch   120  of    150.    Elapsed: 0:00:36.\n",
            "Batch   130  of    150.    Elapsed: 0:00:39.\n",
            "Batch   140  of    150.    Elapsed: 0:00:42.\n",
            "Average training loss: 0.02\n",
            "Training epoch took: 0:00:44\n",
            "======== Epoch 8 / 9 ========\n",
            "Batch    10  of    150.    Elapsed: 0:00:03.\n",
            "Batch    20  of    150.    Elapsed: 0:00:06.\n",
            "Batch    30  of    150.    Elapsed: 0:00:09.\n",
            "Batch    40  of    150.    Elapsed: 0:00:12.\n",
            "Batch    50  of    150.    Elapsed: 0:00:15.\n",
            "Batch    60  of    150.    Elapsed: 0:00:18.\n",
            "Batch    70  of    150.    Elapsed: 0:00:21.\n",
            "Batch    80  of    150.    Elapsed: 0:00:24.\n",
            "Batch    90  of    150.    Elapsed: 0:00:27.\n",
            "Batch   100  of    150.    Elapsed: 0:00:30.\n",
            "Batch   110  of    150.    Elapsed: 0:00:33.\n",
            "Batch   120  of    150.    Elapsed: 0:00:36.\n",
            "Batch   130  of    150.    Elapsed: 0:00:39.\n",
            "Batch   140  of    150.    Elapsed: 0:00:42.\n",
            "Average training loss: 0.01\n",
            "Training epoch took: 0:00:45\n",
            "======== Epoch 9 / 9 ========\n",
            "Batch    10  of    150.    Elapsed: 0:00:03.\n",
            "Batch    20  of    150.    Elapsed: 0:00:06.\n",
            "Batch    30  of    150.    Elapsed: 0:00:09.\n",
            "Batch    40  of    150.    Elapsed: 0:00:12.\n",
            "Batch    50  of    150.    Elapsed: 0:00:15.\n",
            "Batch    60  of    150.    Elapsed: 0:00:18.\n",
            "Batch    70  of    150.    Elapsed: 0:00:21.\n",
            "Batch    80  of    150.    Elapsed: 0:00:24.\n",
            "Batch    90  of    150.    Elapsed: 0:00:27.\n",
            "Batch   100  of    150.    Elapsed: 0:00:30.\n",
            "Batch   110  of    150.    Elapsed: 0:00:33.\n",
            "Batch   120  of    150.    Elapsed: 0:00:36.\n",
            "Batch   130  of    150.    Elapsed: 0:00:39.\n",
            "Batch   140  of    150.    Elapsed: 0:00:42.\n",
            "Average training loss: 0.01\n",
            "Training epoch took: 0:00:45\n",
            "Training completed in 0:06:43 (h:mm:ss)\n"
          ]
        }
      ]
    },
    {
      "cell_type": "code",
      "source": [
        "df_stats = pd.DataFrame(data=training_stats)\n",
        "plt.plot(df_stats['Training Loss'], label=\"Training\")\n",
        "plt.title(\"Training Loss\")\n",
        "plt.xlabel(\"Epoch\")\n",
        "plt.ylabel(\"Loss\")\n",
        "plt.xticks([1, 2, 3, 4])\n",
        "plt.show()"
      ],
      "metadata": {
        "colab": {
          "base_uri": "https://localhost:8080/",
          "height": 472
        },
        "id": "AACQs67hDlca",
        "outputId": "7025bac7-b148-493b-ba5a-9e667ee40740"
      },
      "execution_count": null,
      "outputs": [
        {
          "output_type": "display_data",
          "data": {
            "text/plain": [
              "<Figure size 640x480 with 1 Axes>"
            ],
            "image/png": "[encoded data removed]"
          },
          "metadata": {}
        }
      ]
    },
    {
      "cell_type": "code",
      "source": [
        "test_texts = test.text.values\n",
        "test_labels = test.label.values\n",
        "\n",
        "input_ids = []\n",
        "attention_masks = []\n",
        "\n",
        "for text in test_texts:\n",
        "    encoded_dict = tokenizer.encode_plus(\n",
        "                        text,\n",
        "                        add_special_tokens = True,\n",
        "                        max_length = max_len,\n",
        "                        pad_to_max_length = True,\n",
        "                        return_attention_mask = True,\n",
        "                        return_tensors = 'pt',\n",
        "                   )\n",
        "\n",
        "    input_ids.append(encoded_dict['input_ids'])\n",
        "    attention_masks.append(encoded_dict['attention_mask'])\n",
        "\n",
        "input_ids = torch.cat(input_ids, dim=0)\n",
        "attention_masks = torch.cat(attention_masks, dim=0)\n",
        "labels = torch.tensor(test_labels)\n",
        "\n",
        "batch_size = 32\n",
        "\n",
        "prediction_data = TensorDataset(input_ids, attention_masks, labels)\n",
        "prediction_sampler = SequentialSampler(prediction_data)\n",
        "prediction_dataloader = DataLoader(prediction_data, sampler=prediction_sampler, batch_size=batch_size)"
      ],
      "metadata": {
        "id": "NVoMW-g7Dme7"
      },
      "execution_count": null,
      "outputs": []
    },
    {
      "cell_type": "code",
      "source": [
        "print('Prediction started on test data')\n",
        "model.eval()\n",
        "predictions , true_labels, prdict_label = [], [], []\n",
        "\n",
        "for batch in prediction_dataloader:\n",
        "  batch = tuple(t.to(device) for t in batch)\n",
        "  b_input_ids, b_input_mask, b_labels = batch\n",
        "\n",
        "  with torch.no_grad():\n",
        "      outputs = model(b_input_ids, token_type_ids=None,\n",
        "                      attention_mask=b_input_mask)\n",
        "\n",
        "  logits = outputs[0]\n",
        "  logits = logits.detach().cpu().numpy()\n",
        "  label_ids = b_labels.to('cpu').numpy()\n",
        "\n",
        "  predictions.append(logits)\n",
        "  true_labels.append(label_ids)\n",
        "  prdict_label.append(np.argmax(logits, axis=1).flatten())\n",
        "\n",
        "# softmax_values = np.array(predictions)\n",
        "# softmax_values = np.exp(softmax_values) / np.sum(np.exp(softmax_values), axis=1, keepdims=True)\n",
        "# predicted_labels = np.argmax(softmax_values, axis=1)\n",
        "# print(predicted_labels)\n",
        "\n",
        "print('Prediction completed')"
      ],
      "metadata": {
        "colab": {
          "base_uri": "https://localhost:8080/"
        },
        "id": "dV31EBD9Dors",
        "outputId": "948f684b-79ff-41cc-e4ef-000da4d5dbff"
      },
      "execution_count": null,
      "outputs": [
        {
          "output_type": "stream",
          "name": "stdout",
          "text": [
            "Prediction started on test data\n",
            "Prediction completed\n"
          ]
        }
      ]
    },
    {
      "cell_type": "code",
      "source": [
        "from sklearn.metrics import confusion_matrix\n",
        "import seaborn as sns\n",
        "import matplotlib.pyplot as plt\n",
        "\n",
        "\n",
        "true_labels_flat = [item for sublist in true_labels for item in sublist]\n",
        "predicted_labels_flat = [item for sublist in prdict_label for item in sublist]\n",
        "\n",
        "cm = confusion_matrix(true_labels_flat, predicted_labels_flat)\n",
        "\n",
        "\n",
        "# Sınıf isimlerini belirle\n",
        "class_names = ['Cinsiyetçilik', 'Irkçılık', 'Kızdırma', 'Nötr']\n",
        "\n",
        "# Karışıklık matrisini görselleştir\n",
        "plt.figure(figsize=(8, 6))\n",
        "sns.heatmap(cm, annot=True, fmt='d', cmap='Blues', xticklabels=class_names, yticklabels=class_names)\n",
        "plt.xlabel('True')\n",
        "plt.ylabel('Predicted')\n",
        "plt.title('Confusion Matrix')\n",
        "plt.show()"
      ],
      "metadata": {
        "colab": {
          "base_uri": "https://localhost:8080/",
          "height": 564
        },
        "id": "nCBOj7iFDq1n",
        "outputId": "f5fff6a2-c615-4dc3-8bab-4aa0d5f7f919"
      },
      "execution_count": null,
      "outputs": [
        {
          "output_type": "display_data",
          "data": {
            "text/plain": [
              "<Figure size 800x600 with 2 Axes>"
            ],
            "image/png": "[encoded data removed]"
          },
          "metadata": {}
        }
      ]
    },
    {
      "cell_type": "code",
      "source": [
        "prediction_set = []\n",
        "\n",
        "for i in range(len(true_labels)):\n",
        "  pred_labels_i = np.argmax(predictions[i], axis=1).flatten()\n",
        "  prediction_set.append(pred_labels_i)\n",
        "\n",
        "prediction_scores = [item for sublist in prediction_set for item in sublist]"
      ],
      "metadata": {
        "id": "Jhggk2c3Ds7t"
      },
      "execution_count": null,
      "outputs": []
    },
    {
      "cell_type": "code",
      "source": [
        "f_score = f1_score(test_labels, prediction_scores, average='macro')\n",
        "precision = precision_score(test_labels, prediction_scores, average='macro')\n",
        "recall = recall_score(test_labels, prediction_scores, average='macro')\n",
        "accr = accuracy_score(test_labels, prediction_scores)"
      ],
      "metadata": {
        "id": "PoyXIsPFDt1v"
      },
      "execution_count": null,
      "outputs": []
    },
    {
      "cell_type": "code",
      "source": [
        "print(\"F-Score: \", f_score)\n",
        "print(\"Recall: \", recall)\n",
        "print(\"Precision: \", precision)\n",
        "print(\"Accuracy: \", accr)"
      ],
      "metadata": {
        "colab": {
          "base_uri": "https://localhost:8080/"
        },
        "id": "HQlRNnmuDu3_",
        "outputId": "8b28d629-8d67-427d-dabc-ecfaf42cfe09"
      },
      "execution_count": null,
      "outputs": [
        {
          "output_type": "stream",
          "name": "stdout",
          "text": [
            "F-Score:  0.8718466901810891\n",
            "Recall:  0.8705815018315018\n",
            "Precision:  0.8732071132878853\n",
            "Accuracy:  0.8691275167785235\n"
          ]
        }
      ]
    },
    {
      "cell_type": "code",
      "source": [
        "from sklearn.metrics import precision_recall_curve\n",
        "\n",
        "predictions = np.concatenate(predictions, axis=0)\n",
        "true_labels = np.concatenate(true_labels, axis=0)\n",
        "\n",
        "# Sınıf bazında precision, recall, f1-score ve support değerlerini hesaplama\n",
        "class_names = ['Cinsiyetçilik', 'Irkçılık', 'Kızdırma', 'Nötr']\n",
        "print(classification_report(true_labels, np.argmax(predictions, axis=1), target_names=class_names))\n",
        "\n",
        "# Precision-Recall eğrisi hesaplama\n",
        "n_classes = predictions.shape[1]\n",
        "precision = dict()\n",
        "recall = dict()\n",
        "\n",
        "for i in range(n_classes):\n",
        "    precision[i], recall[i], _ = precision_recall_curve(true_labels == i, predictions[:, i])\n",
        "\n",
        "# Metrikleri bir tablo halinde gösterme\n",
        "precision_scores = precision_score(true_labels, np.argmax(predictions, axis=1), average=None)\n",
        "recall_scores = recall_score(true_labels, np.argmax(predictions, axis=1), average=None)\n",
        "f1_scores = f1_score(true_labels, np.argmax(predictions, axis=1), average=None)\n",
        "accuracy = accuracy_score(true_labels, np.argmax(predictions, axis=1))\n",
        "\n",
        "metrics_table = pd.DataFrame({\n",
        "    'Class': class_names,\n",
        "    'Precision': precision_scores,\n",
        "    'Recall': recall_scores,\n",
        "    'F1 Score': f1_scores\n",
        "})\n",
        "metrics_table.loc['Average'] = ['Ortalama', precision_score(true_labels, np.argmax(predictions, axis=1), average='macro'),\n",
        "                                recall_score(true_labels, np.argmax(predictions, axis=1), average='macro'),\n",
        "                                f1_score(true_labels, np.argmax(predictions, axis=1), average='macro')]\n",
        "metrics_table.loc['Total Accuracy'] = ['', '', '', accuracy]\n",
        "\n",
        "print(metrics_table)\n",
        "\n",
        "# PR eğrisini çizme\n",
        "plt.figure(figsize=(10, 7))\n",
        "\n",
        "for i in range(n_classes):\n",
        "    plt.plot(recall[i], precision[i], lw=2, label=class_names[i])\n",
        "\n",
        "\n",
        "plt.xlabel('Recall')\n",
        "plt.ylabel('Precision')\n",
        "plt.title('Precision-Recall Eğrisi')\n",
        "plt.legend(loc='best')\n",
        "plt.show()"
      ],
      "metadata": {
        "colab": {
          "base_uri": "https://localhost:8080/",
          "height": 899
        },
        "id": "GIbSM8DkDwq_",
        "outputId": "e496e75b-9331-456e-8577-72193e3eb9ee"
      },
      "execution_count": null,
      "outputs": [
        {
          "output_type": "stream",
          "name": "stdout",
          "text": [
            "               precision    recall  f1-score   support\n",
            "\n",
            "Cinsiyetçilik       0.91      0.89      0.90       120\n",
            "     Irkçılık       0.88      0.87      0.87        98\n",
            "     Kızdırma       0.82      0.84      0.83       182\n",
            "         Nötr       0.89      0.88      0.88       196\n",
            "\n",
            "     accuracy                           0.87       596\n",
            "    macro avg       0.87      0.87      0.87       596\n",
            " weighted avg       0.87      0.87      0.87       596\n",
            "\n",
            "                        Class Precision    Recall  F1 Score\n",
            "0               Cinsiyetçilik   0.90678  0.891667  0.899160\n",
            "1                    Irkçılık  0.876289  0.867347  0.871795\n",
            "2                    Kızdırma  0.822581  0.840659  0.831522\n",
            "3                        Nötr  0.887179  0.882653  0.884910\n",
            "Average              Ortalama  0.873207  0.870582  0.871847\n",
            "Total Accuracy                                     0.869128\n"
          ]
        },
        {
          "output_type": "display_data",
          "data": {
            "text/plain": [
              "<Figure size 1000x700 with 1 Axes>"
            ],
            "image/png": "[encoded data removed]"
          },
          "metadata": {}
        }
      ]
    },
    {
      "cell_type": "code",
      "source": [
        "report = pd.DataFrame(classification_report(test_labels, prediction_scores, output_dict=True))\n"
      ],
      "metadata": {
        "id": "TIkvps0uXgjR"
      },
      "execution_count": null,
      "outputs": []
    },
    {
      "cell_type": "code",
      "source": [
        "report = report.rename(columns={\n",
        "                                '0':'Cinsiyetçilik',\n",
        "                                '1':'Irkçılık',\n",
        "                                '2':'Kızdırma',\n",
        "                                '3':'Nötr'})\n",
        "report"
      ],
      "metadata": {
        "colab": {
          "base_uri": "https://localhost:8080/",
          "height": 175
        },
        "id": "S8ycqcU5D05y",
        "outputId": "e55de67b-ea15-415a-b87c-c28b59e070ab"
      },
      "execution_count": null,
      "outputs": [
        {
          "output_type": "execute_result",
          "data": {
            "text/plain": [
              "           Cinsiyetçilik   Irkçılık    Kızdırma        Nötr  accuracy  \\\n",
              "precision       0.906780   0.876289    0.822581    0.887179  0.869128   \n",
              "recall          0.891667   0.867347    0.840659    0.882653  0.869128   \n",
              "f1-score        0.899160   0.871795    0.831522    0.884910  0.869128   \n",
              "support       120.000000  98.000000  182.000000  196.000000  0.869128   \n",
              "\n",
              "            macro avg  weighted avg  \n",
              "precision    0.873207      0.869609  \n",
              "recall       0.870582      0.869128  \n",
              "f1-score     0.871847      0.869320  \n",
              "support    596.000000    596.000000  "
            ],
            "text/html": [
              "\n",
              "  <div id=\"df-59d09cfc-2e93-4586-bf58-69eb4b035e2a\" class=\"colab-df-container\">\n",
              "    <div>\n",
              "<style scoped>\n",
              "    .dataframe tbody tr th:only-of-type {\n",
              "        vertical-align: middle;\n",
              "    }\n",
              "\n",
              "    .dataframe tbody tr th {\n",
              "        vertical-align: top;\n",
              "    }\n",
              "\n",
              "    .dataframe thead th {\n",
              "        text-align: right;\n",
              "    }\n",
              "</style>\n",
              "<table border=\"1\" class=\"dataframe\">\n",
              "  <thead>\n",
              "    <tr style=\"text-align: right;\">\n",
              "      <th></th>\n",
              "      <th>Cinsiyetçilik</th>\n",
              "      <th>Irkçılık</th>\n",
              "      <th>Kızdırma</th>\n",
              "      <th>Nötr</th>\n",
              "      <th>accuracy</th>\n",
              "      <th>macro avg</th>\n",
              "      <th>weighted avg</th>\n",
              "    </tr>\n",
              "  </thead>\n",
              "  <tbody>\n",
              "    <tr>\n",
              "      <th>precision</th>\n",
              "      <td>0.906780</td>\n",
              "      <td>0.876289</td>\n",
              "      <td>0.822581</td>\n",
              "      <td>0.887179</td>\n",
              "      <td>0.869128</td>\n",
              "      <td>0.873207</td>\n",
              "      <td>0.869609</td>\n",
              "    </tr>\n",
              "    <tr>\n",
              "      <th>recall</th>\n",
              "      <td>0.891667</td>\n",
              "      <td>0.867347</td>\n",
              "      <td>0.840659</td>\n",
              "      <td>0.882653</td>\n",
              "      <td>0.869128</td>\n",
              "      <td>0.870582</td>\n",
              "      <td>0.869128</td>\n",
              "    </tr>\n",
              "    <tr>\n",
              "      <th>f1-score</th>\n",
              "      <td>0.899160</td>\n",
              "      <td>0.871795</td>\n",
              "      <td>0.831522</td>\n",
              "      <td>0.884910</td>\n",
              "      <td>0.869128</td>\n",
              "      <td>0.871847</td>\n",
              "      <td>0.869320</td>\n",
              "    </tr>\n",
              "    <tr>\n",
              "      <th>support</th>\n",
              "      <td>120.000000</td>\n",
              "      <td>98.000000</td>\n",
              "      <td>182.000000</td>\n",
              "      <td>196.000000</td>\n",
              "      <td>0.869128</td>\n",
              "      <td>596.000000</td>\n",
              "      <td>596.000000</td>\n",
              "    </tr>\n",
              "  </tbody>\n",
              "</table>\n",
              "</div>\n",
              "    <div class=\"colab-df-buttons\">\n",
              "\n",
              "  <div class=\"colab-df-container\">\n",
              "    <button class=\"colab-df-convert\" onclick=\"convertToInteractive('df-59d09cfc-2e93-4586-bf58-69eb4b035e2a')\"\n",
              "            title=\"Convert this dataframe to an interactive table.\"\n",
              "            style=\"display:none;\">\n",
              "\n",
              "  <svg xmlns=\"http://www.w3.org/2000/svg\" height=\"24px\" viewBox=\"0 -960 960 960\">\n",
              "    <path d=\"M120-120v-720h720v720H120Zm60-500h600v-160H180v160Zm220 220h160v-160H400v160Zm0 220h160v-160H400v160ZM180-400h160v-160H180v160Zm440 0h160v-160H620v160ZM180-180h160v-160H180v160Zm440 0h160v-160H620v160Z\"/>\n",
              "  </svg>\n",
              "    </button>\n",
              "\n",
              "  <style>\n",
              "    .colab-df-container {\n",
              "      display:flex;\n",
              "      gap: 12px;\n",
              "    }\n",
              "\n",
              "    .colab-df-convert {\n",
              "      background-color: #E8F0FE;\n",
              "      border: none;\n",
              "      border-radius: 50%;\n",
              "      cursor: pointer;\n",
              "      display: none;\n",
              "      fill: #1967D2;\n",
              "      height: 32px;\n",
              "      padding: 0 0 0 0;\n",
              "      width: 32px;\n",
              "    }\n",
              "\n",
              "    .colab-df-convert:hover {\n",
              "      background-color: #E2EBFA;\n",
              "      box-shadow: 0px 1px 2px rgba(60, 64, 67, 0.3), 0px 1px 3px 1px rgba(60, 64, 67, 0.15);\n",
              "      fill: #174EA6;\n",
              "    }\n",
              "\n",
              "    .colab-df-buttons div {\n",
              "      margin-bottom: 4px;\n",
              "    }\n",
              "\n",
              "    [theme=dark] .colab-df-convert {\n",
              "      background-color: #3B4455;\n",
              "      fill: #D2E3FC;\n",
              "    }\n",
              "\n",
              "    [theme=dark] .colab-df-convert:hover {\n",
              "      background-color: #434B5C;\n",
              "      box-shadow: 0px 1px 3px 1px rgba(0, 0, 0, 0.15);\n",
              "      filter: drop-shadow(0px 1px 2px rgba(0, 0, 0, 0.3));\n",
              "      fill: #FFFFFF;\n",
              "    }\n",
              "  </style>\n",
              "\n",
              "    <script>\n",
              "      const buttonEl =\n",
              "        document.querySelector('#df-59d09cfc-2e93-4586-bf58-69eb4b035e2a button.colab-df-convert');\n",
              "      buttonEl.style.display =\n",
              "        google.colab.kernel.accessAllowed ? 'block' : 'none';\n",
              "\n",
              "      async function convertToInteractive(key) {\n",
              "        const element = document.querySelector('#df-59d09cfc-2e93-4586-bf58-69eb4b035e2a');\n",
              "        const dataTable =\n",
              "          await google.colab.kernel.invokeFunction('convertToInteractive',\n",
              "                                                    [key], {});\n",
              "        if (!dataTable) return;\n",
              "\n",
              "        const docLinkHtml = 'Like what you see? Visit the ' +\n",
              "          '<a target=\"_blank\" href=https://colab.research.google.com/notebooks/data_table.ipynb>data table notebook</a>'\n",
              "          + ' to learn more about interactive tables.';\n",
              "        element.innerHTML = '';\n",
              "        dataTable['output_type'] = 'display_data';\n",
              "        await google.colab.output.renderOutput(dataTable, element);\n",
              "        const docLink = document.createElement('div');\n",
              "        docLink.innerHTML = docLinkHtml;\n",
              "        element.appendChild(docLink);\n",
              "      }\n",
              "    </script>\n",
              "  </div>\n",
              "\n",
              "\n",
              "<div id=\"df-b68ec55a-fe54-4d2c-a1dd-64fa6100bb7b\">\n",
              "  <button class=\"colab-df-quickchart\" onclick=\"quickchart('df-b68ec55a-fe54-4d2c-a1dd-64fa6100bb7b')\"\n",
              "            title=\"Suggest charts\"\n",
              "            style=\"display:none;\">\n",
              "\n",
              "<svg xmlns=\"http://www.w3.org/2000/svg\" height=\"24px\"viewBox=\"0 0 24 24\"\n",
              "     width=\"24px\">\n",
              "    <g>\n",
              "        <path d=\"M19 3H5c-1.1 0-2 .9-2 2v14c0 1.1.9 2 2 2h14c1.1 0 2-.9 2-2V5c0-1.1-.9-2-2-2zM9 17H7v-7h2v7zm4 0h-2V7h2v10zm4 0h-2v-4h2v4z\"/>\n",
              "    </g>\n",
              "</svg>\n",
              "  </button>\n",
              "\n",
              "<style>\n",
              "  .colab-df-quickchart {\n",
              "      --bg-color: #E8F0FE;\n",
              "      --fill-color: #1967D2;\n",
              "      --hover-bg-color: #E2EBFA;\n",
              "      --hover-fill-color: #174EA6;\n",
              "      --disabled-fill-color: #AAA;\n",
              "      --disabled-bg-color: #DDD;\n",
              "  }\n",
              "\n",
              "  [theme=dark] .colab-df-quickchart {\n",
              "      --bg-color: #3B4455;\n",
              "      --fill-color: #D2E3FC;\n",
              "      --hover-bg-color: #434B5C;\n",
              "      --hover-fill-color: #FFFFFF;\n",
              "      --disabled-bg-color: #3B4455;\n",
              "      --disabled-fill-color: #666;\n",
              "  }\n",
              "\n",
              "  .colab-df-quickchart {\n",
              "    background-color: var(--bg-color);\n",
              "    border: none;\n",
              "    border-radius: 50%;\n",
              "    cursor: pointer;\n",
              "    display: none;\n",
              "    fill: var(--fill-color);\n",
              "    height: 32px;\n",
              "    padding: 0;\n",
              "    width: 32px;\n",
              "  }\n",
              "\n",
              "  .colab-df-quickchart:hover {\n",
              "    background-color: var(--hover-bg-color);\n",
              "    box-shadow: 0 1px 2px rgba(60, 64, 67, 0.3), 0 1px 3px 1px rgba(60, 64, 67, 0.15);\n",
              "    fill: var(--button-hover-fill-color);\n",
              "  }\n",
              "\n",
              "  .colab-df-quickchart-complete:disabled,\n",
              "  .colab-df-quickchart-complete:disabled:hover {\n",
              "    background-color: var(--disabled-bg-color);\n",
              "    fill: var(--disabled-fill-color);\n",
              "    box-shadow: none;\n",
              "  }\n",
              "\n",
              "  .colab-df-spinner {\n",
              "    border: 2px solid var(--fill-color);\n",
              "    border-color: transparent;\n",
              "    border-bottom-color: var(--fill-color);\n",
              "    animation:\n",
              "      spin 1s steps(1) infinite;\n",
              "  }\n",
              "\n",
              "  @keyframes spin {\n",
              "    0% {\n",
              "      border-color: transparent;\n",
              "      border-bottom-color: var(--fill-color);\n",
              "      border-left-color: var(--fill-color);\n",
              "    }\n",
              "    20% {\n",
              "      border-color: transparent;\n",
              "      border-left-color: var(--fill-color);\n",
              "      border-top-color: var(--fill-color);\n",
              "    }\n",
              "    30% {\n",
              "      border-color: transparent;\n",
              "      border-left-color: var(--fill-color);\n",
              "      border-top-color: var(--fill-color);\n",
              "      border-right-color: var(--fill-color);\n",
              "    }\n",
              "    40% {\n",
              "      border-color: transparent;\n",
              "      border-right-color: var(--fill-color);\n",
              "      border-top-color: var(--fill-color);\n",
              "    }\n",
              "    60% {\n",
              "      border-color: transparent;\n",
              "      border-right-color: var(--fill-color);\n",
              "    }\n",
              "    80% {\n",
              "      border-color: transparent;\n",
              "      border-right-color: var(--fill-color);\n",
              "      border-bottom-color: var(--fill-color);\n",
              "    }\n",
              "    90% {\n",
              "      border-color: transparent;\n",
              "      border-bottom-color: var(--fill-color);\n",
              "    }\n",
              "  }\n",
              "</style>\n",
              "\n",
              "  <script>\n",
              "    async function quickchart(key) {\n",
              "      const quickchartButtonEl =\n",
              "        document.querySelector('#' + key + ' button');\n",
              "      quickchartButtonEl.disabled = true;  // To prevent multiple clicks.\n",
              "      quickchartButtonEl.classList.add('colab-df-spinner');\n",
              "      try {\n",
              "        const charts = await google.colab.kernel.invokeFunction(\n",
              "            'suggestCharts', [key], {});\n",
              "      } catch (error) {\n",
              "        console.error('Error during call to suggestCharts:', error);\n",
              "      }\n",
              "      quickchartButtonEl.classList.remove('colab-df-spinner');\n",
              "      quickchartButtonEl.classList.add('colab-df-quickchart-complete');\n",
              "    }\n",
              "    (() => {\n",
              "      let quickchartButtonEl =\n",
              "        document.querySelector('#df-b68ec55a-fe54-4d2c-a1dd-64fa6100bb7b button');\n",
              "      quickchartButtonEl.style.display =\n",
              "        google.colab.kernel.accessAllowed ? 'block' : 'none';\n",
              "    })();\n",
              "  </script>\n",
              "</div>\n",
              "\n",
              "  <div id=\"id_97b98bd5-ceae-4a2e-b6d4-e97a63a3d2b0\">\n",
              "    <style>\n",
              "      .colab-df-generate {\n",
              "        background-color: #E8F0FE;\n",
              "        border: none;\n",
              "        border-radius: 50%;\n",
              "        cursor: pointer;\n",
              "        display: none;\n",
              "        fill: #1967D2;\n",
              "        height: 32px;\n",
              "        padding: 0 0 0 0;\n",
              "        width: 32px;\n",
              "      }\n",
              "\n",
              "      .colab-df-generate:hover {\n",
              "        background-color: #E2EBFA;\n",
              "        box-shadow: 0px 1px 2px rgba(60, 64, 67, 0.3), 0px 1px 3px 1px rgba(60, 64, 67, 0.15);\n",
              "        fill: #174EA6;\n",
              "      }\n",
              "\n",
              "      [theme=dark] .colab-df-generate {\n",
              "        background-color: #3B4455;\n",
              "        fill: #D2E3FC;\n",
              "      }\n",
              "\n",
              "      [theme=dark] .colab-df-generate:hover {\n",
              "        background-color: #434B5C;\n",
              "        box-shadow: 0px 1px 3px 1px rgba(0, 0, 0, 0.15);\n",
              "        filter: drop-shadow(0px 1px 2px rgba(0, 0, 0, 0.3));\n",
              "        fill: #FFFFFF;\n",
              "      }\n",
              "    </style>\n",
              "    <button class=\"colab-df-generate\" onclick=\"generateWithVariable('report')\"\n",
              "            title=\"Generate code using this dataframe.\"\n",
              "            style=\"display:none;\">\n",
              "\n",
              "  <svg xmlns=\"http://www.w3.org/2000/svg\" height=\"24px\"viewBox=\"0 0 24 24\"\n",
              "       width=\"24px\">\n",
              "    <path d=\"M7,19H8.4L18.45,9,17,7.55,7,17.6ZM5,21V16.75L18.45,3.32a2,2,0,0,1,2.83,0l1.4,1.43a1.91,1.91,0,0,1,.58,1.4,1.91,1.91,0,0,1-.58,1.4L9.25,21ZM18.45,9,17,7.55Zm-12,3A5.31,5.31,0,0,0,4.9,8.1,5.31,5.31,0,0,0,1,6.5,5.31,5.31,0,0,0,4.9,4.9,5.31,5.31,0,0,0,6.5,1,5.31,5.31,0,0,0,8.1,4.9,5.31,5.31,0,0,0,12,6.5,5.46,5.46,0,0,0,6.5,12Z\"/>\n",
              "  </svg>\n",
              "    </button>\n",
              "    <script>\n",
              "      (() => {\n",
              "      const buttonEl =\n",
              "        document.querySelector('#id_97b98bd5-ceae-4a2e-b6d4-e97a63a3d2b0 button.colab-df-generate');\n",
              "      buttonEl.style.display =\n",
              "        google.colab.kernel.accessAllowed ? 'block' : 'none';\n",
              "\n",
              "      buttonEl.onclick = () => {\n",
              "        google.colab.notebook.generateWithVariable('report');\n",
              "      }\n",
              "      })();\n",
              "    </script>\n",
              "  </div>\n",
              "\n",
              "    </div>\n",
              "  </div>\n"
            ],
            "application/vnd.google.colaboratory.intrinsic+json": {
              "type": "dataframe",
              "variable_name": "report",
              "summary": "{\n  \"name\": \"report\",\n  \"rows\": 4,\n  \"fields\": [\n    {\n      \"column\": \"Cinsiyet\\u00e7ilik\",\n      \"properties\": {\n        \"dtype\": \"number\",\n        \"std\": 59.550399321036856,\n        \"min\": 0.8916666666666667,\n        \"max\": 120.0,\n        \"num_unique_values\": 4,\n        \"samples\": [\n          0.8916666666666667,\n          120.0,\n          0.9067796610169492\n        ],\n        \"semantic_type\": \"\",\n        \"description\": \"\"\n      }\n    },\n    {\n      \"column\": \"Irk\\u00e7\\u0131l\\u0131k\",\n      \"properties\": {\n        \"dtype\": \"number\",\n        \"std\": 48.564095058804504,\n        \"min\": 0.8673469387755102,\n        \"max\": 98.0,\n        \"num_unique_values\": 4,\n        \"samples\": [\n          0.8673469387755102,\n          98.0,\n          0.8762886597938144\n        ],\n        \"semantic_type\": \"\",\n        \"description\": \"\"\n      }\n    },\n    {\n      \"column\": \"K\\u0131zd\\u0131rma\",\n      \"properties\": {\n        \"dtype\": \"number\",\n        \"std\": 90.58420667986383,\n        \"min\": 0.8225806451612904,\n        \"max\": 182.0,\n        \"num_unique_values\": 4,\n        \"samples\": [\n          0.8406593406593407,\n          182.0,\n          0.8225806451612904\n        ],\n        \"semantic_type\": \"\",\n        \"description\": \"\"\n      }\n    },\n    {\n      \"column\": \"N\\u00f6tr\",\n      \"properties\": {\n        \"dtype\": \"number\",\n        \"std\": 97.5575428451117,\n        \"min\": 0.8826530612244898,\n        \"max\": 196.0,\n        \"num_unique_values\": 4,\n        \"samples\": [\n          0.8826530612244898,\n          196.0,\n          0.8871794871794871\n        ],\n        \"semantic_type\": \"\",\n        \"description\": \"\"\n      }\n    },\n    {\n      \"column\": \"accuracy\",\n      \"properties\": {\n        \"dtype\": \"number\",\n        \"std\": 0.0,\n        \"min\": 0.8691275167785235,\n        \"max\": 0.8691275167785235,\n        \"num_unique_values\": 1,\n        \"samples\": [\n          0.8691275167785235\n        ],\n        \"semantic_type\": \"\",\n        \"description\": \"\"\n      }\n    },\n    {\n      \"column\": \"macro avg\",\n      \"properties\": {\n        \"dtype\": \"number\",\n        \"std\": 297.5640607843814,\n        \"min\": 0.8705815018315018,\n        \"max\": 596.0,\n        \"num_unique_values\": 4,\n        \"samples\": [\n          0.8705815018315018\n        ],\n        \"semantic_type\": \"\",\n        \"description\": \"\"\n      }\n    },\n    {\n      \"column\": \"weighted avg\",\n      \"properties\": {\n        \"dtype\": \"number\",\n        \"std\": 297.5653240566225,\n        \"min\": 0.8691275167785235,\n        \"max\": 596.0,\n        \"num_unique_values\": 4,\n        \"samples\": [\n          0.8691275167785235\n        ],\n        \"semantic_type\": \"\",\n        \"description\": \"\"\n      }\n    }\n  ]\n}"
            }
          },
          "metadata": {},
          "execution_count": 34
        }
      ]
    },
    {
      "cell_type": "code",
      "source": [
        "from transformers import TextClassificationPipeline\n",
        "\n",
        "\n",
        "# Metinler\n",
        "texts = [\n",
        "    \"Tam pikniklik hava yalnız\",\n",
        "    \"Aptal zihniyetinizde bir Yunan yatıyor\",\n",
        "    \"maça giderken karısına soran adam maça gelmesin\",\n",
        "    \"kör olası çöpçüler aşkımı süpürmüşler\",\n",
        "    \"hala dünya klasiklerini okumamış cahillerle yaşıyorum\",\n",
        "    \"ermenilerden her haltı beklerim\",\n",
        "    \"seninle iyi anlaştık\",\n",
        "    \"büte kalmamış erkek örgü örsün\",\n",
        "    \"mühendisler bir halt bildiğini sananlar sürüsü\",\n",
        "    \"sende bende ne dediğimizi bilmiyoruz\",\n",
        "    \"güneş doğudan doğdu\",\n",
        "    \"hay ben senin\",\n",
        "    \"haha çok komik\",\n",
        "    \"haha çok komik güleyim bari\",\n",
        "    \"komik olduğunu mu sanıyorsun\",\n",
        "    \"kızlar pembe giysin\",\n",
        "    \"aşko sen bi git istenmiyorsun\",\n",
        "       \"çok cahil birisin\",\n",
        "    \"bu hallerine acıyorum\",\n",
        "    \"kızlar harici giremez\",\n",
        "    \"kes sesini\",\n",
        "    \"bu aralar iyiisn\",\n",
        "    \"akiili erdogan!\",\n",
        "    \"erdoğan abiye selam söyle\",\n",
        "    \"Türkler çayı sever\",\n",
        "    \"çok cahilsin\",\n",
        "    \"çok cahil biri\",\n",
        "    \"çok cahil birisin\",\n",
        "    \"ikimizde ne dediğimizi bilmiyoruz\"\n",
        "\n",
        "]\n",
        "\n",
        "# Model tahminleri\n",
        "pipe = TextClassificationPipeline(model=model, tokenizer=tokenizer, task=\"text-classification\")\n",
        "predictions = pipe(texts)\n",
        "\n",
        "# Sınıf adları\n",
        "class_names = {\n",
        "    \"LABEL_0\": 'Cinsiyetçilik',\n",
        "    \"LABEL_1\": 'Irkçılık',\n",
        "    \"LABEL_2\": 'Kızdırma',\n",
        "    \"LABEL_3\": 'Nötr'\n",
        "}\n",
        "\n",
        "# Tahmin sonuçlarını rapora dönüştürme\n",
        "report = pd.DataFrame(predictions)\n",
        "report['text'] = texts\n",
        "report['label'] = report['label'].map(class_names)\n",
        "report = report[['text', 'label', 'score']]\n",
        "\n",
        "# Raporu yazdırma\n",
        "print(report)"
      ],
      "metadata": {
        "colab": {
          "base_uri": "https://localhost:8080/"
        },
        "id": "bOJ1UaUZDv-t",
        "outputId": "96ebe972-17bf-4a96-e7a3-0b613c45ac5f"
      },
      "execution_count": null,
      "outputs": [
        {
          "output_type": "stream",
          "name": "stdout",
          "text": [
            "                                                 text          label     score\n",
            "0                           Tam pikniklik hava yalnız           Nötr  0.998927\n",
            "1              Aptal zihniyetinizde bir Yunan yatıyor       Irkçılık  0.999055\n",
            "2     maça giderken karısına soran adam maça gelmesin  Cinsiyetçilik  0.997780\n",
            "3               kör olası çöpçüler aşkımı süpürmüşler       Kızdırma  0.999566\n",
            "4   hala dünya klasiklerini okumamış cahillerle ya...       Kızdırma  0.998971\n",
            "5                     ermenilerden her haltı beklerim       Irkçılık  0.999026\n",
            "6                                seninle iyi anlaştık           Nötr  0.998887\n",
            "7                      büte kalmamış erkek örgü örsün  Cinsiyetçilik  0.998900\n",
            "8      mühendisler bir halt bildiğini sananlar sürüsü       Kızdırma  0.999566\n",
            "9                sende bende ne dediğimizi bilmiyoruz           Nötr  0.936625\n",
            "10                                güneş doğudan doğdu           Nötr  0.999156\n",
            "11                                      hay ben senin           Nötr  0.988585\n",
            "12                                     haha çok komik           Nötr  0.998761\n",
            "13                        haha çok komik güleyim bari           Nötr  0.998862\n",
            "14                       komik olduğunu mu sanıyorsun           Nötr  0.515296\n",
            "15                                kızlar pembe giysin  Cinsiyetçilik  0.998807\n",
            "16                      aşko sen bi git istenmiyorsun       Kızdırma  0.999385\n",
            "17                                  çok cahil birisin       Kızdırma  0.999337\n",
            "18                              bu hallerine acıyorum           Nötr  0.941216\n",
            "19                              kızlar harici giremez  Cinsiyetçilik  0.998118\n",
            "20                                         kes sesini       Kızdırma  0.999516\n",
            "21                                   bu aralar iyiisn           Nötr  0.998929\n",
            "22                                    akiili erdogan!       Kızdırma  0.914985\n",
            "23                          erdoğan abiye selam söyle           Nötr  0.999095\n",
            "24                                 Türkler çayı sever       Irkçılık  0.995221\n",
            "25                                       çok cahilsin       Kızdırma  0.999333\n",
            "26                                     çok cahil biri       Kızdırma  0.999330\n",
            "27                                  çok cahil birisin       Kızdırma  0.999337\n",
            "28                  ikimizde ne dediğimizi bilmiyoruz           Nötr  0.998811\n"
          ]
        }
      ]
    },
    {
      "cell_type": "code",
      "source": [
        "tokenizer.save_pretrained(\"./convbert-turkish-based-cyberbullyinG-tokenizer\")\n",
        "model.save_pretrained(\"./convbert-turkish-based-cyberbullyinG-model\")"
      ],
      "metadata": {
        "id": "anP-5GlCk9JL"
      },
      "execution_count": null,
      "outputs": []
    },
    {
      "cell_type": "code",
      "source": [
        "import shutil\n",
        "# Model ve tokenizer dosyalarını Google Drive'a taşıma\n",
        "shutil.move(\"./convbert-turkish-based-cyberbullyinG-tokenizer\", \"/content/drive/My Drive/\")\n",
        "shutil.move(\"./convbert-turkish-based-cyberbullyinG-model\", \"/content/drive/My Drive/\")"
      ],
      "metadata": {
        "colab": {
          "base_uri": "https://localhost:8080/",
          "height": 35
        },
        "id": "n-M8RgTZlE0Q",
        "outputId": "c3565a3e-9580-40be-87a9-2a8d0284fd5b"
      },
      "execution_count": null,
      "outputs": [
        {
          "output_type": "execute_result",
          "data": {
            "text/plain": [
              "'/content/drive/My Drive/convbert-turkish-based-cyberbullyinG-model'"
            ],
            "application/vnd.google.colaboratory.intrinsic+json": {
              "type": "string"
            }
          },
          "metadata": {},
          "execution_count": 37
        }
      ]
    }
  ]
}